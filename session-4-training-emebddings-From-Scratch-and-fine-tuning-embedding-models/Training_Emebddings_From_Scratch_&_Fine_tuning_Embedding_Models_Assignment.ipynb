{
  "nbformat": 4,
  "nbformat_minor": 0,
  "metadata": {
    "colab": {
      "provenance": [],
      "machine_shape": "hm",
      "gpuType": "L4"
    },
    "kernelspec": {
      "name": "python3",
      "display_name": "Python 3"
    },
    "language_info": {
      "name": "python"
    },
    "accelerator": "GPU",
    "widgets": {
      "application/vnd.jupyter.widget-state+json": {
        "a8d08ec56a7d4eba9f828ac1a179c809": {
          "model_module": "@jupyter-widgets/controls",
          "model_name": "HBoxModel",
          "model_module_version": "1.5.0",
          "state": {
            "_dom_classes": [],
            "_model_module": "@jupyter-widgets/controls",
            "_model_module_version": "1.5.0",
            "_model_name": "HBoxModel",
            "_view_count": null,
            "_view_module": "@jupyter-widgets/controls",
            "_view_module_version": "1.5.0",
            "_view_name": "HBoxView",
            "box_style": "",
            "children": [
              "IPY_MODEL_127a622199c34fbfb2830bab812fdb10",
              "IPY_MODEL_8ca2fbf4278544e2a495b3ccc98f2d9d",
              "IPY_MODEL_9cc5c7e26dbb4cb69501a30d803a8e91"
            ],
            "layout": "IPY_MODEL_0fceed18dd1a4846a1e76ba7b93cf785"
          }
        },
        "127a622199c34fbfb2830bab812fdb10": {
          "model_module": "@jupyter-widgets/controls",
          "model_name": "HTMLModel",
          "model_module_version": "1.5.0",
          "state": {
            "_dom_classes": [],
            "_model_module": "@jupyter-widgets/controls",
            "_model_module_version": "1.5.0",
            "_model_name": "HTMLModel",
            "_view_count": null,
            "_view_module": "@jupyter-widgets/controls",
            "_view_module_version": "1.5.0",
            "_view_name": "HTMLView",
            "description": "",
            "description_tooltip": null,
            "layout": "IPY_MODEL_c81d2c6979de462d8c2293b178ca9c57",
            "placeholder": "​",
            "style": "IPY_MODEL_6adb6a6835294bccbb5dab032e658809",
            "value": "modules.json: 100%"
          }
        },
        "8ca2fbf4278544e2a495b3ccc98f2d9d": {
          "model_module": "@jupyter-widgets/controls",
          "model_name": "FloatProgressModel",
          "model_module_version": "1.5.0",
          "state": {
            "_dom_classes": [],
            "_model_module": "@jupyter-widgets/controls",
            "_model_module_version": "1.5.0",
            "_model_name": "FloatProgressModel",
            "_view_count": null,
            "_view_module": "@jupyter-widgets/controls",
            "_view_module_version": "1.5.0",
            "_view_name": "ProgressView",
            "bar_style": "success",
            "description": "",
            "description_tooltip": null,
            "layout": "IPY_MODEL_e0eb3beb9a114313af96886671220bbd",
            "max": 349,
            "min": 0,
            "orientation": "horizontal",
            "style": "IPY_MODEL_b49c1ad30758480d8cfe9a4fe7ab9e2d",
            "value": 349
          }
        },
        "9cc5c7e26dbb4cb69501a30d803a8e91": {
          "model_module": "@jupyter-widgets/controls",
          "model_name": "HTMLModel",
          "model_module_version": "1.5.0",
          "state": {
            "_dom_classes": [],
            "_model_module": "@jupyter-widgets/controls",
            "_model_module_version": "1.5.0",
            "_model_name": "HTMLModel",
            "_view_count": null,
            "_view_module": "@jupyter-widgets/controls",
            "_view_module_version": "1.5.0",
            "_view_name": "HTMLView",
            "description": "",
            "description_tooltip": null,
            "layout": "IPY_MODEL_d4f5452cb45e4641b6968c80b7d115fc",
            "placeholder": "​",
            "style": "IPY_MODEL_4f1538fac0894090a0092e964fb05174",
            "value": " 349/349 [00:00&lt;00:00, 29.3kB/s]"
          }
        },
        "0fceed18dd1a4846a1e76ba7b93cf785": {
          "model_module": "@jupyter-widgets/base",
          "model_name": "LayoutModel",
          "model_module_version": "1.2.0",
          "state": {
            "_model_module": "@jupyter-widgets/base",
            "_model_module_version": "1.2.0",
            "_model_name": "LayoutModel",
            "_view_count": null,
            "_view_module": "@jupyter-widgets/base",
            "_view_module_version": "1.2.0",
            "_view_name": "LayoutView",
            "align_content": null,
            "align_items": null,
            "align_self": null,
            "border": null,
            "bottom": null,
            "display": null,
            "flex": null,
            "flex_flow": null,
            "grid_area": null,
            "grid_auto_columns": null,
            "grid_auto_flow": null,
            "grid_auto_rows": null,
            "grid_column": null,
            "grid_gap": null,
            "grid_row": null,
            "grid_template_areas": null,
            "grid_template_columns": null,
            "grid_template_rows": null,
            "height": null,
            "justify_content": null,
            "justify_items": null,
            "left": null,
            "margin": null,
            "max_height": null,
            "max_width": null,
            "min_height": null,
            "min_width": null,
            "object_fit": null,
            "object_position": null,
            "order": null,
            "overflow": null,
            "overflow_x": null,
            "overflow_y": null,
            "padding": null,
            "right": null,
            "top": null,
            "visibility": null,
            "width": null
          }
        },
        "c81d2c6979de462d8c2293b178ca9c57": {
          "model_module": "@jupyter-widgets/base",
          "model_name": "LayoutModel",
          "model_module_version": "1.2.0",
          "state": {
            "_model_module": "@jupyter-widgets/base",
            "_model_module_version": "1.2.0",
            "_model_name": "LayoutModel",
            "_view_count": null,
            "_view_module": "@jupyter-widgets/base",
            "_view_module_version": "1.2.0",
            "_view_name": "LayoutView",
            "align_content": null,
            "align_items": null,
            "align_self": null,
            "border": null,
            "bottom": null,
            "display": null,
            "flex": null,
            "flex_flow": null,
            "grid_area": null,
            "grid_auto_columns": null,
            "grid_auto_flow": null,
            "grid_auto_rows": null,
            "grid_column": null,
            "grid_gap": null,
            "grid_row": null,
            "grid_template_areas": null,
            "grid_template_columns": null,
            "grid_template_rows": null,
            "height": null,
            "justify_content": null,
            "justify_items": null,
            "left": null,
            "margin": null,
            "max_height": null,
            "max_width": null,
            "min_height": null,
            "min_width": null,
            "object_fit": null,
            "object_position": null,
            "order": null,
            "overflow": null,
            "overflow_x": null,
            "overflow_y": null,
            "padding": null,
            "right": null,
            "top": null,
            "visibility": null,
            "width": null
          }
        },
        "6adb6a6835294bccbb5dab032e658809": {
          "model_module": "@jupyter-widgets/controls",
          "model_name": "DescriptionStyleModel",
          "model_module_version": "1.5.0",
          "state": {
            "_model_module": "@jupyter-widgets/controls",
            "_model_module_version": "1.5.0",
            "_model_name": "DescriptionStyleModel",
            "_view_count": null,
            "_view_module": "@jupyter-widgets/base",
            "_view_module_version": "1.2.0",
            "_view_name": "StyleView",
            "description_width": ""
          }
        },
        "e0eb3beb9a114313af96886671220bbd": {
          "model_module": "@jupyter-widgets/base",
          "model_name": "LayoutModel",
          "model_module_version": "1.2.0",
          "state": {
            "_model_module": "@jupyter-widgets/base",
            "_model_module_version": "1.2.0",
            "_model_name": "LayoutModel",
            "_view_count": null,
            "_view_module": "@jupyter-widgets/base",
            "_view_module_version": "1.2.0",
            "_view_name": "LayoutView",
            "align_content": null,
            "align_items": null,
            "align_self": null,
            "border": null,
            "bottom": null,
            "display": null,
            "flex": null,
            "flex_flow": null,
            "grid_area": null,
            "grid_auto_columns": null,
            "grid_auto_flow": null,
            "grid_auto_rows": null,
            "grid_column": null,
            "grid_gap": null,
            "grid_row": null,
            "grid_template_areas": null,
            "grid_template_columns": null,
            "grid_template_rows": null,
            "height": null,
            "justify_content": null,
            "justify_items": null,
            "left": null,
            "margin": null,
            "max_height": null,
            "max_width": null,
            "min_height": null,
            "min_width": null,
            "object_fit": null,
            "object_position": null,
            "order": null,
            "overflow": null,
            "overflow_x": null,
            "overflow_y": null,
            "padding": null,
            "right": null,
            "top": null,
            "visibility": null,
            "width": null
          }
        },
        "b49c1ad30758480d8cfe9a4fe7ab9e2d": {
          "model_module": "@jupyter-widgets/controls",
          "model_name": "ProgressStyleModel",
          "model_module_version": "1.5.0",
          "state": {
            "_model_module": "@jupyter-widgets/controls",
            "_model_module_version": "1.5.0",
            "_model_name": "ProgressStyleModel",
            "_view_count": null,
            "_view_module": "@jupyter-widgets/base",
            "_view_module_version": "1.2.0",
            "_view_name": "StyleView",
            "bar_color": null,
            "description_width": ""
          }
        },
        "d4f5452cb45e4641b6968c80b7d115fc": {
          "model_module": "@jupyter-widgets/base",
          "model_name": "LayoutModel",
          "model_module_version": "1.2.0",
          "state": {
            "_model_module": "@jupyter-widgets/base",
            "_model_module_version": "1.2.0",
            "_model_name": "LayoutModel",
            "_view_count": null,
            "_view_module": "@jupyter-widgets/base",
            "_view_module_version": "1.2.0",
            "_view_name": "LayoutView",
            "align_content": null,
            "align_items": null,
            "align_self": null,
            "border": null,
            "bottom": null,
            "display": null,
            "flex": null,
            "flex_flow": null,
            "grid_area": null,
            "grid_auto_columns": null,
            "grid_auto_flow": null,
            "grid_auto_rows": null,
            "grid_column": null,
            "grid_gap": null,
            "grid_row": null,
            "grid_template_areas": null,
            "grid_template_columns": null,
            "grid_template_rows": null,
            "height": null,
            "justify_content": null,
            "justify_items": null,
            "left": null,
            "margin": null,
            "max_height": null,
            "max_width": null,
            "min_height": null,
            "min_width": null,
            "object_fit": null,
            "object_position": null,
            "order": null,
            "overflow": null,
            "overflow_x": null,
            "overflow_y": null,
            "padding": null,
            "right": null,
            "top": null,
            "visibility": null,
            "width": null
          }
        },
        "4f1538fac0894090a0092e964fb05174": {
          "model_module": "@jupyter-widgets/controls",
          "model_name": "DescriptionStyleModel",
          "model_module_version": "1.5.0",
          "state": {
            "_model_module": "@jupyter-widgets/controls",
            "_model_module_version": "1.5.0",
            "_model_name": "DescriptionStyleModel",
            "_view_count": null,
            "_view_module": "@jupyter-widgets/base",
            "_view_module_version": "1.2.0",
            "_view_name": "StyleView",
            "description_width": ""
          }
        },
        "a7f27464afb34ded8e31b2f71afd9136": {
          "model_module": "@jupyter-widgets/controls",
          "model_name": "HBoxModel",
          "model_module_version": "1.5.0",
          "state": {
            "_dom_classes": [],
            "_model_module": "@jupyter-widgets/controls",
            "_model_module_version": "1.5.0",
            "_model_name": "HBoxModel",
            "_view_count": null,
            "_view_module": "@jupyter-widgets/controls",
            "_view_module_version": "1.5.0",
            "_view_name": "HBoxView",
            "box_style": "",
            "children": [
              "IPY_MODEL_9d228f5d56ad47efbe5927ce24a8d10b",
              "IPY_MODEL_44cebb45b138453bae750fb7f5e9838e",
              "IPY_MODEL_154a702970ce41f8a05ab1a4438fc409"
            ],
            "layout": "IPY_MODEL_1b49e23df4844171be36231c3d579baf"
          }
        },
        "9d228f5d56ad47efbe5927ce24a8d10b": {
          "model_module": "@jupyter-widgets/controls",
          "model_name": "HTMLModel",
          "model_module_version": "1.5.0",
          "state": {
            "_dom_classes": [],
            "_model_module": "@jupyter-widgets/controls",
            "_model_module_version": "1.5.0",
            "_model_name": "HTMLModel",
            "_view_count": null,
            "_view_module": "@jupyter-widgets/controls",
            "_view_module_version": "1.5.0",
            "_view_name": "HTMLView",
            "description": "",
            "description_tooltip": null,
            "layout": "IPY_MODEL_52555fcb054740c5a923959ece2ffc0b",
            "placeholder": "​",
            "style": "IPY_MODEL_4829fee329bb4fdabbfa30bae92b390c",
            "value": "config_sentence_transformers.json: 100%"
          }
        },
        "44cebb45b138453bae750fb7f5e9838e": {
          "model_module": "@jupyter-widgets/controls",
          "model_name": "FloatProgressModel",
          "model_module_version": "1.5.0",
          "state": {
            "_dom_classes": [],
            "_model_module": "@jupyter-widgets/controls",
            "_model_module_version": "1.5.0",
            "_model_name": "FloatProgressModel",
            "_view_count": null,
            "_view_module": "@jupyter-widgets/controls",
            "_view_module_version": "1.5.0",
            "_view_name": "ProgressView",
            "bar_style": "success",
            "description": "",
            "description_tooltip": null,
            "layout": "IPY_MODEL_04810defe8824cd5bf1456a760dba676",
            "max": 124,
            "min": 0,
            "orientation": "horizontal",
            "style": "IPY_MODEL_fbede3e90b754a5b9369e3db387ee157",
            "value": 124
          }
        },
        "154a702970ce41f8a05ab1a4438fc409": {
          "model_module": "@jupyter-widgets/controls",
          "model_name": "HTMLModel",
          "model_module_version": "1.5.0",
          "state": {
            "_dom_classes": [],
            "_model_module": "@jupyter-widgets/controls",
            "_model_module_version": "1.5.0",
            "_model_name": "HTMLModel",
            "_view_count": null,
            "_view_module": "@jupyter-widgets/controls",
            "_view_module_version": "1.5.0",
            "_view_name": "HTMLView",
            "description": "",
            "description_tooltip": null,
            "layout": "IPY_MODEL_2c2dc2feabf443d1959b7689f4751ae2",
            "placeholder": "​",
            "style": "IPY_MODEL_6ee9ff0e38dc4602a041787fe32b88fa",
            "value": " 124/124 [00:00&lt;00:00, 11.3kB/s]"
          }
        },
        "1b49e23df4844171be36231c3d579baf": {
          "model_module": "@jupyter-widgets/base",
          "model_name": "LayoutModel",
          "model_module_version": "1.2.0",
          "state": {
            "_model_module": "@jupyter-widgets/base",
            "_model_module_version": "1.2.0",
            "_model_name": "LayoutModel",
            "_view_count": null,
            "_view_module": "@jupyter-widgets/base",
            "_view_module_version": "1.2.0",
            "_view_name": "LayoutView",
            "align_content": null,
            "align_items": null,
            "align_self": null,
            "border": null,
            "bottom": null,
            "display": null,
            "flex": null,
            "flex_flow": null,
            "grid_area": null,
            "grid_auto_columns": null,
            "grid_auto_flow": null,
            "grid_auto_rows": null,
            "grid_column": null,
            "grid_gap": null,
            "grid_row": null,
            "grid_template_areas": null,
            "grid_template_columns": null,
            "grid_template_rows": null,
            "height": null,
            "justify_content": null,
            "justify_items": null,
            "left": null,
            "margin": null,
            "max_height": null,
            "max_width": null,
            "min_height": null,
            "min_width": null,
            "object_fit": null,
            "object_position": null,
            "order": null,
            "overflow": null,
            "overflow_x": null,
            "overflow_y": null,
            "padding": null,
            "right": null,
            "top": null,
            "visibility": null,
            "width": null
          }
        },
        "52555fcb054740c5a923959ece2ffc0b": {
          "model_module": "@jupyter-widgets/base",
          "model_name": "LayoutModel",
          "model_module_version": "1.2.0",
          "state": {
            "_model_module": "@jupyter-widgets/base",
            "_model_module_version": "1.2.0",
            "_model_name": "LayoutModel",
            "_view_count": null,
            "_view_module": "@jupyter-widgets/base",
            "_view_module_version": "1.2.0",
            "_view_name": "LayoutView",
            "align_content": null,
            "align_items": null,
            "align_self": null,
            "border": null,
            "bottom": null,
            "display": null,
            "flex": null,
            "flex_flow": null,
            "grid_area": null,
            "grid_auto_columns": null,
            "grid_auto_flow": null,
            "grid_auto_rows": null,
            "grid_column": null,
            "grid_gap": null,
            "grid_row": null,
            "grid_template_areas": null,
            "grid_template_columns": null,
            "grid_template_rows": null,
            "height": null,
            "justify_content": null,
            "justify_items": null,
            "left": null,
            "margin": null,
            "max_height": null,
            "max_width": null,
            "min_height": null,
            "min_width": null,
            "object_fit": null,
            "object_position": null,
            "order": null,
            "overflow": null,
            "overflow_x": null,
            "overflow_y": null,
            "padding": null,
            "right": null,
            "top": null,
            "visibility": null,
            "width": null
          }
        },
        "4829fee329bb4fdabbfa30bae92b390c": {
          "model_module": "@jupyter-widgets/controls",
          "model_name": "DescriptionStyleModel",
          "model_module_version": "1.5.0",
          "state": {
            "_model_module": "@jupyter-widgets/controls",
            "_model_module_version": "1.5.0",
            "_model_name": "DescriptionStyleModel",
            "_view_count": null,
            "_view_module": "@jupyter-widgets/base",
            "_view_module_version": "1.2.0",
            "_view_name": "StyleView",
            "description_width": ""
          }
        },
        "04810defe8824cd5bf1456a760dba676": {
          "model_module": "@jupyter-widgets/base",
          "model_name": "LayoutModel",
          "model_module_version": "1.2.0",
          "state": {
            "_model_module": "@jupyter-widgets/base",
            "_model_module_version": "1.2.0",
            "_model_name": "LayoutModel",
            "_view_count": null,
            "_view_module": "@jupyter-widgets/base",
            "_view_module_version": "1.2.0",
            "_view_name": "LayoutView",
            "align_content": null,
            "align_items": null,
            "align_self": null,
            "border": null,
            "bottom": null,
            "display": null,
            "flex": null,
            "flex_flow": null,
            "grid_area": null,
            "grid_auto_columns": null,
            "grid_auto_flow": null,
            "grid_auto_rows": null,
            "grid_column": null,
            "grid_gap": null,
            "grid_row": null,
            "grid_template_areas": null,
            "grid_template_columns": null,
            "grid_template_rows": null,
            "height": null,
            "justify_content": null,
            "justify_items": null,
            "left": null,
            "margin": null,
            "max_height": null,
            "max_width": null,
            "min_height": null,
            "min_width": null,
            "object_fit": null,
            "object_position": null,
            "order": null,
            "overflow": null,
            "overflow_x": null,
            "overflow_y": null,
            "padding": null,
            "right": null,
            "top": null,
            "visibility": null,
            "width": null
          }
        },
        "fbede3e90b754a5b9369e3db387ee157": {
          "model_module": "@jupyter-widgets/controls",
          "model_name": "ProgressStyleModel",
          "model_module_version": "1.5.0",
          "state": {
            "_model_module": "@jupyter-widgets/controls",
            "_model_module_version": "1.5.0",
            "_model_name": "ProgressStyleModel",
            "_view_count": null,
            "_view_module": "@jupyter-widgets/base",
            "_view_module_version": "1.2.0",
            "_view_name": "StyleView",
            "bar_color": null,
            "description_width": ""
          }
        },
        "2c2dc2feabf443d1959b7689f4751ae2": {
          "model_module": "@jupyter-widgets/base",
          "model_name": "LayoutModel",
          "model_module_version": "1.2.0",
          "state": {
            "_model_module": "@jupyter-widgets/base",
            "_model_module_version": "1.2.0",
            "_model_name": "LayoutModel",
            "_view_count": null,
            "_view_module": "@jupyter-widgets/base",
            "_view_module_version": "1.2.0",
            "_view_name": "LayoutView",
            "align_content": null,
            "align_items": null,
            "align_self": null,
            "border": null,
            "bottom": null,
            "display": null,
            "flex": null,
            "flex_flow": null,
            "grid_area": null,
            "grid_auto_columns": null,
            "grid_auto_flow": null,
            "grid_auto_rows": null,
            "grid_column": null,
            "grid_gap": null,
            "grid_row": null,
            "grid_template_areas": null,
            "grid_template_columns": null,
            "grid_template_rows": null,
            "height": null,
            "justify_content": null,
            "justify_items": null,
            "left": null,
            "margin": null,
            "max_height": null,
            "max_width": null,
            "min_height": null,
            "min_width": null,
            "object_fit": null,
            "object_position": null,
            "order": null,
            "overflow": null,
            "overflow_x": null,
            "overflow_y": null,
            "padding": null,
            "right": null,
            "top": null,
            "visibility": null,
            "width": null
          }
        },
        "6ee9ff0e38dc4602a041787fe32b88fa": {
          "model_module": "@jupyter-widgets/controls",
          "model_name": "DescriptionStyleModel",
          "model_module_version": "1.5.0",
          "state": {
            "_model_module": "@jupyter-widgets/controls",
            "_model_module_version": "1.5.0",
            "_model_name": "DescriptionStyleModel",
            "_view_count": null,
            "_view_module": "@jupyter-widgets/base",
            "_view_module_version": "1.2.0",
            "_view_name": "StyleView",
            "description_width": ""
          }
        },
        "0d5e7ef88cb642d99f0effda506b4e02": {
          "model_module": "@jupyter-widgets/controls",
          "model_name": "HBoxModel",
          "model_module_version": "1.5.0",
          "state": {
            "_dom_classes": [],
            "_model_module": "@jupyter-widgets/controls",
            "_model_module_version": "1.5.0",
            "_model_name": "HBoxModel",
            "_view_count": null,
            "_view_module": "@jupyter-widgets/controls",
            "_view_module_version": "1.5.0",
            "_view_name": "HBoxView",
            "box_style": "",
            "children": [
              "IPY_MODEL_ea8e445bc708418487dd983d802b0a11",
              "IPY_MODEL_aa31c53f1f1d43ffa9fbada6bd7dfd41",
              "IPY_MODEL_52745436c8e941758f3a43883d4e4a66"
            ],
            "layout": "IPY_MODEL_0a07c29bd6e8450d9563ee3447671d41"
          }
        },
        "ea8e445bc708418487dd983d802b0a11": {
          "model_module": "@jupyter-widgets/controls",
          "model_name": "HTMLModel",
          "model_module_version": "1.5.0",
          "state": {
            "_dom_classes": [],
            "_model_module": "@jupyter-widgets/controls",
            "_model_module_version": "1.5.0",
            "_model_name": "HTMLModel",
            "_view_count": null,
            "_view_module": "@jupyter-widgets/controls",
            "_view_module_version": "1.5.0",
            "_view_name": "HTMLView",
            "description": "",
            "description_tooltip": null,
            "layout": "IPY_MODEL_2bbdb887cb4640f4bd2345777924d60d",
            "placeholder": "​",
            "style": "IPY_MODEL_d2a1aed341a942f2b05a706bc4fe0613",
            "value": "README.md: 100%"
          }
        },
        "aa31c53f1f1d43ffa9fbada6bd7dfd41": {
          "model_module": "@jupyter-widgets/controls",
          "model_name": "FloatProgressModel",
          "model_module_version": "1.5.0",
          "state": {
            "_dom_classes": [],
            "_model_module": "@jupyter-widgets/controls",
            "_model_module_version": "1.5.0",
            "_model_name": "FloatProgressModel",
            "_view_count": null,
            "_view_module": "@jupyter-widgets/controls",
            "_view_module_version": "1.5.0",
            "_view_name": "ProgressView",
            "bar_style": "success",
            "description": "",
            "description_tooltip": null,
            "layout": "IPY_MODEL_31b226b85f55492faa0ed6548da7ef0b",
            "max": 90797,
            "min": 0,
            "orientation": "horizontal",
            "style": "IPY_MODEL_6468aa89edeb4d3ebcac1e52e9fcc83d",
            "value": 90797
          }
        },
        "52745436c8e941758f3a43883d4e4a66": {
          "model_module": "@jupyter-widgets/controls",
          "model_name": "HTMLModel",
          "model_module_version": "1.5.0",
          "state": {
            "_dom_classes": [],
            "_model_module": "@jupyter-widgets/controls",
            "_model_module_version": "1.5.0",
            "_model_name": "HTMLModel",
            "_view_count": null,
            "_view_module": "@jupyter-widgets/controls",
            "_view_module_version": "1.5.0",
            "_view_name": "HTMLView",
            "description": "",
            "description_tooltip": null,
            "layout": "IPY_MODEL_852f9790257141d994972f828e2873e5",
            "placeholder": "​",
            "style": "IPY_MODEL_936d48cd8bfd476694cd31a75753bd0d",
            "value": " 90.8k/90.8k [00:00&lt;00:00, 402kB/s]"
          }
        },
        "0a07c29bd6e8450d9563ee3447671d41": {
          "model_module": "@jupyter-widgets/base",
          "model_name": "LayoutModel",
          "model_module_version": "1.2.0",
          "state": {
            "_model_module": "@jupyter-widgets/base",
            "_model_module_version": "1.2.0",
            "_model_name": "LayoutModel",
            "_view_count": null,
            "_view_module": "@jupyter-widgets/base",
            "_view_module_version": "1.2.0",
            "_view_name": "LayoutView",
            "align_content": null,
            "align_items": null,
            "align_self": null,
            "border": null,
            "bottom": null,
            "display": null,
            "flex": null,
            "flex_flow": null,
            "grid_area": null,
            "grid_auto_columns": null,
            "grid_auto_flow": null,
            "grid_auto_rows": null,
            "grid_column": null,
            "grid_gap": null,
            "grid_row": null,
            "grid_template_areas": null,
            "grid_template_columns": null,
            "grid_template_rows": null,
            "height": null,
            "justify_content": null,
            "justify_items": null,
            "left": null,
            "margin": null,
            "max_height": null,
            "max_width": null,
            "min_height": null,
            "min_width": null,
            "object_fit": null,
            "object_position": null,
            "order": null,
            "overflow": null,
            "overflow_x": null,
            "overflow_y": null,
            "padding": null,
            "right": null,
            "top": null,
            "visibility": null,
            "width": null
          }
        },
        "2bbdb887cb4640f4bd2345777924d60d": {
          "model_module": "@jupyter-widgets/base",
          "model_name": "LayoutModel",
          "model_module_version": "1.2.0",
          "state": {
            "_model_module": "@jupyter-widgets/base",
            "_model_module_version": "1.2.0",
            "_model_name": "LayoutModel",
            "_view_count": null,
            "_view_module": "@jupyter-widgets/base",
            "_view_module_version": "1.2.0",
            "_view_name": "LayoutView",
            "align_content": null,
            "align_items": null,
            "align_self": null,
            "border": null,
            "bottom": null,
            "display": null,
            "flex": null,
            "flex_flow": null,
            "grid_area": null,
            "grid_auto_columns": null,
            "grid_auto_flow": null,
            "grid_auto_rows": null,
            "grid_column": null,
            "grid_gap": null,
            "grid_row": null,
            "grid_template_areas": null,
            "grid_template_columns": null,
            "grid_template_rows": null,
            "height": null,
            "justify_content": null,
            "justify_items": null,
            "left": null,
            "margin": null,
            "max_height": null,
            "max_width": null,
            "min_height": null,
            "min_width": null,
            "object_fit": null,
            "object_position": null,
            "order": null,
            "overflow": null,
            "overflow_x": null,
            "overflow_y": null,
            "padding": null,
            "right": null,
            "top": null,
            "visibility": null,
            "width": null
          }
        },
        "d2a1aed341a942f2b05a706bc4fe0613": {
          "model_module": "@jupyter-widgets/controls",
          "model_name": "DescriptionStyleModel",
          "model_module_version": "1.5.0",
          "state": {
            "_model_module": "@jupyter-widgets/controls",
            "_model_module_version": "1.5.0",
            "_model_name": "DescriptionStyleModel",
            "_view_count": null,
            "_view_module": "@jupyter-widgets/base",
            "_view_module_version": "1.2.0",
            "_view_name": "StyleView",
            "description_width": ""
          }
        },
        "31b226b85f55492faa0ed6548da7ef0b": {
          "model_module": "@jupyter-widgets/base",
          "model_name": "LayoutModel",
          "model_module_version": "1.2.0",
          "state": {
            "_model_module": "@jupyter-widgets/base",
            "_model_module_version": "1.2.0",
            "_model_name": "LayoutModel",
            "_view_count": null,
            "_view_module": "@jupyter-widgets/base",
            "_view_module_version": "1.2.0",
            "_view_name": "LayoutView",
            "align_content": null,
            "align_items": null,
            "align_self": null,
            "border": null,
            "bottom": null,
            "display": null,
            "flex": null,
            "flex_flow": null,
            "grid_area": null,
            "grid_auto_columns": null,
            "grid_auto_flow": null,
            "grid_auto_rows": null,
            "grid_column": null,
            "grid_gap": null,
            "grid_row": null,
            "grid_template_areas": null,
            "grid_template_columns": null,
            "grid_template_rows": null,
            "height": null,
            "justify_content": null,
            "justify_items": null,
            "left": null,
            "margin": null,
            "max_height": null,
            "max_width": null,
            "min_height": null,
            "min_width": null,
            "object_fit": null,
            "object_position": null,
            "order": null,
            "overflow": null,
            "overflow_x": null,
            "overflow_y": null,
            "padding": null,
            "right": null,
            "top": null,
            "visibility": null,
            "width": null
          }
        },
        "6468aa89edeb4d3ebcac1e52e9fcc83d": {
          "model_module": "@jupyter-widgets/controls",
          "model_name": "ProgressStyleModel",
          "model_module_version": "1.5.0",
          "state": {
            "_model_module": "@jupyter-widgets/controls",
            "_model_module_version": "1.5.0",
            "_model_name": "ProgressStyleModel",
            "_view_count": null,
            "_view_module": "@jupyter-widgets/base",
            "_view_module_version": "1.2.0",
            "_view_name": "StyleView",
            "bar_color": null,
            "description_width": ""
          }
        },
        "852f9790257141d994972f828e2873e5": {
          "model_module": "@jupyter-widgets/base",
          "model_name": "LayoutModel",
          "model_module_version": "1.2.0",
          "state": {
            "_model_module": "@jupyter-widgets/base",
            "_model_module_version": "1.2.0",
            "_model_name": "LayoutModel",
            "_view_count": null,
            "_view_module": "@jupyter-widgets/base",
            "_view_module_version": "1.2.0",
            "_view_name": "LayoutView",
            "align_content": null,
            "align_items": null,
            "align_self": null,
            "border": null,
            "bottom": null,
            "display": null,
            "flex": null,
            "flex_flow": null,
            "grid_area": null,
            "grid_auto_columns": null,
            "grid_auto_flow": null,
            "grid_auto_rows": null,
            "grid_column": null,
            "grid_gap": null,
            "grid_row": null,
            "grid_template_areas": null,
            "grid_template_columns": null,
            "grid_template_rows": null,
            "height": null,
            "justify_content": null,
            "justify_items": null,
            "left": null,
            "margin": null,
            "max_height": null,
            "max_width": null,
            "min_height": null,
            "min_width": null,
            "object_fit": null,
            "object_position": null,
            "order": null,
            "overflow": null,
            "overflow_x": null,
            "overflow_y": null,
            "padding": null,
            "right": null,
            "top": null,
            "visibility": null,
            "width": null
          }
        },
        "936d48cd8bfd476694cd31a75753bd0d": {
          "model_module": "@jupyter-widgets/controls",
          "model_name": "DescriptionStyleModel",
          "model_module_version": "1.5.0",
          "state": {
            "_model_module": "@jupyter-widgets/controls",
            "_model_module_version": "1.5.0",
            "_model_name": "DescriptionStyleModel",
            "_view_count": null,
            "_view_module": "@jupyter-widgets/base",
            "_view_module_version": "1.2.0",
            "_view_name": "StyleView",
            "description_width": ""
          }
        },
        "f475755b0b19484ab468498d97c1151b": {
          "model_module": "@jupyter-widgets/controls",
          "model_name": "HBoxModel",
          "model_module_version": "1.5.0",
          "state": {
            "_dom_classes": [],
            "_model_module": "@jupyter-widgets/controls",
            "_model_module_version": "1.5.0",
            "_model_name": "HBoxModel",
            "_view_count": null,
            "_view_module": "@jupyter-widgets/controls",
            "_view_module_version": "1.5.0",
            "_view_name": "HBoxView",
            "box_style": "",
            "children": [
              "IPY_MODEL_5e2434931af041d7864670bd6ff82edb",
              "IPY_MODEL_598673981e2e4a228cf93db9457420a0",
              "IPY_MODEL_77a2a336f69b474a85df4f741bc5fb46"
            ],
            "layout": "IPY_MODEL_af5329867df440f09b8ff12234a62629"
          }
        },
        "5e2434931af041d7864670bd6ff82edb": {
          "model_module": "@jupyter-widgets/controls",
          "model_name": "HTMLModel",
          "model_module_version": "1.5.0",
          "state": {
            "_dom_classes": [],
            "_model_module": "@jupyter-widgets/controls",
            "_model_module_version": "1.5.0",
            "_model_name": "HTMLModel",
            "_view_count": null,
            "_view_module": "@jupyter-widgets/controls",
            "_view_module_version": "1.5.0",
            "_view_name": "HTMLView",
            "description": "",
            "description_tooltip": null,
            "layout": "IPY_MODEL_1c8d3e3ebd664c048b49d0e95d6738ec",
            "placeholder": "​",
            "style": "IPY_MODEL_367dfa0bcfa8484e8873b76d0eb5de5b",
            "value": "sentence_bert_config.json: 100%"
          }
        },
        "598673981e2e4a228cf93db9457420a0": {
          "model_module": "@jupyter-widgets/controls",
          "model_name": "FloatProgressModel",
          "model_module_version": "1.5.0",
          "state": {
            "_dom_classes": [],
            "_model_module": "@jupyter-widgets/controls",
            "_model_module_version": "1.5.0",
            "_model_name": "FloatProgressModel",
            "_view_count": null,
            "_view_module": "@jupyter-widgets/controls",
            "_view_module_version": "1.5.0",
            "_view_name": "ProgressView",
            "bar_style": "success",
            "description": "",
            "description_tooltip": null,
            "layout": "IPY_MODEL_1748b78cb2fc458eb9f7f9ba2ab9eb7d",
            "max": 52,
            "min": 0,
            "orientation": "horizontal",
            "style": "IPY_MODEL_00cad9a33b6749fd8990fc90ca1768e6",
            "value": 52
          }
        },
        "77a2a336f69b474a85df4f741bc5fb46": {
          "model_module": "@jupyter-widgets/controls",
          "model_name": "HTMLModel",
          "model_module_version": "1.5.0",
          "state": {
            "_dom_classes": [],
            "_model_module": "@jupyter-widgets/controls",
            "_model_module_version": "1.5.0",
            "_model_name": "HTMLModel",
            "_view_count": null,
            "_view_module": "@jupyter-widgets/controls",
            "_view_module_version": "1.5.0",
            "_view_name": "HTMLView",
            "description": "",
            "description_tooltip": null,
            "layout": "IPY_MODEL_ab940b6bd4c54a47916a01d4ff1cc6e7",
            "placeholder": "​",
            "style": "IPY_MODEL_0ec1d2a52c254cb4aecfd6466c3d14e6",
            "value": " 52.0/52.0 [00:00&lt;00:00, 4.77kB/s]"
          }
        },
        "af5329867df440f09b8ff12234a62629": {
          "model_module": "@jupyter-widgets/base",
          "model_name": "LayoutModel",
          "model_module_version": "1.2.0",
          "state": {
            "_model_module": "@jupyter-widgets/base",
            "_model_module_version": "1.2.0",
            "_model_name": "LayoutModel",
            "_view_count": null,
            "_view_module": "@jupyter-widgets/base",
            "_view_module_version": "1.2.0",
            "_view_name": "LayoutView",
            "align_content": null,
            "align_items": null,
            "align_self": null,
            "border": null,
            "bottom": null,
            "display": null,
            "flex": null,
            "flex_flow": null,
            "grid_area": null,
            "grid_auto_columns": null,
            "grid_auto_flow": null,
            "grid_auto_rows": null,
            "grid_column": null,
            "grid_gap": null,
            "grid_row": null,
            "grid_template_areas": null,
            "grid_template_columns": null,
            "grid_template_rows": null,
            "height": null,
            "justify_content": null,
            "justify_items": null,
            "left": null,
            "margin": null,
            "max_height": null,
            "max_width": null,
            "min_height": null,
            "min_width": null,
            "object_fit": null,
            "object_position": null,
            "order": null,
            "overflow": null,
            "overflow_x": null,
            "overflow_y": null,
            "padding": null,
            "right": null,
            "top": null,
            "visibility": null,
            "width": null
          }
        },
        "1c8d3e3ebd664c048b49d0e95d6738ec": {
          "model_module": "@jupyter-widgets/base",
          "model_name": "LayoutModel",
          "model_module_version": "1.2.0",
          "state": {
            "_model_module": "@jupyter-widgets/base",
            "_model_module_version": "1.2.0",
            "_model_name": "LayoutModel",
            "_view_count": null,
            "_view_module": "@jupyter-widgets/base",
            "_view_module_version": "1.2.0",
            "_view_name": "LayoutView",
            "align_content": null,
            "align_items": null,
            "align_self": null,
            "border": null,
            "bottom": null,
            "display": null,
            "flex": null,
            "flex_flow": null,
            "grid_area": null,
            "grid_auto_columns": null,
            "grid_auto_flow": null,
            "grid_auto_rows": null,
            "grid_column": null,
            "grid_gap": null,
            "grid_row": null,
            "grid_template_areas": null,
            "grid_template_columns": null,
            "grid_template_rows": null,
            "height": null,
            "justify_content": null,
            "justify_items": null,
            "left": null,
            "margin": null,
            "max_height": null,
            "max_width": null,
            "min_height": null,
            "min_width": null,
            "object_fit": null,
            "object_position": null,
            "order": null,
            "overflow": null,
            "overflow_x": null,
            "overflow_y": null,
            "padding": null,
            "right": null,
            "top": null,
            "visibility": null,
            "width": null
          }
        },
        "367dfa0bcfa8484e8873b76d0eb5de5b": {
          "model_module": "@jupyter-widgets/controls",
          "model_name": "DescriptionStyleModel",
          "model_module_version": "1.5.0",
          "state": {
            "_model_module": "@jupyter-widgets/controls",
            "_model_module_version": "1.5.0",
            "_model_name": "DescriptionStyleModel",
            "_view_count": null,
            "_view_module": "@jupyter-widgets/base",
            "_view_module_version": "1.2.0",
            "_view_name": "StyleView",
            "description_width": ""
          }
        },
        "1748b78cb2fc458eb9f7f9ba2ab9eb7d": {
          "model_module": "@jupyter-widgets/base",
          "model_name": "LayoutModel",
          "model_module_version": "1.2.0",
          "state": {
            "_model_module": "@jupyter-widgets/base",
            "_model_module_version": "1.2.0",
            "_model_name": "LayoutModel",
            "_view_count": null,
            "_view_module": "@jupyter-widgets/base",
            "_view_module_version": "1.2.0",
            "_view_name": "LayoutView",
            "align_content": null,
            "align_items": null,
            "align_self": null,
            "border": null,
            "bottom": null,
            "display": null,
            "flex": null,
            "flex_flow": null,
            "grid_area": null,
            "grid_auto_columns": null,
            "grid_auto_flow": null,
            "grid_auto_rows": null,
            "grid_column": null,
            "grid_gap": null,
            "grid_row": null,
            "grid_template_areas": null,
            "grid_template_columns": null,
            "grid_template_rows": null,
            "height": null,
            "justify_content": null,
            "justify_items": null,
            "left": null,
            "margin": null,
            "max_height": null,
            "max_width": null,
            "min_height": null,
            "min_width": null,
            "object_fit": null,
            "object_position": null,
            "order": null,
            "overflow": null,
            "overflow_x": null,
            "overflow_y": null,
            "padding": null,
            "right": null,
            "top": null,
            "visibility": null,
            "width": null
          }
        },
        "00cad9a33b6749fd8990fc90ca1768e6": {
          "model_module": "@jupyter-widgets/controls",
          "model_name": "ProgressStyleModel",
          "model_module_version": "1.5.0",
          "state": {
            "_model_module": "@jupyter-widgets/controls",
            "_model_module_version": "1.5.0",
            "_model_name": "ProgressStyleModel",
            "_view_count": null,
            "_view_module": "@jupyter-widgets/base",
            "_view_module_version": "1.2.0",
            "_view_name": "StyleView",
            "bar_color": null,
            "description_width": ""
          }
        },
        "ab940b6bd4c54a47916a01d4ff1cc6e7": {
          "model_module": "@jupyter-widgets/base",
          "model_name": "LayoutModel",
          "model_module_version": "1.2.0",
          "state": {
            "_model_module": "@jupyter-widgets/base",
            "_model_module_version": "1.2.0",
            "_model_name": "LayoutModel",
            "_view_count": null,
            "_view_module": "@jupyter-widgets/base",
            "_view_module_version": "1.2.0",
            "_view_name": "LayoutView",
            "align_content": null,
            "align_items": null,
            "align_self": null,
            "border": null,
            "bottom": null,
            "display": null,
            "flex": null,
            "flex_flow": null,
            "grid_area": null,
            "grid_auto_columns": null,
            "grid_auto_flow": null,
            "grid_auto_rows": null,
            "grid_column": null,
            "grid_gap": null,
            "grid_row": null,
            "grid_template_areas": null,
            "grid_template_columns": null,
            "grid_template_rows": null,
            "height": null,
            "justify_content": null,
            "justify_items": null,
            "left": null,
            "margin": null,
            "max_height": null,
            "max_width": null,
            "min_height": null,
            "min_width": null,
            "object_fit": null,
            "object_position": null,
            "order": null,
            "overflow": null,
            "overflow_x": null,
            "overflow_y": null,
            "padding": null,
            "right": null,
            "top": null,
            "visibility": null,
            "width": null
          }
        },
        "0ec1d2a52c254cb4aecfd6466c3d14e6": {
          "model_module": "@jupyter-widgets/controls",
          "model_name": "DescriptionStyleModel",
          "model_module_version": "1.5.0",
          "state": {
            "_model_module": "@jupyter-widgets/controls",
            "_model_module_version": "1.5.0",
            "_model_name": "DescriptionStyleModel",
            "_view_count": null,
            "_view_module": "@jupyter-widgets/base",
            "_view_module_version": "1.2.0",
            "_view_name": "StyleView",
            "description_width": ""
          }
        },
        "afb61133fae84e3e891d3c52637438c5": {
          "model_module": "@jupyter-widgets/controls",
          "model_name": "HBoxModel",
          "model_module_version": "1.5.0",
          "state": {
            "_dom_classes": [],
            "_model_module": "@jupyter-widgets/controls",
            "_model_module_version": "1.5.0",
            "_model_name": "HBoxModel",
            "_view_count": null,
            "_view_module": "@jupyter-widgets/controls",
            "_view_module_version": "1.5.0",
            "_view_name": "HBoxView",
            "box_style": "",
            "children": [
              "IPY_MODEL_433d3570ea7a4367ba4be6f3bc3bc2a1",
              "IPY_MODEL_123c517dd5ff4327be6679db96816565",
              "IPY_MODEL_bfa2d01baf084562a9543ed6c0c63520"
            ],
            "layout": "IPY_MODEL_f843569d19df450fa49c024442a58e7f"
          }
        },
        "433d3570ea7a4367ba4be6f3bc3bc2a1": {
          "model_module": "@jupyter-widgets/controls",
          "model_name": "HTMLModel",
          "model_module_version": "1.5.0",
          "state": {
            "_dom_classes": [],
            "_model_module": "@jupyter-widgets/controls",
            "_model_module_version": "1.5.0",
            "_model_name": "HTMLModel",
            "_view_count": null,
            "_view_module": "@jupyter-widgets/controls",
            "_view_module_version": "1.5.0",
            "_view_name": "HTMLView",
            "description": "",
            "description_tooltip": null,
            "layout": "IPY_MODEL_18e3bca4bb8c4c1883032f3e32508dde",
            "placeholder": "​",
            "style": "IPY_MODEL_7ac92efd81a244c8810ca69fb3028fee",
            "value": "config.json: 100%"
          }
        },
        "123c517dd5ff4327be6679db96816565": {
          "model_module": "@jupyter-widgets/controls",
          "model_name": "FloatProgressModel",
          "model_module_version": "1.5.0",
          "state": {
            "_dom_classes": [],
            "_model_module": "@jupyter-widgets/controls",
            "_model_module_version": "1.5.0",
            "_model_name": "FloatProgressModel",
            "_view_count": null,
            "_view_module": "@jupyter-widgets/controls",
            "_view_module_version": "1.5.0",
            "_view_name": "ProgressView",
            "bar_style": "success",
            "description": "",
            "description_tooltip": null,
            "layout": "IPY_MODEL_26f4e8653cac41a2a9eb10d6b98a8d61",
            "max": 684,
            "min": 0,
            "orientation": "horizontal",
            "style": "IPY_MODEL_b334122f47cd4f1f942ae6cba6f2500f",
            "value": 684
          }
        },
        "bfa2d01baf084562a9543ed6c0c63520": {
          "model_module": "@jupyter-widgets/controls",
          "model_name": "HTMLModel",
          "model_module_version": "1.5.0",
          "state": {
            "_dom_classes": [],
            "_model_module": "@jupyter-widgets/controls",
            "_model_module_version": "1.5.0",
            "_model_name": "HTMLModel",
            "_view_count": null,
            "_view_module": "@jupyter-widgets/controls",
            "_view_module_version": "1.5.0",
            "_view_name": "HTMLView",
            "description": "",
            "description_tooltip": null,
            "layout": "IPY_MODEL_b1ba6a28d1b94d9b8e04843699d6ec4b",
            "placeholder": "​",
            "style": "IPY_MODEL_070079a65d1843ff9b97c421959cfa9e",
            "value": " 684/684 [00:00&lt;00:00, 61.5kB/s]"
          }
        },
        "f843569d19df450fa49c024442a58e7f": {
          "model_module": "@jupyter-widgets/base",
          "model_name": "LayoutModel",
          "model_module_version": "1.2.0",
          "state": {
            "_model_module": "@jupyter-widgets/base",
            "_model_module_version": "1.2.0",
            "_model_name": "LayoutModel",
            "_view_count": null,
            "_view_module": "@jupyter-widgets/base",
            "_view_module_version": "1.2.0",
            "_view_name": "LayoutView",
            "align_content": null,
            "align_items": null,
            "align_self": null,
            "border": null,
            "bottom": null,
            "display": null,
            "flex": null,
            "flex_flow": null,
            "grid_area": null,
            "grid_auto_columns": null,
            "grid_auto_flow": null,
            "grid_auto_rows": null,
            "grid_column": null,
            "grid_gap": null,
            "grid_row": null,
            "grid_template_areas": null,
            "grid_template_columns": null,
            "grid_template_rows": null,
            "height": null,
            "justify_content": null,
            "justify_items": null,
            "left": null,
            "margin": null,
            "max_height": null,
            "max_width": null,
            "min_height": null,
            "min_width": null,
            "object_fit": null,
            "object_position": null,
            "order": null,
            "overflow": null,
            "overflow_x": null,
            "overflow_y": null,
            "padding": null,
            "right": null,
            "top": null,
            "visibility": null,
            "width": null
          }
        },
        "18e3bca4bb8c4c1883032f3e32508dde": {
          "model_module": "@jupyter-widgets/base",
          "model_name": "LayoutModel",
          "model_module_version": "1.2.0",
          "state": {
            "_model_module": "@jupyter-widgets/base",
            "_model_module_version": "1.2.0",
            "_model_name": "LayoutModel",
            "_view_count": null,
            "_view_module": "@jupyter-widgets/base",
            "_view_module_version": "1.2.0",
            "_view_name": "LayoutView",
            "align_content": null,
            "align_items": null,
            "align_self": null,
            "border": null,
            "bottom": null,
            "display": null,
            "flex": null,
            "flex_flow": null,
            "grid_area": null,
            "grid_auto_columns": null,
            "grid_auto_flow": null,
            "grid_auto_rows": null,
            "grid_column": null,
            "grid_gap": null,
            "grid_row": null,
            "grid_template_areas": null,
            "grid_template_columns": null,
            "grid_template_rows": null,
            "height": null,
            "justify_content": null,
            "justify_items": null,
            "left": null,
            "margin": null,
            "max_height": null,
            "max_width": null,
            "min_height": null,
            "min_width": null,
            "object_fit": null,
            "object_position": null,
            "order": null,
            "overflow": null,
            "overflow_x": null,
            "overflow_y": null,
            "padding": null,
            "right": null,
            "top": null,
            "visibility": null,
            "width": null
          }
        },
        "7ac92efd81a244c8810ca69fb3028fee": {
          "model_module": "@jupyter-widgets/controls",
          "model_name": "DescriptionStyleModel",
          "model_module_version": "1.5.0",
          "state": {
            "_model_module": "@jupyter-widgets/controls",
            "_model_module_version": "1.5.0",
            "_model_name": "DescriptionStyleModel",
            "_view_count": null,
            "_view_module": "@jupyter-widgets/base",
            "_view_module_version": "1.2.0",
            "_view_name": "StyleView",
            "description_width": ""
          }
        },
        "26f4e8653cac41a2a9eb10d6b98a8d61": {
          "model_module": "@jupyter-widgets/base",
          "model_name": "LayoutModel",
          "model_module_version": "1.2.0",
          "state": {
            "_model_module": "@jupyter-widgets/base",
            "_model_module_version": "1.2.0",
            "_model_name": "LayoutModel",
            "_view_count": null,
            "_view_module": "@jupyter-widgets/base",
            "_view_module_version": "1.2.0",
            "_view_name": "LayoutView",
            "align_content": null,
            "align_items": null,
            "align_self": null,
            "border": null,
            "bottom": null,
            "display": null,
            "flex": null,
            "flex_flow": null,
            "grid_area": null,
            "grid_auto_columns": null,
            "grid_auto_flow": null,
            "grid_auto_rows": null,
            "grid_column": null,
            "grid_gap": null,
            "grid_row": null,
            "grid_template_areas": null,
            "grid_template_columns": null,
            "grid_template_rows": null,
            "height": null,
            "justify_content": null,
            "justify_items": null,
            "left": null,
            "margin": null,
            "max_height": null,
            "max_width": null,
            "min_height": null,
            "min_width": null,
            "object_fit": null,
            "object_position": null,
            "order": null,
            "overflow": null,
            "overflow_x": null,
            "overflow_y": null,
            "padding": null,
            "right": null,
            "top": null,
            "visibility": null,
            "width": null
          }
        },
        "b334122f47cd4f1f942ae6cba6f2500f": {
          "model_module": "@jupyter-widgets/controls",
          "model_name": "ProgressStyleModel",
          "model_module_version": "1.5.0",
          "state": {
            "_model_module": "@jupyter-widgets/controls",
            "_model_module_version": "1.5.0",
            "_model_name": "ProgressStyleModel",
            "_view_count": null,
            "_view_module": "@jupyter-widgets/base",
            "_view_module_version": "1.2.0",
            "_view_name": "StyleView",
            "bar_color": null,
            "description_width": ""
          }
        },
        "b1ba6a28d1b94d9b8e04843699d6ec4b": {
          "model_module": "@jupyter-widgets/base",
          "model_name": "LayoutModel",
          "model_module_version": "1.2.0",
          "state": {
            "_model_module": "@jupyter-widgets/base",
            "_model_module_version": "1.2.0",
            "_model_name": "LayoutModel",
            "_view_count": null,
            "_view_module": "@jupyter-widgets/base",
            "_view_module_version": "1.2.0",
            "_view_name": "LayoutView",
            "align_content": null,
            "align_items": null,
            "align_self": null,
            "border": null,
            "bottom": null,
            "display": null,
            "flex": null,
            "flex_flow": null,
            "grid_area": null,
            "grid_auto_columns": null,
            "grid_auto_flow": null,
            "grid_auto_rows": null,
            "grid_column": null,
            "grid_gap": null,
            "grid_row": null,
            "grid_template_areas": null,
            "grid_template_columns": null,
            "grid_template_rows": null,
            "height": null,
            "justify_content": null,
            "justify_items": null,
            "left": null,
            "margin": null,
            "max_height": null,
            "max_width": null,
            "min_height": null,
            "min_width": null,
            "object_fit": null,
            "object_position": null,
            "order": null,
            "overflow": null,
            "overflow_x": null,
            "overflow_y": null,
            "padding": null,
            "right": null,
            "top": null,
            "visibility": null,
            "width": null
          }
        },
        "070079a65d1843ff9b97c421959cfa9e": {
          "model_module": "@jupyter-widgets/controls",
          "model_name": "DescriptionStyleModel",
          "model_module_version": "1.5.0",
          "state": {
            "_model_module": "@jupyter-widgets/controls",
            "_model_module_version": "1.5.0",
            "_model_name": "DescriptionStyleModel",
            "_view_count": null,
            "_view_module": "@jupyter-widgets/base",
            "_view_module_version": "1.2.0",
            "_view_name": "StyleView",
            "description_width": ""
          }
        },
        "c286758b311f43a38af7edb5ad133c7b": {
          "model_module": "@jupyter-widgets/controls",
          "model_name": "HBoxModel",
          "model_module_version": "1.5.0",
          "state": {
            "_dom_classes": [],
            "_model_module": "@jupyter-widgets/controls",
            "_model_module_version": "1.5.0",
            "_model_name": "HBoxModel",
            "_view_count": null,
            "_view_module": "@jupyter-widgets/controls",
            "_view_module_version": "1.5.0",
            "_view_name": "HBoxView",
            "box_style": "",
            "children": [
              "IPY_MODEL_4be9b4b597724add93e800c5b88cff71",
              "IPY_MODEL_38f0070da45d4cab82ed1a7bbce2c71b",
              "IPY_MODEL_bd94aaa031dd46c0b8b34a5e2245df78"
            ],
            "layout": "IPY_MODEL_8f779a77406648e9810709f3a9a162b9"
          }
        },
        "4be9b4b597724add93e800c5b88cff71": {
          "model_module": "@jupyter-widgets/controls",
          "model_name": "HTMLModel",
          "model_module_version": "1.5.0",
          "state": {
            "_dom_classes": [],
            "_model_module": "@jupyter-widgets/controls",
            "_model_module_version": "1.5.0",
            "_model_name": "HTMLModel",
            "_view_count": null,
            "_view_module": "@jupyter-widgets/controls",
            "_view_module_version": "1.5.0",
            "_view_name": "HTMLView",
            "description": "",
            "description_tooltip": null,
            "layout": "IPY_MODEL_f02f23801cbb484d9b76889b6cde5344",
            "placeholder": "​",
            "style": "IPY_MODEL_fbbcee4e64f343cb8aaefb5151bf0d67",
            "value": "model.safetensors: 100%"
          }
        },
        "38f0070da45d4cab82ed1a7bbce2c71b": {
          "model_module": "@jupyter-widgets/controls",
          "model_name": "FloatProgressModel",
          "model_module_version": "1.5.0",
          "state": {
            "_dom_classes": [],
            "_model_module": "@jupyter-widgets/controls",
            "_model_module_version": "1.5.0",
            "_model_name": "FloatProgressModel",
            "_view_count": null,
            "_view_module": "@jupyter-widgets/controls",
            "_view_module_version": "1.5.0",
            "_view_name": "ProgressView",
            "bar_style": "success",
            "description": "",
            "description_tooltip": null,
            "layout": "IPY_MODEL_f7352248af6647aea57fa941d6b61326",
            "max": 133466304,
            "min": 0,
            "orientation": "horizontal",
            "style": "IPY_MODEL_d279c6df1c5f4106941858edb5b6cf33",
            "value": 133466304
          }
        },
        "bd94aaa031dd46c0b8b34a5e2245df78": {
          "model_module": "@jupyter-widgets/controls",
          "model_name": "HTMLModel",
          "model_module_version": "1.5.0",
          "state": {
            "_dom_classes": [],
            "_model_module": "@jupyter-widgets/controls",
            "_model_module_version": "1.5.0",
            "_model_name": "HTMLModel",
            "_view_count": null,
            "_view_module": "@jupyter-widgets/controls",
            "_view_module_version": "1.5.0",
            "_view_name": "HTMLView",
            "description": "",
            "description_tooltip": null,
            "layout": "IPY_MODEL_7296132004bb475783240fd5d1984c29",
            "placeholder": "​",
            "style": "IPY_MODEL_9413a7c3db134e859d3c38b8fec591ad",
            "value": " 133M/133M [00:00&lt;00:00, 236MB/s]"
          }
        },
        "8f779a77406648e9810709f3a9a162b9": {
          "model_module": "@jupyter-widgets/base",
          "model_name": "LayoutModel",
          "model_module_version": "1.2.0",
          "state": {
            "_model_module": "@jupyter-widgets/base",
            "_model_module_version": "1.2.0",
            "_model_name": "LayoutModel",
            "_view_count": null,
            "_view_module": "@jupyter-widgets/base",
            "_view_module_version": "1.2.0",
            "_view_name": "LayoutView",
            "align_content": null,
            "align_items": null,
            "align_self": null,
            "border": null,
            "bottom": null,
            "display": null,
            "flex": null,
            "flex_flow": null,
            "grid_area": null,
            "grid_auto_columns": null,
            "grid_auto_flow": null,
            "grid_auto_rows": null,
            "grid_column": null,
            "grid_gap": null,
            "grid_row": null,
            "grid_template_areas": null,
            "grid_template_columns": null,
            "grid_template_rows": null,
            "height": null,
            "justify_content": null,
            "justify_items": null,
            "left": null,
            "margin": null,
            "max_height": null,
            "max_width": null,
            "min_height": null,
            "min_width": null,
            "object_fit": null,
            "object_position": null,
            "order": null,
            "overflow": null,
            "overflow_x": null,
            "overflow_y": null,
            "padding": null,
            "right": null,
            "top": null,
            "visibility": null,
            "width": null
          }
        },
        "f02f23801cbb484d9b76889b6cde5344": {
          "model_module": "@jupyter-widgets/base",
          "model_name": "LayoutModel",
          "model_module_version": "1.2.0",
          "state": {
            "_model_module": "@jupyter-widgets/base",
            "_model_module_version": "1.2.0",
            "_model_name": "LayoutModel",
            "_view_count": null,
            "_view_module": "@jupyter-widgets/base",
            "_view_module_version": "1.2.0",
            "_view_name": "LayoutView",
            "align_content": null,
            "align_items": null,
            "align_self": null,
            "border": null,
            "bottom": null,
            "display": null,
            "flex": null,
            "flex_flow": null,
            "grid_area": null,
            "grid_auto_columns": null,
            "grid_auto_flow": null,
            "grid_auto_rows": null,
            "grid_column": null,
            "grid_gap": null,
            "grid_row": null,
            "grid_template_areas": null,
            "grid_template_columns": null,
            "grid_template_rows": null,
            "height": null,
            "justify_content": null,
            "justify_items": null,
            "left": null,
            "margin": null,
            "max_height": null,
            "max_width": null,
            "min_height": null,
            "min_width": null,
            "object_fit": null,
            "object_position": null,
            "order": null,
            "overflow": null,
            "overflow_x": null,
            "overflow_y": null,
            "padding": null,
            "right": null,
            "top": null,
            "visibility": null,
            "width": null
          }
        },
        "fbbcee4e64f343cb8aaefb5151bf0d67": {
          "model_module": "@jupyter-widgets/controls",
          "model_name": "DescriptionStyleModel",
          "model_module_version": "1.5.0",
          "state": {
            "_model_module": "@jupyter-widgets/controls",
            "_model_module_version": "1.5.0",
            "_model_name": "DescriptionStyleModel",
            "_view_count": null,
            "_view_module": "@jupyter-widgets/base",
            "_view_module_version": "1.2.0",
            "_view_name": "StyleView",
            "description_width": ""
          }
        },
        "f7352248af6647aea57fa941d6b61326": {
          "model_module": "@jupyter-widgets/base",
          "model_name": "LayoutModel",
          "model_module_version": "1.2.0",
          "state": {
            "_model_module": "@jupyter-widgets/base",
            "_model_module_version": "1.2.0",
            "_model_name": "LayoutModel",
            "_view_count": null,
            "_view_module": "@jupyter-widgets/base",
            "_view_module_version": "1.2.0",
            "_view_name": "LayoutView",
            "align_content": null,
            "align_items": null,
            "align_self": null,
            "border": null,
            "bottom": null,
            "display": null,
            "flex": null,
            "flex_flow": null,
            "grid_area": null,
            "grid_auto_columns": null,
            "grid_auto_flow": null,
            "grid_auto_rows": null,
            "grid_column": null,
            "grid_gap": null,
            "grid_row": null,
            "grid_template_areas": null,
            "grid_template_columns": null,
            "grid_template_rows": null,
            "height": null,
            "justify_content": null,
            "justify_items": null,
            "left": null,
            "margin": null,
            "max_height": null,
            "max_width": null,
            "min_height": null,
            "min_width": null,
            "object_fit": null,
            "object_position": null,
            "order": null,
            "overflow": null,
            "overflow_x": null,
            "overflow_y": null,
            "padding": null,
            "right": null,
            "top": null,
            "visibility": null,
            "width": null
          }
        },
        "d279c6df1c5f4106941858edb5b6cf33": {
          "model_module": "@jupyter-widgets/controls",
          "model_name": "ProgressStyleModel",
          "model_module_version": "1.5.0",
          "state": {
            "_model_module": "@jupyter-widgets/controls",
            "_model_module_version": "1.5.0",
            "_model_name": "ProgressStyleModel",
            "_view_count": null,
            "_view_module": "@jupyter-widgets/base",
            "_view_module_version": "1.2.0",
            "_view_name": "StyleView",
            "bar_color": null,
            "description_width": ""
          }
        },
        "7296132004bb475783240fd5d1984c29": {
          "model_module": "@jupyter-widgets/base",
          "model_name": "LayoutModel",
          "model_module_version": "1.2.0",
          "state": {
            "_model_module": "@jupyter-widgets/base",
            "_model_module_version": "1.2.0",
            "_model_name": "LayoutModel",
            "_view_count": null,
            "_view_module": "@jupyter-widgets/base",
            "_view_module_version": "1.2.0",
            "_view_name": "LayoutView",
            "align_content": null,
            "align_items": null,
            "align_self": null,
            "border": null,
            "bottom": null,
            "display": null,
            "flex": null,
            "flex_flow": null,
            "grid_area": null,
            "grid_auto_columns": null,
            "grid_auto_flow": null,
            "grid_auto_rows": null,
            "grid_column": null,
            "grid_gap": null,
            "grid_row": null,
            "grid_template_areas": null,
            "grid_template_columns": null,
            "grid_template_rows": null,
            "height": null,
            "justify_content": null,
            "justify_items": null,
            "left": null,
            "margin": null,
            "max_height": null,
            "max_width": null,
            "min_height": null,
            "min_width": null,
            "object_fit": null,
            "object_position": null,
            "order": null,
            "overflow": null,
            "overflow_x": null,
            "overflow_y": null,
            "padding": null,
            "right": null,
            "top": null,
            "visibility": null,
            "width": null
          }
        },
        "9413a7c3db134e859d3c38b8fec591ad": {
          "model_module": "@jupyter-widgets/controls",
          "model_name": "DescriptionStyleModel",
          "model_module_version": "1.5.0",
          "state": {
            "_model_module": "@jupyter-widgets/controls",
            "_model_module_version": "1.5.0",
            "_model_name": "DescriptionStyleModel",
            "_view_count": null,
            "_view_module": "@jupyter-widgets/base",
            "_view_module_version": "1.2.0",
            "_view_name": "StyleView",
            "description_width": ""
          }
        },
        "d42ab371c23c45d6870210b7c29d3f9e": {
          "model_module": "@jupyter-widgets/controls",
          "model_name": "HBoxModel",
          "model_module_version": "1.5.0",
          "state": {
            "_dom_classes": [],
            "_model_module": "@jupyter-widgets/controls",
            "_model_module_version": "1.5.0",
            "_model_name": "HBoxModel",
            "_view_count": null,
            "_view_module": "@jupyter-widgets/controls",
            "_view_module_version": "1.5.0",
            "_view_name": "HBoxView",
            "box_style": "",
            "children": [
              "IPY_MODEL_094817f50c094d60be8d6f74ec4c4541",
              "IPY_MODEL_8832686d1f0f49b99a84743b257e27b7",
              "IPY_MODEL_87b8420b69f64ea185a631decf13874b"
            ],
            "layout": "IPY_MODEL_a9edb0b1a34c431392574715e398181d"
          }
        },
        "094817f50c094d60be8d6f74ec4c4541": {
          "model_module": "@jupyter-widgets/controls",
          "model_name": "HTMLModel",
          "model_module_version": "1.5.0",
          "state": {
            "_dom_classes": [],
            "_model_module": "@jupyter-widgets/controls",
            "_model_module_version": "1.5.0",
            "_model_name": "HTMLModel",
            "_view_count": null,
            "_view_module": "@jupyter-widgets/controls",
            "_view_module_version": "1.5.0",
            "_view_name": "HTMLView",
            "description": "",
            "description_tooltip": null,
            "layout": "IPY_MODEL_d27bcdfbd67c4e07969bf9a66db732b6",
            "placeholder": "​",
            "style": "IPY_MODEL_e6488bffc35e4f4398a1aafc1e8cd8df",
            "value": "tokenizer_config.json: 100%"
          }
        },
        "8832686d1f0f49b99a84743b257e27b7": {
          "model_module": "@jupyter-widgets/controls",
          "model_name": "FloatProgressModel",
          "model_module_version": "1.5.0",
          "state": {
            "_dom_classes": [],
            "_model_module": "@jupyter-widgets/controls",
            "_model_module_version": "1.5.0",
            "_model_name": "FloatProgressModel",
            "_view_count": null,
            "_view_module": "@jupyter-widgets/controls",
            "_view_module_version": "1.5.0",
            "_view_name": "ProgressView",
            "bar_style": "success",
            "description": "",
            "description_tooltip": null,
            "layout": "IPY_MODEL_24ec1b5d95db449087dc8f4ca3c159e7",
            "max": 366,
            "min": 0,
            "orientation": "horizontal",
            "style": "IPY_MODEL_ecd7e3a3a5a047c2a00c87065f279019",
            "value": 366
          }
        },
        "87b8420b69f64ea185a631decf13874b": {
          "model_module": "@jupyter-widgets/controls",
          "model_name": "HTMLModel",
          "model_module_version": "1.5.0",
          "state": {
            "_dom_classes": [],
            "_model_module": "@jupyter-widgets/controls",
            "_model_module_version": "1.5.0",
            "_model_name": "HTMLModel",
            "_view_count": null,
            "_view_module": "@jupyter-widgets/controls",
            "_view_module_version": "1.5.0",
            "_view_name": "HTMLView",
            "description": "",
            "description_tooltip": null,
            "layout": "IPY_MODEL_43ab8fa696c543c3bcf0f51f62ee7e79",
            "placeholder": "​",
            "style": "IPY_MODEL_be744ed0735d420a9b31d335e2cf4531",
            "value": " 366/366 [00:00&lt;00:00, 32.6kB/s]"
          }
        },
        "a9edb0b1a34c431392574715e398181d": {
          "model_module": "@jupyter-widgets/base",
          "model_name": "LayoutModel",
          "model_module_version": "1.2.0",
          "state": {
            "_model_module": "@jupyter-widgets/base",
            "_model_module_version": "1.2.0",
            "_model_name": "LayoutModel",
            "_view_count": null,
            "_view_module": "@jupyter-widgets/base",
            "_view_module_version": "1.2.0",
            "_view_name": "LayoutView",
            "align_content": null,
            "align_items": null,
            "align_self": null,
            "border": null,
            "bottom": null,
            "display": null,
            "flex": null,
            "flex_flow": null,
            "grid_area": null,
            "grid_auto_columns": null,
            "grid_auto_flow": null,
            "grid_auto_rows": null,
            "grid_column": null,
            "grid_gap": null,
            "grid_row": null,
            "grid_template_areas": null,
            "grid_template_columns": null,
            "grid_template_rows": null,
            "height": null,
            "justify_content": null,
            "justify_items": null,
            "left": null,
            "margin": null,
            "max_height": null,
            "max_width": null,
            "min_height": null,
            "min_width": null,
            "object_fit": null,
            "object_position": null,
            "order": null,
            "overflow": null,
            "overflow_x": null,
            "overflow_y": null,
            "padding": null,
            "right": null,
            "top": null,
            "visibility": null,
            "width": null
          }
        },
        "d27bcdfbd67c4e07969bf9a66db732b6": {
          "model_module": "@jupyter-widgets/base",
          "model_name": "LayoutModel",
          "model_module_version": "1.2.0",
          "state": {
            "_model_module": "@jupyter-widgets/base",
            "_model_module_version": "1.2.0",
            "_model_name": "LayoutModel",
            "_view_count": null,
            "_view_module": "@jupyter-widgets/base",
            "_view_module_version": "1.2.0",
            "_view_name": "LayoutView",
            "align_content": null,
            "align_items": null,
            "align_self": null,
            "border": null,
            "bottom": null,
            "display": null,
            "flex": null,
            "flex_flow": null,
            "grid_area": null,
            "grid_auto_columns": null,
            "grid_auto_flow": null,
            "grid_auto_rows": null,
            "grid_column": null,
            "grid_gap": null,
            "grid_row": null,
            "grid_template_areas": null,
            "grid_template_columns": null,
            "grid_template_rows": null,
            "height": null,
            "justify_content": null,
            "justify_items": null,
            "left": null,
            "margin": null,
            "max_height": null,
            "max_width": null,
            "min_height": null,
            "min_width": null,
            "object_fit": null,
            "object_position": null,
            "order": null,
            "overflow": null,
            "overflow_x": null,
            "overflow_y": null,
            "padding": null,
            "right": null,
            "top": null,
            "visibility": null,
            "width": null
          }
        },
        "e6488bffc35e4f4398a1aafc1e8cd8df": {
          "model_module": "@jupyter-widgets/controls",
          "model_name": "DescriptionStyleModel",
          "model_module_version": "1.5.0",
          "state": {
            "_model_module": "@jupyter-widgets/controls",
            "_model_module_version": "1.5.0",
            "_model_name": "DescriptionStyleModel",
            "_view_count": null,
            "_view_module": "@jupyter-widgets/base",
            "_view_module_version": "1.2.0",
            "_view_name": "StyleView",
            "description_width": ""
          }
        },
        "24ec1b5d95db449087dc8f4ca3c159e7": {
          "model_module": "@jupyter-widgets/base",
          "model_name": "LayoutModel",
          "model_module_version": "1.2.0",
          "state": {
            "_model_module": "@jupyter-widgets/base",
            "_model_module_version": "1.2.0",
            "_model_name": "LayoutModel",
            "_view_count": null,
            "_view_module": "@jupyter-widgets/base",
            "_view_module_version": "1.2.0",
            "_view_name": "LayoutView",
            "align_content": null,
            "align_items": null,
            "align_self": null,
            "border": null,
            "bottom": null,
            "display": null,
            "flex": null,
            "flex_flow": null,
            "grid_area": null,
            "grid_auto_columns": null,
            "grid_auto_flow": null,
            "grid_auto_rows": null,
            "grid_column": null,
            "grid_gap": null,
            "grid_row": null,
            "grid_template_areas": null,
            "grid_template_columns": null,
            "grid_template_rows": null,
            "height": null,
            "justify_content": null,
            "justify_items": null,
            "left": null,
            "margin": null,
            "max_height": null,
            "max_width": null,
            "min_height": null,
            "min_width": null,
            "object_fit": null,
            "object_position": null,
            "order": null,
            "overflow": null,
            "overflow_x": null,
            "overflow_y": null,
            "padding": null,
            "right": null,
            "top": null,
            "visibility": null,
            "width": null
          }
        },
        "ecd7e3a3a5a047c2a00c87065f279019": {
          "model_module": "@jupyter-widgets/controls",
          "model_name": "ProgressStyleModel",
          "model_module_version": "1.5.0",
          "state": {
            "_model_module": "@jupyter-widgets/controls",
            "_model_module_version": "1.5.0",
            "_model_name": "ProgressStyleModel",
            "_view_count": null,
            "_view_module": "@jupyter-widgets/base",
            "_view_module_version": "1.2.0",
            "_view_name": "StyleView",
            "bar_color": null,
            "description_width": ""
          }
        },
        "43ab8fa696c543c3bcf0f51f62ee7e79": {
          "model_module": "@jupyter-widgets/base",
          "model_name": "LayoutModel",
          "model_module_version": "1.2.0",
          "state": {
            "_model_module": "@jupyter-widgets/base",
            "_model_module_version": "1.2.0",
            "_model_name": "LayoutModel",
            "_view_count": null,
            "_view_module": "@jupyter-widgets/base",
            "_view_module_version": "1.2.0",
            "_view_name": "LayoutView",
            "align_content": null,
            "align_items": null,
            "align_self": null,
            "border": null,
            "bottom": null,
            "display": null,
            "flex": null,
            "flex_flow": null,
            "grid_area": null,
            "grid_auto_columns": null,
            "grid_auto_flow": null,
            "grid_auto_rows": null,
            "grid_column": null,
            "grid_gap": null,
            "grid_row": null,
            "grid_template_areas": null,
            "grid_template_columns": null,
            "grid_template_rows": null,
            "height": null,
            "justify_content": null,
            "justify_items": null,
            "left": null,
            "margin": null,
            "max_height": null,
            "max_width": null,
            "min_height": null,
            "min_width": null,
            "object_fit": null,
            "object_position": null,
            "order": null,
            "overflow": null,
            "overflow_x": null,
            "overflow_y": null,
            "padding": null,
            "right": null,
            "top": null,
            "visibility": null,
            "width": null
          }
        },
        "be744ed0735d420a9b31d335e2cf4531": {
          "model_module": "@jupyter-widgets/controls",
          "model_name": "DescriptionStyleModel",
          "model_module_version": "1.5.0",
          "state": {
            "_model_module": "@jupyter-widgets/controls",
            "_model_module_version": "1.5.0",
            "_model_name": "DescriptionStyleModel",
            "_view_count": null,
            "_view_module": "@jupyter-widgets/base",
            "_view_module_version": "1.2.0",
            "_view_name": "StyleView",
            "description_width": ""
          }
        },
        "10a056544fc942d3b7e868fbca09e216": {
          "model_module": "@jupyter-widgets/controls",
          "model_name": "HBoxModel",
          "model_module_version": "1.5.0",
          "state": {
            "_dom_classes": [],
            "_model_module": "@jupyter-widgets/controls",
            "_model_module_version": "1.5.0",
            "_model_name": "HBoxModel",
            "_view_count": null,
            "_view_module": "@jupyter-widgets/controls",
            "_view_module_version": "1.5.0",
            "_view_name": "HBoxView",
            "box_style": "",
            "children": [
              "IPY_MODEL_cb13ce44f46e44b0957ae04009fa1a3c",
              "IPY_MODEL_7af575e0ebe34cf38f36decf500188a1",
              "IPY_MODEL_3ec88763613e4bcfbb7c023a91d87c2e"
            ],
            "layout": "IPY_MODEL_db50e5bac6ae4e59ab229aa555650297"
          }
        },
        "cb13ce44f46e44b0957ae04009fa1a3c": {
          "model_module": "@jupyter-widgets/controls",
          "model_name": "HTMLModel",
          "model_module_version": "1.5.0",
          "state": {
            "_dom_classes": [],
            "_model_module": "@jupyter-widgets/controls",
            "_model_module_version": "1.5.0",
            "_model_name": "HTMLModel",
            "_view_count": null,
            "_view_module": "@jupyter-widgets/controls",
            "_view_module_version": "1.5.0",
            "_view_name": "HTMLView",
            "description": "",
            "description_tooltip": null,
            "layout": "IPY_MODEL_4281a8651bff47439b458f8c283b5282",
            "placeholder": "​",
            "style": "IPY_MODEL_c7b6f6938e904ce68f8585c494977990",
            "value": "vocab.txt: 100%"
          }
        },
        "7af575e0ebe34cf38f36decf500188a1": {
          "model_module": "@jupyter-widgets/controls",
          "model_name": "FloatProgressModel",
          "model_module_version": "1.5.0",
          "state": {
            "_dom_classes": [],
            "_model_module": "@jupyter-widgets/controls",
            "_model_module_version": "1.5.0",
            "_model_name": "FloatProgressModel",
            "_view_count": null,
            "_view_module": "@jupyter-widgets/controls",
            "_view_module_version": "1.5.0",
            "_view_name": "ProgressView",
            "bar_style": "success",
            "description": "",
            "description_tooltip": null,
            "layout": "IPY_MODEL_1ed57e77b68747b7a71637df86079778",
            "max": 231508,
            "min": 0,
            "orientation": "horizontal",
            "style": "IPY_MODEL_9d7fb4b9635f4a45ae7375402ef5d2b8",
            "value": 231508
          }
        },
        "3ec88763613e4bcfbb7c023a91d87c2e": {
          "model_module": "@jupyter-widgets/controls",
          "model_name": "HTMLModel",
          "model_module_version": "1.5.0",
          "state": {
            "_dom_classes": [],
            "_model_module": "@jupyter-widgets/controls",
            "_model_module_version": "1.5.0",
            "_model_name": "HTMLModel",
            "_view_count": null,
            "_view_module": "@jupyter-widgets/controls",
            "_view_module_version": "1.5.0",
            "_view_name": "HTMLView",
            "description": "",
            "description_tooltip": null,
            "layout": "IPY_MODEL_63b5d00c8e4d45da8035d5c3a8d4b8fc",
            "placeholder": "​",
            "style": "IPY_MODEL_ffdfc0cddeee49bf87232857ad800a55",
            "value": " 232k/232k [00:00&lt;00:00, 18.4MB/s]"
          }
        },
        "db50e5bac6ae4e59ab229aa555650297": {
          "model_module": "@jupyter-widgets/base",
          "model_name": "LayoutModel",
          "model_module_version": "1.2.0",
          "state": {
            "_model_module": "@jupyter-widgets/base",
            "_model_module_version": "1.2.0",
            "_model_name": "LayoutModel",
            "_view_count": null,
            "_view_module": "@jupyter-widgets/base",
            "_view_module_version": "1.2.0",
            "_view_name": "LayoutView",
            "align_content": null,
            "align_items": null,
            "align_self": null,
            "border": null,
            "bottom": null,
            "display": null,
            "flex": null,
            "flex_flow": null,
            "grid_area": null,
            "grid_auto_columns": null,
            "grid_auto_flow": null,
            "grid_auto_rows": null,
            "grid_column": null,
            "grid_gap": null,
            "grid_row": null,
            "grid_template_areas": null,
            "grid_template_columns": null,
            "grid_template_rows": null,
            "height": null,
            "justify_content": null,
            "justify_items": null,
            "left": null,
            "margin": null,
            "max_height": null,
            "max_width": null,
            "min_height": null,
            "min_width": null,
            "object_fit": null,
            "object_position": null,
            "order": null,
            "overflow": null,
            "overflow_x": null,
            "overflow_y": null,
            "padding": null,
            "right": null,
            "top": null,
            "visibility": null,
            "width": null
          }
        },
        "4281a8651bff47439b458f8c283b5282": {
          "model_module": "@jupyter-widgets/base",
          "model_name": "LayoutModel",
          "model_module_version": "1.2.0",
          "state": {
            "_model_module": "@jupyter-widgets/base",
            "_model_module_version": "1.2.0",
            "_model_name": "LayoutModel",
            "_view_count": null,
            "_view_module": "@jupyter-widgets/base",
            "_view_module_version": "1.2.0",
            "_view_name": "LayoutView",
            "align_content": null,
            "align_items": null,
            "align_self": null,
            "border": null,
            "bottom": null,
            "display": null,
            "flex": null,
            "flex_flow": null,
            "grid_area": null,
            "grid_auto_columns": null,
            "grid_auto_flow": null,
            "grid_auto_rows": null,
            "grid_column": null,
            "grid_gap": null,
            "grid_row": null,
            "grid_template_areas": null,
            "grid_template_columns": null,
            "grid_template_rows": null,
            "height": null,
            "justify_content": null,
            "justify_items": null,
            "left": null,
            "margin": null,
            "max_height": null,
            "max_width": null,
            "min_height": null,
            "min_width": null,
            "object_fit": null,
            "object_position": null,
            "order": null,
            "overflow": null,
            "overflow_x": null,
            "overflow_y": null,
            "padding": null,
            "right": null,
            "top": null,
            "visibility": null,
            "width": null
          }
        },
        "c7b6f6938e904ce68f8585c494977990": {
          "model_module": "@jupyter-widgets/controls",
          "model_name": "DescriptionStyleModel",
          "model_module_version": "1.5.0",
          "state": {
            "_model_module": "@jupyter-widgets/controls",
            "_model_module_version": "1.5.0",
            "_model_name": "DescriptionStyleModel",
            "_view_count": null,
            "_view_module": "@jupyter-widgets/base",
            "_view_module_version": "1.2.0",
            "_view_name": "StyleView",
            "description_width": ""
          }
        },
        "1ed57e77b68747b7a71637df86079778": {
          "model_module": "@jupyter-widgets/base",
          "model_name": "LayoutModel",
          "model_module_version": "1.2.0",
          "state": {
            "_model_module": "@jupyter-widgets/base",
            "_model_module_version": "1.2.0",
            "_model_name": "LayoutModel",
            "_view_count": null,
            "_view_module": "@jupyter-widgets/base",
            "_view_module_version": "1.2.0",
            "_view_name": "LayoutView",
            "align_content": null,
            "align_items": null,
            "align_self": null,
            "border": null,
            "bottom": null,
            "display": null,
            "flex": null,
            "flex_flow": null,
            "grid_area": null,
            "grid_auto_columns": null,
            "grid_auto_flow": null,
            "grid_auto_rows": null,
            "grid_column": null,
            "grid_gap": null,
            "grid_row": null,
            "grid_template_areas": null,
            "grid_template_columns": null,
            "grid_template_rows": null,
            "height": null,
            "justify_content": null,
            "justify_items": null,
            "left": null,
            "margin": null,
            "max_height": null,
            "max_width": null,
            "min_height": null,
            "min_width": null,
            "object_fit": null,
            "object_position": null,
            "order": null,
            "overflow": null,
            "overflow_x": null,
            "overflow_y": null,
            "padding": null,
            "right": null,
            "top": null,
            "visibility": null,
            "width": null
          }
        },
        "9d7fb4b9635f4a45ae7375402ef5d2b8": {
          "model_module": "@jupyter-widgets/controls",
          "model_name": "ProgressStyleModel",
          "model_module_version": "1.5.0",
          "state": {
            "_model_module": "@jupyter-widgets/controls",
            "_model_module_version": "1.5.0",
            "_model_name": "ProgressStyleModel",
            "_view_count": null,
            "_view_module": "@jupyter-widgets/base",
            "_view_module_version": "1.2.0",
            "_view_name": "StyleView",
            "bar_color": null,
            "description_width": ""
          }
        },
        "63b5d00c8e4d45da8035d5c3a8d4b8fc": {
          "model_module": "@jupyter-widgets/base",
          "model_name": "LayoutModel",
          "model_module_version": "1.2.0",
          "state": {
            "_model_module": "@jupyter-widgets/base",
            "_model_module_version": "1.2.0",
            "_model_name": "LayoutModel",
            "_view_count": null,
            "_view_module": "@jupyter-widgets/base",
            "_view_module_version": "1.2.0",
            "_view_name": "LayoutView",
            "align_content": null,
            "align_items": null,
            "align_self": null,
            "border": null,
            "bottom": null,
            "display": null,
            "flex": null,
            "flex_flow": null,
            "grid_area": null,
            "grid_auto_columns": null,
            "grid_auto_flow": null,
            "grid_auto_rows": null,
            "grid_column": null,
            "grid_gap": null,
            "grid_row": null,
            "grid_template_areas": null,
            "grid_template_columns": null,
            "grid_template_rows": null,
            "height": null,
            "justify_content": null,
            "justify_items": null,
            "left": null,
            "margin": null,
            "max_height": null,
            "max_width": null,
            "min_height": null,
            "min_width": null,
            "object_fit": null,
            "object_position": null,
            "order": null,
            "overflow": null,
            "overflow_x": null,
            "overflow_y": null,
            "padding": null,
            "right": null,
            "top": null,
            "visibility": null,
            "width": null
          }
        },
        "ffdfc0cddeee49bf87232857ad800a55": {
          "model_module": "@jupyter-widgets/controls",
          "model_name": "DescriptionStyleModel",
          "model_module_version": "1.5.0",
          "state": {
            "_model_module": "@jupyter-widgets/controls",
            "_model_module_version": "1.5.0",
            "_model_name": "DescriptionStyleModel",
            "_view_count": null,
            "_view_module": "@jupyter-widgets/base",
            "_view_module_version": "1.2.0",
            "_view_name": "StyleView",
            "description_width": ""
          }
        },
        "44e5ad9acb204a109578f8c7e29225a4": {
          "model_module": "@jupyter-widgets/controls",
          "model_name": "HBoxModel",
          "model_module_version": "1.5.0",
          "state": {
            "_dom_classes": [],
            "_model_module": "@jupyter-widgets/controls",
            "_model_module_version": "1.5.0",
            "_model_name": "HBoxModel",
            "_view_count": null,
            "_view_module": "@jupyter-widgets/controls",
            "_view_module_version": "1.5.0",
            "_view_name": "HBoxView",
            "box_style": "",
            "children": [
              "IPY_MODEL_a619e0b42ae34568ae1a7cd194c7d441",
              "IPY_MODEL_763f2946ac9549e69252082463f2056a",
              "IPY_MODEL_bd3aa6177c3a4459af78c5b39953b82e"
            ],
            "layout": "IPY_MODEL_a403eba3e5cd41249e4a5b5c9f86a000"
          }
        },
        "a619e0b42ae34568ae1a7cd194c7d441": {
          "model_module": "@jupyter-widgets/controls",
          "model_name": "HTMLModel",
          "model_module_version": "1.5.0",
          "state": {
            "_dom_classes": [],
            "_model_module": "@jupyter-widgets/controls",
            "_model_module_version": "1.5.0",
            "_model_name": "HTMLModel",
            "_view_count": null,
            "_view_module": "@jupyter-widgets/controls",
            "_view_module_version": "1.5.0",
            "_view_name": "HTMLView",
            "description": "",
            "description_tooltip": null,
            "layout": "IPY_MODEL_51781ac7bc2a45f78f6c9cfc080b326a",
            "placeholder": "​",
            "style": "IPY_MODEL_cc56bcd93e8d4caa9bed2c772dc8ca45",
            "value": "tokenizer.json: 100%"
          }
        },
        "763f2946ac9549e69252082463f2056a": {
          "model_module": "@jupyter-widgets/controls",
          "model_name": "FloatProgressModel",
          "model_module_version": "1.5.0",
          "state": {
            "_dom_classes": [],
            "_model_module": "@jupyter-widgets/controls",
            "_model_module_version": "1.5.0",
            "_model_name": "FloatProgressModel",
            "_view_count": null,
            "_view_module": "@jupyter-widgets/controls",
            "_view_module_version": "1.5.0",
            "_view_name": "ProgressView",
            "bar_style": "success",
            "description": "",
            "description_tooltip": null,
            "layout": "IPY_MODEL_922d78b0ec41435a888c123eb11ddef8",
            "max": 711396,
            "min": 0,
            "orientation": "horizontal",
            "style": "IPY_MODEL_eb96946d6dff444992800e251653277d",
            "value": 711396
          }
        },
        "bd3aa6177c3a4459af78c5b39953b82e": {
          "model_module": "@jupyter-widgets/controls",
          "model_name": "HTMLModel",
          "model_module_version": "1.5.0",
          "state": {
            "_dom_classes": [],
            "_model_module": "@jupyter-widgets/controls",
            "_model_module_version": "1.5.0",
            "_model_name": "HTMLModel",
            "_view_count": null,
            "_view_module": "@jupyter-widgets/controls",
            "_view_module_version": "1.5.0",
            "_view_name": "HTMLView",
            "description": "",
            "description_tooltip": null,
            "layout": "IPY_MODEL_db83d56374cb46ddadb49f4bb24cd5e6",
            "placeholder": "​",
            "style": "IPY_MODEL_260cd5940f6d4511a151e294733d9938",
            "value": " 711k/711k [00:00&lt;00:00, 853kB/s]"
          }
        },
        "a403eba3e5cd41249e4a5b5c9f86a000": {
          "model_module": "@jupyter-widgets/base",
          "model_name": "LayoutModel",
          "model_module_version": "1.2.0",
          "state": {
            "_model_module": "@jupyter-widgets/base",
            "_model_module_version": "1.2.0",
            "_model_name": "LayoutModel",
            "_view_count": null,
            "_view_module": "@jupyter-widgets/base",
            "_view_module_version": "1.2.0",
            "_view_name": "LayoutView",
            "align_content": null,
            "align_items": null,
            "align_self": null,
            "border": null,
            "bottom": null,
            "display": null,
            "flex": null,
            "flex_flow": null,
            "grid_area": null,
            "grid_auto_columns": null,
            "grid_auto_flow": null,
            "grid_auto_rows": null,
            "grid_column": null,
            "grid_gap": null,
            "grid_row": null,
            "grid_template_areas": null,
            "grid_template_columns": null,
            "grid_template_rows": null,
            "height": null,
            "justify_content": null,
            "justify_items": null,
            "left": null,
            "margin": null,
            "max_height": null,
            "max_width": null,
            "min_height": null,
            "min_width": null,
            "object_fit": null,
            "object_position": null,
            "order": null,
            "overflow": null,
            "overflow_x": null,
            "overflow_y": null,
            "padding": null,
            "right": null,
            "top": null,
            "visibility": null,
            "width": null
          }
        },
        "51781ac7bc2a45f78f6c9cfc080b326a": {
          "model_module": "@jupyter-widgets/base",
          "model_name": "LayoutModel",
          "model_module_version": "1.2.0",
          "state": {
            "_model_module": "@jupyter-widgets/base",
            "_model_module_version": "1.2.0",
            "_model_name": "LayoutModel",
            "_view_count": null,
            "_view_module": "@jupyter-widgets/base",
            "_view_module_version": "1.2.0",
            "_view_name": "LayoutView",
            "align_content": null,
            "align_items": null,
            "align_self": null,
            "border": null,
            "bottom": null,
            "display": null,
            "flex": null,
            "flex_flow": null,
            "grid_area": null,
            "grid_auto_columns": null,
            "grid_auto_flow": null,
            "grid_auto_rows": null,
            "grid_column": null,
            "grid_gap": null,
            "grid_row": null,
            "grid_template_areas": null,
            "grid_template_columns": null,
            "grid_template_rows": null,
            "height": null,
            "justify_content": null,
            "justify_items": null,
            "left": null,
            "margin": null,
            "max_height": null,
            "max_width": null,
            "min_height": null,
            "min_width": null,
            "object_fit": null,
            "object_position": null,
            "order": null,
            "overflow": null,
            "overflow_x": null,
            "overflow_y": null,
            "padding": null,
            "right": null,
            "top": null,
            "visibility": null,
            "width": null
          }
        },
        "cc56bcd93e8d4caa9bed2c772dc8ca45": {
          "model_module": "@jupyter-widgets/controls",
          "model_name": "DescriptionStyleModel",
          "model_module_version": "1.5.0",
          "state": {
            "_model_module": "@jupyter-widgets/controls",
            "_model_module_version": "1.5.0",
            "_model_name": "DescriptionStyleModel",
            "_view_count": null,
            "_view_module": "@jupyter-widgets/base",
            "_view_module_version": "1.2.0",
            "_view_name": "StyleView",
            "description_width": ""
          }
        },
        "922d78b0ec41435a888c123eb11ddef8": {
          "model_module": "@jupyter-widgets/base",
          "model_name": "LayoutModel",
          "model_module_version": "1.2.0",
          "state": {
            "_model_module": "@jupyter-widgets/base",
            "_model_module_version": "1.2.0",
            "_model_name": "LayoutModel",
            "_view_count": null,
            "_view_module": "@jupyter-widgets/base",
            "_view_module_version": "1.2.0",
            "_view_name": "LayoutView",
            "align_content": null,
            "align_items": null,
            "align_self": null,
            "border": null,
            "bottom": null,
            "display": null,
            "flex": null,
            "flex_flow": null,
            "grid_area": null,
            "grid_auto_columns": null,
            "grid_auto_flow": null,
            "grid_auto_rows": null,
            "grid_column": null,
            "grid_gap": null,
            "grid_row": null,
            "grid_template_areas": null,
            "grid_template_columns": null,
            "grid_template_rows": null,
            "height": null,
            "justify_content": null,
            "justify_items": null,
            "left": null,
            "margin": null,
            "max_height": null,
            "max_width": null,
            "min_height": null,
            "min_width": null,
            "object_fit": null,
            "object_position": null,
            "order": null,
            "overflow": null,
            "overflow_x": null,
            "overflow_y": null,
            "padding": null,
            "right": null,
            "top": null,
            "visibility": null,
            "width": null
          }
        },
        "eb96946d6dff444992800e251653277d": {
          "model_module": "@jupyter-widgets/controls",
          "model_name": "ProgressStyleModel",
          "model_module_version": "1.5.0",
          "state": {
            "_model_module": "@jupyter-widgets/controls",
            "_model_module_version": "1.5.0",
            "_model_name": "ProgressStyleModel",
            "_view_count": null,
            "_view_module": "@jupyter-widgets/base",
            "_view_module_version": "1.2.0",
            "_view_name": "StyleView",
            "bar_color": null,
            "description_width": ""
          }
        },
        "db83d56374cb46ddadb49f4bb24cd5e6": {
          "model_module": "@jupyter-widgets/base",
          "model_name": "LayoutModel",
          "model_module_version": "1.2.0",
          "state": {
            "_model_module": "@jupyter-widgets/base",
            "_model_module_version": "1.2.0",
            "_model_name": "LayoutModel",
            "_view_count": null,
            "_view_module": "@jupyter-widgets/base",
            "_view_module_version": "1.2.0",
            "_view_name": "LayoutView",
            "align_content": null,
            "align_items": null,
            "align_self": null,
            "border": null,
            "bottom": null,
            "display": null,
            "flex": null,
            "flex_flow": null,
            "grid_area": null,
            "grid_auto_columns": null,
            "grid_auto_flow": null,
            "grid_auto_rows": null,
            "grid_column": null,
            "grid_gap": null,
            "grid_row": null,
            "grid_template_areas": null,
            "grid_template_columns": null,
            "grid_template_rows": null,
            "height": null,
            "justify_content": null,
            "justify_items": null,
            "left": null,
            "margin": null,
            "max_height": null,
            "max_width": null,
            "min_height": null,
            "min_width": null,
            "object_fit": null,
            "object_position": null,
            "order": null,
            "overflow": null,
            "overflow_x": null,
            "overflow_y": null,
            "padding": null,
            "right": null,
            "top": null,
            "visibility": null,
            "width": null
          }
        },
        "260cd5940f6d4511a151e294733d9938": {
          "model_module": "@jupyter-widgets/controls",
          "model_name": "DescriptionStyleModel",
          "model_module_version": "1.5.0",
          "state": {
            "_model_module": "@jupyter-widgets/controls",
            "_model_module_version": "1.5.0",
            "_model_name": "DescriptionStyleModel",
            "_view_count": null,
            "_view_module": "@jupyter-widgets/base",
            "_view_module_version": "1.2.0",
            "_view_name": "StyleView",
            "description_width": ""
          }
        },
        "bb94b91179454ea8ba796533e146e3d1": {
          "model_module": "@jupyter-widgets/controls",
          "model_name": "HBoxModel",
          "model_module_version": "1.5.0",
          "state": {
            "_dom_classes": [],
            "_model_module": "@jupyter-widgets/controls",
            "_model_module_version": "1.5.0",
            "_model_name": "HBoxModel",
            "_view_count": null,
            "_view_module": "@jupyter-widgets/controls",
            "_view_module_version": "1.5.0",
            "_view_name": "HBoxView",
            "box_style": "",
            "children": [
              "IPY_MODEL_1da0662e23314776b469818ea6dcb16e",
              "IPY_MODEL_f521019e8384469183a72e2d9260e994",
              "IPY_MODEL_201eb974c7a24783a07765d9b44285ed"
            ],
            "layout": "IPY_MODEL_05e7ab22d8b543ccbd235bd8fa64622f"
          }
        },
        "1da0662e23314776b469818ea6dcb16e": {
          "model_module": "@jupyter-widgets/controls",
          "model_name": "HTMLModel",
          "model_module_version": "1.5.0",
          "state": {
            "_dom_classes": [],
            "_model_module": "@jupyter-widgets/controls",
            "_model_module_version": "1.5.0",
            "_model_name": "HTMLModel",
            "_view_count": null,
            "_view_module": "@jupyter-widgets/controls",
            "_view_module_version": "1.5.0",
            "_view_name": "HTMLView",
            "description": "",
            "description_tooltip": null,
            "layout": "IPY_MODEL_70d58cd3706f42cda6140b9847151e14",
            "placeholder": "​",
            "style": "IPY_MODEL_31cd2d30faed464a96b1d677f2cc0f71",
            "value": "special_tokens_map.json: 100%"
          }
        },
        "f521019e8384469183a72e2d9260e994": {
          "model_module": "@jupyter-widgets/controls",
          "model_name": "FloatProgressModel",
          "model_module_version": "1.5.0",
          "state": {
            "_dom_classes": [],
            "_model_module": "@jupyter-widgets/controls",
            "_model_module_version": "1.5.0",
            "_model_name": "FloatProgressModel",
            "_view_count": null,
            "_view_module": "@jupyter-widgets/controls",
            "_view_module_version": "1.5.0",
            "_view_name": "ProgressView",
            "bar_style": "success",
            "description": "",
            "description_tooltip": null,
            "layout": "IPY_MODEL_feef472910624c7683e592151a100cca",
            "max": 125,
            "min": 0,
            "orientation": "horizontal",
            "style": "IPY_MODEL_26c4af3b0df9473287deb4b380bb7d0b",
            "value": 125
          }
        },
        "201eb974c7a24783a07765d9b44285ed": {
          "model_module": "@jupyter-widgets/controls",
          "model_name": "HTMLModel",
          "model_module_version": "1.5.0",
          "state": {
            "_dom_classes": [],
            "_model_module": "@jupyter-widgets/controls",
            "_model_module_version": "1.5.0",
            "_model_name": "HTMLModel",
            "_view_count": null,
            "_view_module": "@jupyter-widgets/controls",
            "_view_module_version": "1.5.0",
            "_view_name": "HTMLView",
            "description": "",
            "description_tooltip": null,
            "layout": "IPY_MODEL_154714828b1e436095620335522cf58f",
            "placeholder": "​",
            "style": "IPY_MODEL_b56e2cf495b444fbb97f6fc9c4f9db3f",
            "value": " 125/125 [00:00&lt;00:00, 10.6kB/s]"
          }
        },
        "05e7ab22d8b543ccbd235bd8fa64622f": {
          "model_module": "@jupyter-widgets/base",
          "model_name": "LayoutModel",
          "model_module_version": "1.2.0",
          "state": {
            "_model_module": "@jupyter-widgets/base",
            "_model_module_version": "1.2.0",
            "_model_name": "LayoutModel",
            "_view_count": null,
            "_view_module": "@jupyter-widgets/base",
            "_view_module_version": "1.2.0",
            "_view_name": "LayoutView",
            "align_content": null,
            "align_items": null,
            "align_self": null,
            "border": null,
            "bottom": null,
            "display": null,
            "flex": null,
            "flex_flow": null,
            "grid_area": null,
            "grid_auto_columns": null,
            "grid_auto_flow": null,
            "grid_auto_rows": null,
            "grid_column": null,
            "grid_gap": null,
            "grid_row": null,
            "grid_template_areas": null,
            "grid_template_columns": null,
            "grid_template_rows": null,
            "height": null,
            "justify_content": null,
            "justify_items": null,
            "left": null,
            "margin": null,
            "max_height": null,
            "max_width": null,
            "min_height": null,
            "min_width": null,
            "object_fit": null,
            "object_position": null,
            "order": null,
            "overflow": null,
            "overflow_x": null,
            "overflow_y": null,
            "padding": null,
            "right": null,
            "top": null,
            "visibility": null,
            "width": null
          }
        },
        "70d58cd3706f42cda6140b9847151e14": {
          "model_module": "@jupyter-widgets/base",
          "model_name": "LayoutModel",
          "model_module_version": "1.2.0",
          "state": {
            "_model_module": "@jupyter-widgets/base",
            "_model_module_version": "1.2.0",
            "_model_name": "LayoutModel",
            "_view_count": null,
            "_view_module": "@jupyter-widgets/base",
            "_view_module_version": "1.2.0",
            "_view_name": "LayoutView",
            "align_content": null,
            "align_items": null,
            "align_self": null,
            "border": null,
            "bottom": null,
            "display": null,
            "flex": null,
            "flex_flow": null,
            "grid_area": null,
            "grid_auto_columns": null,
            "grid_auto_flow": null,
            "grid_auto_rows": null,
            "grid_column": null,
            "grid_gap": null,
            "grid_row": null,
            "grid_template_areas": null,
            "grid_template_columns": null,
            "grid_template_rows": null,
            "height": null,
            "justify_content": null,
            "justify_items": null,
            "left": null,
            "margin": null,
            "max_height": null,
            "max_width": null,
            "min_height": null,
            "min_width": null,
            "object_fit": null,
            "object_position": null,
            "order": null,
            "overflow": null,
            "overflow_x": null,
            "overflow_y": null,
            "padding": null,
            "right": null,
            "top": null,
            "visibility": null,
            "width": null
          }
        },
        "31cd2d30faed464a96b1d677f2cc0f71": {
          "model_module": "@jupyter-widgets/controls",
          "model_name": "DescriptionStyleModel",
          "model_module_version": "1.5.0",
          "state": {
            "_model_module": "@jupyter-widgets/controls",
            "_model_module_version": "1.5.0",
            "_model_name": "DescriptionStyleModel",
            "_view_count": null,
            "_view_module": "@jupyter-widgets/base",
            "_view_module_version": "1.2.0",
            "_view_name": "StyleView",
            "description_width": ""
          }
        },
        "feef472910624c7683e592151a100cca": {
          "model_module": "@jupyter-widgets/base",
          "model_name": "LayoutModel",
          "model_module_version": "1.2.0",
          "state": {
            "_model_module": "@jupyter-widgets/base",
            "_model_module_version": "1.2.0",
            "_model_name": "LayoutModel",
            "_view_count": null,
            "_view_module": "@jupyter-widgets/base",
            "_view_module_version": "1.2.0",
            "_view_name": "LayoutView",
            "align_content": null,
            "align_items": null,
            "align_self": null,
            "border": null,
            "bottom": null,
            "display": null,
            "flex": null,
            "flex_flow": null,
            "grid_area": null,
            "grid_auto_columns": null,
            "grid_auto_flow": null,
            "grid_auto_rows": null,
            "grid_column": null,
            "grid_gap": null,
            "grid_row": null,
            "grid_template_areas": null,
            "grid_template_columns": null,
            "grid_template_rows": null,
            "height": null,
            "justify_content": null,
            "justify_items": null,
            "left": null,
            "margin": null,
            "max_height": null,
            "max_width": null,
            "min_height": null,
            "min_width": null,
            "object_fit": null,
            "object_position": null,
            "order": null,
            "overflow": null,
            "overflow_x": null,
            "overflow_y": null,
            "padding": null,
            "right": null,
            "top": null,
            "visibility": null,
            "width": null
          }
        },
        "26c4af3b0df9473287deb4b380bb7d0b": {
          "model_module": "@jupyter-widgets/controls",
          "model_name": "ProgressStyleModel",
          "model_module_version": "1.5.0",
          "state": {
            "_model_module": "@jupyter-widgets/controls",
            "_model_module_version": "1.5.0",
            "_model_name": "ProgressStyleModel",
            "_view_count": null,
            "_view_module": "@jupyter-widgets/base",
            "_view_module_version": "1.2.0",
            "_view_name": "StyleView",
            "bar_color": null,
            "description_width": ""
          }
        },
        "154714828b1e436095620335522cf58f": {
          "model_module": "@jupyter-widgets/base",
          "model_name": "LayoutModel",
          "model_module_version": "1.2.0",
          "state": {
            "_model_module": "@jupyter-widgets/base",
            "_model_module_version": "1.2.0",
            "_model_name": "LayoutModel",
            "_view_count": null,
            "_view_module": "@jupyter-widgets/base",
            "_view_module_version": "1.2.0",
            "_view_name": "LayoutView",
            "align_content": null,
            "align_items": null,
            "align_self": null,
            "border": null,
            "bottom": null,
            "display": null,
            "flex": null,
            "flex_flow": null,
            "grid_area": null,
            "grid_auto_columns": null,
            "grid_auto_flow": null,
            "grid_auto_rows": null,
            "grid_column": null,
            "grid_gap": null,
            "grid_row": null,
            "grid_template_areas": null,
            "grid_template_columns": null,
            "grid_template_rows": null,
            "height": null,
            "justify_content": null,
            "justify_items": null,
            "left": null,
            "margin": null,
            "max_height": null,
            "max_width": null,
            "min_height": null,
            "min_width": null,
            "object_fit": null,
            "object_position": null,
            "order": null,
            "overflow": null,
            "overflow_x": null,
            "overflow_y": null,
            "padding": null,
            "right": null,
            "top": null,
            "visibility": null,
            "width": null
          }
        },
        "b56e2cf495b444fbb97f6fc9c4f9db3f": {
          "model_module": "@jupyter-widgets/controls",
          "model_name": "DescriptionStyleModel",
          "model_module_version": "1.5.0",
          "state": {
            "_model_module": "@jupyter-widgets/controls",
            "_model_module_version": "1.5.0",
            "_model_name": "DescriptionStyleModel",
            "_view_count": null,
            "_view_module": "@jupyter-widgets/base",
            "_view_module_version": "1.2.0",
            "_view_name": "StyleView",
            "description_width": ""
          }
        },
        "776be846567847a4a5e00bc84b2795b8": {
          "model_module": "@jupyter-widgets/controls",
          "model_name": "HBoxModel",
          "model_module_version": "1.5.0",
          "state": {
            "_dom_classes": [],
            "_model_module": "@jupyter-widgets/controls",
            "_model_module_version": "1.5.0",
            "_model_name": "HBoxModel",
            "_view_count": null,
            "_view_module": "@jupyter-widgets/controls",
            "_view_module_version": "1.5.0",
            "_view_name": "HBoxView",
            "box_style": "",
            "children": [
              "IPY_MODEL_9e0f204cf32c45bcbebfdab1a0937329",
              "IPY_MODEL_54ddad08e9cc4b6387dd41d7635885a3",
              "IPY_MODEL_37487daa3f294c4ba49540905ced2128"
            ],
            "layout": "IPY_MODEL_62bb48b9a6d14d27ad6dbd07fffb6a13"
          }
        },
        "9e0f204cf32c45bcbebfdab1a0937329": {
          "model_module": "@jupyter-widgets/controls",
          "model_name": "HTMLModel",
          "model_module_version": "1.5.0",
          "state": {
            "_dom_classes": [],
            "_model_module": "@jupyter-widgets/controls",
            "_model_module_version": "1.5.0",
            "_model_name": "HTMLModel",
            "_view_count": null,
            "_view_module": "@jupyter-widgets/controls",
            "_view_module_version": "1.5.0",
            "_view_name": "HTMLView",
            "description": "",
            "description_tooltip": null,
            "layout": "IPY_MODEL_893a4c5810494c65a2fd13fcf4ea123d",
            "placeholder": "​",
            "style": "IPY_MODEL_d920ef1c2cb84d79af1d20d5b06eb79f",
            "value": "1_Pooling/config.json: 100%"
          }
        },
        "54ddad08e9cc4b6387dd41d7635885a3": {
          "model_module": "@jupyter-widgets/controls",
          "model_name": "FloatProgressModel",
          "model_module_version": "1.5.0",
          "state": {
            "_dom_classes": [],
            "_model_module": "@jupyter-widgets/controls",
            "_model_module_version": "1.5.0",
            "_model_name": "FloatProgressModel",
            "_view_count": null,
            "_view_module": "@jupyter-widgets/controls",
            "_view_module_version": "1.5.0",
            "_view_name": "ProgressView",
            "bar_style": "success",
            "description": "",
            "description_tooltip": null,
            "layout": "IPY_MODEL_9e304654ff6442bd88c339c10ac80363",
            "max": 190,
            "min": 0,
            "orientation": "horizontal",
            "style": "IPY_MODEL_896228689b4a4e359ddf3668f74abd4b",
            "value": 190
          }
        },
        "37487daa3f294c4ba49540905ced2128": {
          "model_module": "@jupyter-widgets/controls",
          "model_name": "HTMLModel",
          "model_module_version": "1.5.0",
          "state": {
            "_dom_classes": [],
            "_model_module": "@jupyter-widgets/controls",
            "_model_module_version": "1.5.0",
            "_model_name": "HTMLModel",
            "_view_count": null,
            "_view_module": "@jupyter-widgets/controls",
            "_view_module_version": "1.5.0",
            "_view_name": "HTMLView",
            "description": "",
            "description_tooltip": null,
            "layout": "IPY_MODEL_6c59770d449946b0be4df92ece7abbb7",
            "placeholder": "​",
            "style": "IPY_MODEL_a1599381d0c548d0b2d047563c2cef16",
            "value": " 190/190 [00:00&lt;00:00, 15.2kB/s]"
          }
        },
        "62bb48b9a6d14d27ad6dbd07fffb6a13": {
          "model_module": "@jupyter-widgets/base",
          "model_name": "LayoutModel",
          "model_module_version": "1.2.0",
          "state": {
            "_model_module": "@jupyter-widgets/base",
            "_model_module_version": "1.2.0",
            "_model_name": "LayoutModel",
            "_view_count": null,
            "_view_module": "@jupyter-widgets/base",
            "_view_module_version": "1.2.0",
            "_view_name": "LayoutView",
            "align_content": null,
            "align_items": null,
            "align_self": null,
            "border": null,
            "bottom": null,
            "display": null,
            "flex": null,
            "flex_flow": null,
            "grid_area": null,
            "grid_auto_columns": null,
            "grid_auto_flow": null,
            "grid_auto_rows": null,
            "grid_column": null,
            "grid_gap": null,
            "grid_row": null,
            "grid_template_areas": null,
            "grid_template_columns": null,
            "grid_template_rows": null,
            "height": null,
            "justify_content": null,
            "justify_items": null,
            "left": null,
            "margin": null,
            "max_height": null,
            "max_width": null,
            "min_height": null,
            "min_width": null,
            "object_fit": null,
            "object_position": null,
            "order": null,
            "overflow": null,
            "overflow_x": null,
            "overflow_y": null,
            "padding": null,
            "right": null,
            "top": null,
            "visibility": null,
            "width": null
          }
        },
        "893a4c5810494c65a2fd13fcf4ea123d": {
          "model_module": "@jupyter-widgets/base",
          "model_name": "LayoutModel",
          "model_module_version": "1.2.0",
          "state": {
            "_model_module": "@jupyter-widgets/base",
            "_model_module_version": "1.2.0",
            "_model_name": "LayoutModel",
            "_view_count": null,
            "_view_module": "@jupyter-widgets/base",
            "_view_module_version": "1.2.0",
            "_view_name": "LayoutView",
            "align_content": null,
            "align_items": null,
            "align_self": null,
            "border": null,
            "bottom": null,
            "display": null,
            "flex": null,
            "flex_flow": null,
            "grid_area": null,
            "grid_auto_columns": null,
            "grid_auto_flow": null,
            "grid_auto_rows": null,
            "grid_column": null,
            "grid_gap": null,
            "grid_row": null,
            "grid_template_areas": null,
            "grid_template_columns": null,
            "grid_template_rows": null,
            "height": null,
            "justify_content": null,
            "justify_items": null,
            "left": null,
            "margin": null,
            "max_height": null,
            "max_width": null,
            "min_height": null,
            "min_width": null,
            "object_fit": null,
            "object_position": null,
            "order": null,
            "overflow": null,
            "overflow_x": null,
            "overflow_y": null,
            "padding": null,
            "right": null,
            "top": null,
            "visibility": null,
            "width": null
          }
        },
        "d920ef1c2cb84d79af1d20d5b06eb79f": {
          "model_module": "@jupyter-widgets/controls",
          "model_name": "DescriptionStyleModel",
          "model_module_version": "1.5.0",
          "state": {
            "_model_module": "@jupyter-widgets/controls",
            "_model_module_version": "1.5.0",
            "_model_name": "DescriptionStyleModel",
            "_view_count": null,
            "_view_module": "@jupyter-widgets/base",
            "_view_module_version": "1.2.0",
            "_view_name": "StyleView",
            "description_width": ""
          }
        },
        "9e304654ff6442bd88c339c10ac80363": {
          "model_module": "@jupyter-widgets/base",
          "model_name": "LayoutModel",
          "model_module_version": "1.2.0",
          "state": {
            "_model_module": "@jupyter-widgets/base",
            "_model_module_version": "1.2.0",
            "_model_name": "LayoutModel",
            "_view_count": null,
            "_view_module": "@jupyter-widgets/base",
            "_view_module_version": "1.2.0",
            "_view_name": "LayoutView",
            "align_content": null,
            "align_items": null,
            "align_self": null,
            "border": null,
            "bottom": null,
            "display": null,
            "flex": null,
            "flex_flow": null,
            "grid_area": null,
            "grid_auto_columns": null,
            "grid_auto_flow": null,
            "grid_auto_rows": null,
            "grid_column": null,
            "grid_gap": null,
            "grid_row": null,
            "grid_template_areas": null,
            "grid_template_columns": null,
            "grid_template_rows": null,
            "height": null,
            "justify_content": null,
            "justify_items": null,
            "left": null,
            "margin": null,
            "max_height": null,
            "max_width": null,
            "min_height": null,
            "min_width": null,
            "object_fit": null,
            "object_position": null,
            "order": null,
            "overflow": null,
            "overflow_x": null,
            "overflow_y": null,
            "padding": null,
            "right": null,
            "top": null,
            "visibility": null,
            "width": null
          }
        },
        "896228689b4a4e359ddf3668f74abd4b": {
          "model_module": "@jupyter-widgets/controls",
          "model_name": "ProgressStyleModel",
          "model_module_version": "1.5.0",
          "state": {
            "_model_module": "@jupyter-widgets/controls",
            "_model_module_version": "1.5.0",
            "_model_name": "ProgressStyleModel",
            "_view_count": null,
            "_view_module": "@jupyter-widgets/base",
            "_view_module_version": "1.2.0",
            "_view_name": "StyleView",
            "bar_color": null,
            "description_width": ""
          }
        },
        "6c59770d449946b0be4df92ece7abbb7": {
          "model_module": "@jupyter-widgets/base",
          "model_name": "LayoutModel",
          "model_module_version": "1.2.0",
          "state": {
            "_model_module": "@jupyter-widgets/base",
            "_model_module_version": "1.2.0",
            "_model_name": "LayoutModel",
            "_view_count": null,
            "_view_module": "@jupyter-widgets/base",
            "_view_module_version": "1.2.0",
            "_view_name": "LayoutView",
            "align_content": null,
            "align_items": null,
            "align_self": null,
            "border": null,
            "bottom": null,
            "display": null,
            "flex": null,
            "flex_flow": null,
            "grid_area": null,
            "grid_auto_columns": null,
            "grid_auto_flow": null,
            "grid_auto_rows": null,
            "grid_column": null,
            "grid_gap": null,
            "grid_row": null,
            "grid_template_areas": null,
            "grid_template_columns": null,
            "grid_template_rows": null,
            "height": null,
            "justify_content": null,
            "justify_items": null,
            "left": null,
            "margin": null,
            "max_height": null,
            "max_width": null,
            "min_height": null,
            "min_width": null,
            "object_fit": null,
            "object_position": null,
            "order": null,
            "overflow": null,
            "overflow_x": null,
            "overflow_y": null,
            "padding": null,
            "right": null,
            "top": null,
            "visibility": null,
            "width": null
          }
        },
        "a1599381d0c548d0b2d047563c2cef16": {
          "model_module": "@jupyter-widgets/controls",
          "model_name": "DescriptionStyleModel",
          "model_module_version": "1.5.0",
          "state": {
            "_model_module": "@jupyter-widgets/controls",
            "_model_module_version": "1.5.0",
            "_model_name": "DescriptionStyleModel",
            "_view_count": null,
            "_view_module": "@jupyter-widgets/base",
            "_view_module_version": "1.2.0",
            "_view_name": "StyleView",
            "description_width": ""
          }
        },
        "bc9e12a194234b13b14be948c671f0b9": {
          "model_module": "@jupyter-widgets/controls",
          "model_name": "HBoxModel",
          "model_module_version": "1.5.0",
          "state": {
            "_dom_classes": [],
            "_model_module": "@jupyter-widgets/controls",
            "_model_module_version": "1.5.0",
            "_model_name": "HBoxModel",
            "_view_count": null,
            "_view_module": "@jupyter-widgets/controls",
            "_view_module_version": "1.5.0",
            "_view_name": "HBoxView",
            "box_style": "",
            "children": [
              "IPY_MODEL_8a8504d6ef7247d9bfc02e76a046f6d0",
              "IPY_MODEL_24fa378a8d014ae3ad68428fe0a3652c",
              "IPY_MODEL_cee901dbda234726966120d8ef8d8cac"
            ],
            "layout": "IPY_MODEL_492eed978fc244afaccef3ebff63f5fa"
          }
        },
        "8a8504d6ef7247d9bfc02e76a046f6d0": {
          "model_module": "@jupyter-widgets/controls",
          "model_name": "HTMLModel",
          "model_module_version": "1.5.0",
          "state": {
            "_dom_classes": [],
            "_model_module": "@jupyter-widgets/controls",
            "_model_module_version": "1.5.0",
            "_model_name": "HTMLModel",
            "_view_count": null,
            "_view_module": "@jupyter-widgets/controls",
            "_view_module_version": "1.5.0",
            "_view_name": "HTMLView",
            "description": "",
            "description_tooltip": null,
            "layout": "IPY_MODEL_9b173f19180f40f38892b6fd1562e228",
            "placeholder": "​",
            "style": "IPY_MODEL_8164cfd502b84f54b7a2f8ea0f163346",
            "value": "Computing widget examples:   0%"
          }
        },
        "24fa378a8d014ae3ad68428fe0a3652c": {
          "model_module": "@jupyter-widgets/controls",
          "model_name": "FloatProgressModel",
          "model_module_version": "1.5.0",
          "state": {
            "_dom_classes": [],
            "_model_module": "@jupyter-widgets/controls",
            "_model_module_version": "1.5.0",
            "_model_name": "FloatProgressModel",
            "_view_count": null,
            "_view_module": "@jupyter-widgets/controls",
            "_view_module_version": "1.5.0",
            "_view_name": "ProgressView",
            "bar_style": "",
            "description": "",
            "description_tooltip": null,
            "layout": "IPY_MODEL_ad66487b77bb45d091b1d387f8bacd1b",
            "max": 1,
            "min": 0,
            "orientation": "horizontal",
            "style": "IPY_MODEL_32e190974a47478c905d1043fca91cf3",
            "value": 1
          }
        },
        "cee901dbda234726966120d8ef8d8cac": {
          "model_module": "@jupyter-widgets/controls",
          "model_name": "HTMLModel",
          "model_module_version": "1.5.0",
          "state": {
            "_dom_classes": [],
            "_model_module": "@jupyter-widgets/controls",
            "_model_module_version": "1.5.0",
            "_model_name": "HTMLModel",
            "_view_count": null,
            "_view_module": "@jupyter-widgets/controls",
            "_view_module_version": "1.5.0",
            "_view_name": "HTMLView",
            "description": "",
            "description_tooltip": null,
            "layout": "IPY_MODEL_4b91626ba8bc4f0099642e8cfbfeca21",
            "placeholder": "​",
            "style": "IPY_MODEL_8414abff75fc456ba2fdbf5ac493e309",
            "value": " 0/1 [00:00&lt;?, ?example/s]"
          }
        },
        "492eed978fc244afaccef3ebff63f5fa": {
          "model_module": "@jupyter-widgets/base",
          "model_name": "LayoutModel",
          "model_module_version": "1.2.0",
          "state": {
            "_model_module": "@jupyter-widgets/base",
            "_model_module_version": "1.2.0",
            "_model_name": "LayoutModel",
            "_view_count": null,
            "_view_module": "@jupyter-widgets/base",
            "_view_module_version": "1.2.0",
            "_view_name": "LayoutView",
            "align_content": null,
            "align_items": null,
            "align_self": null,
            "border": null,
            "bottom": null,
            "display": null,
            "flex": null,
            "flex_flow": null,
            "grid_area": null,
            "grid_auto_columns": null,
            "grid_auto_flow": null,
            "grid_auto_rows": null,
            "grid_column": null,
            "grid_gap": null,
            "grid_row": null,
            "grid_template_areas": null,
            "grid_template_columns": null,
            "grid_template_rows": null,
            "height": null,
            "justify_content": null,
            "justify_items": null,
            "left": null,
            "margin": null,
            "max_height": null,
            "max_width": null,
            "min_height": null,
            "min_width": null,
            "object_fit": null,
            "object_position": null,
            "order": null,
            "overflow": null,
            "overflow_x": null,
            "overflow_y": null,
            "padding": null,
            "right": null,
            "top": null,
            "visibility": "hidden",
            "width": null
          }
        },
        "9b173f19180f40f38892b6fd1562e228": {
          "model_module": "@jupyter-widgets/base",
          "model_name": "LayoutModel",
          "model_module_version": "1.2.0",
          "state": {
            "_model_module": "@jupyter-widgets/base",
            "_model_module_version": "1.2.0",
            "_model_name": "LayoutModel",
            "_view_count": null,
            "_view_module": "@jupyter-widgets/base",
            "_view_module_version": "1.2.0",
            "_view_name": "LayoutView",
            "align_content": null,
            "align_items": null,
            "align_self": null,
            "border": null,
            "bottom": null,
            "display": null,
            "flex": null,
            "flex_flow": null,
            "grid_area": null,
            "grid_auto_columns": null,
            "grid_auto_flow": null,
            "grid_auto_rows": null,
            "grid_column": null,
            "grid_gap": null,
            "grid_row": null,
            "grid_template_areas": null,
            "grid_template_columns": null,
            "grid_template_rows": null,
            "height": null,
            "justify_content": null,
            "justify_items": null,
            "left": null,
            "margin": null,
            "max_height": null,
            "max_width": null,
            "min_height": null,
            "min_width": null,
            "object_fit": null,
            "object_position": null,
            "order": null,
            "overflow": null,
            "overflow_x": null,
            "overflow_y": null,
            "padding": null,
            "right": null,
            "top": null,
            "visibility": null,
            "width": null
          }
        },
        "8164cfd502b84f54b7a2f8ea0f163346": {
          "model_module": "@jupyter-widgets/controls",
          "model_name": "DescriptionStyleModel",
          "model_module_version": "1.5.0",
          "state": {
            "_model_module": "@jupyter-widgets/controls",
            "_model_module_version": "1.5.0",
            "_model_name": "DescriptionStyleModel",
            "_view_count": null,
            "_view_module": "@jupyter-widgets/base",
            "_view_module_version": "1.2.0",
            "_view_name": "StyleView",
            "description_width": ""
          }
        },
        "ad66487b77bb45d091b1d387f8bacd1b": {
          "model_module": "@jupyter-widgets/base",
          "model_name": "LayoutModel",
          "model_module_version": "1.2.0",
          "state": {
            "_model_module": "@jupyter-widgets/base",
            "_model_module_version": "1.2.0",
            "_model_name": "LayoutModel",
            "_view_count": null,
            "_view_module": "@jupyter-widgets/base",
            "_view_module_version": "1.2.0",
            "_view_name": "LayoutView",
            "align_content": null,
            "align_items": null,
            "align_self": null,
            "border": null,
            "bottom": null,
            "display": null,
            "flex": null,
            "flex_flow": null,
            "grid_area": null,
            "grid_auto_columns": null,
            "grid_auto_flow": null,
            "grid_auto_rows": null,
            "grid_column": null,
            "grid_gap": null,
            "grid_row": null,
            "grid_template_areas": null,
            "grid_template_columns": null,
            "grid_template_rows": null,
            "height": null,
            "justify_content": null,
            "justify_items": null,
            "left": null,
            "margin": null,
            "max_height": null,
            "max_width": null,
            "min_height": null,
            "min_width": null,
            "object_fit": null,
            "object_position": null,
            "order": null,
            "overflow": null,
            "overflow_x": null,
            "overflow_y": null,
            "padding": null,
            "right": null,
            "top": null,
            "visibility": null,
            "width": null
          }
        },
        "32e190974a47478c905d1043fca91cf3": {
          "model_module": "@jupyter-widgets/controls",
          "model_name": "ProgressStyleModel",
          "model_module_version": "1.5.0",
          "state": {
            "_model_module": "@jupyter-widgets/controls",
            "_model_module_version": "1.5.0",
            "_model_name": "ProgressStyleModel",
            "_view_count": null,
            "_view_module": "@jupyter-widgets/base",
            "_view_module_version": "1.2.0",
            "_view_name": "StyleView",
            "bar_color": null,
            "description_width": ""
          }
        },
        "4b91626ba8bc4f0099642e8cfbfeca21": {
          "model_module": "@jupyter-widgets/base",
          "model_name": "LayoutModel",
          "model_module_version": "1.2.0",
          "state": {
            "_model_module": "@jupyter-widgets/base",
            "_model_module_version": "1.2.0",
            "_model_name": "LayoutModel",
            "_view_count": null,
            "_view_module": "@jupyter-widgets/base",
            "_view_module_version": "1.2.0",
            "_view_name": "LayoutView",
            "align_content": null,
            "align_items": null,
            "align_self": null,
            "border": null,
            "bottom": null,
            "display": null,
            "flex": null,
            "flex_flow": null,
            "grid_area": null,
            "grid_auto_columns": null,
            "grid_auto_flow": null,
            "grid_auto_rows": null,
            "grid_column": null,
            "grid_gap": null,
            "grid_row": null,
            "grid_template_areas": null,
            "grid_template_columns": null,
            "grid_template_rows": null,
            "height": null,
            "justify_content": null,
            "justify_items": null,
            "left": null,
            "margin": null,
            "max_height": null,
            "max_width": null,
            "min_height": null,
            "min_width": null,
            "object_fit": null,
            "object_position": null,
            "order": null,
            "overflow": null,
            "overflow_x": null,
            "overflow_y": null,
            "padding": null,
            "right": null,
            "top": null,
            "visibility": null,
            "width": null
          }
        },
        "8414abff75fc456ba2fdbf5ac493e309": {
          "model_module": "@jupyter-widgets/controls",
          "model_name": "DescriptionStyleModel",
          "model_module_version": "1.5.0",
          "state": {
            "_model_module": "@jupyter-widgets/controls",
            "_model_module_version": "1.5.0",
            "_model_name": "DescriptionStyleModel",
            "_view_count": null,
            "_view_module": "@jupyter-widgets/base",
            "_view_module_version": "1.2.0",
            "_view_name": "StyleView",
            "description_width": ""
          }
        }
      }
    }
  },
  "cells": [
    {
      "cell_type": "markdown",
      "source": [
        "# Embeddings & You - A Brief Introduction to Embeddings in Machine Learning\n",
        "\n",
        "If you've toyed with LangChain, LlamaIndex, or even OpenAI's `ada` model - you've likely run into the word: \"Embeddings\" a few time.\n",
        "\n",
        "They've had a recent surge in popularity due to the profliferation of Retrieval Augmented Generation, but they've been around for a very long time.\n",
        "\n",
        "If you come from an NLP background, embeddings are something you might be intimately familiar with - otherwise, you might find the topic a bit...dense. (this attempt at a joke will make more sense later)\n",
        "\n",
        "In all seriousness, embeddings are a powerful piece of the NLP puzzle, so let's dive in!\n",
        "\n",
        "> NOTE: While this notebook language/NLP-centric, embeddings have uses beyond just text!\n",
        "\n",
        "## Notebook Table of Contents:\n",
        "\n",
        "- Breakout Room #1: Training Word2Vec from Scratch\n",
        "  - Task 1: Dependencies\n",
        "  - Task 2: Data Collection\n",
        "  - Task 3: Data Preprocessing\n",
        "    - ❓ Question #1\n",
        "    - 👪❓ Discussion Question #1\n",
        "  - Task 4: Training Word2Vec\n",
        "    - 🏗️ Activity #1\n",
        "    - ❓ Question #2\n",
        "- Breakout Room #2:\n",
        "  - Task 1: Fine-tuning Our Embedding Model\n",
        "    - ❓ Question #3\n",
        "    - 🏗️ Activity #2\n",
        "  - Task 2: Evaluating our Embedding Model\n",
        "    - 👪❓ Discussion Question #2"
      ],
      "metadata": {
        "id": "3ZO_xiWUoSKX"
      }
    },
    {
      "cell_type": "markdown",
      "source": [
        "### Why Do We Even Need Embeddings?\n",
        "\n",
        "In order to fully understand what Embeddings are, we first need to understand why we have them:\n",
        "\n",
        "Machine Learning algorithms, ranging from the very big to the very small, all have one thing in common:\n",
        "\n",
        "*They need numeric inputs.*\n",
        "\n",
        "So we need a process by which to translate the domain we live in, dominated by images, audio, language, and more, into the domain of the machine: Numbers.\n",
        "\n",
        "Another thing we want to be able to do is capture \"semantic information\" about words/phrases so that we can use algorithmic approaches to determine if words are closely related or not!\n",
        "\n",
        "So, we need to come up with a process that does these two things well:\n",
        "\n",
        "1. Convert non-numeric data into numeric-data\n",
        "2. Capture potential semantic relationships between individual pieces of data"
      ],
      "metadata": {
        "id": "P70JnMeToYd3"
      }
    },
    {
      "cell_type": "markdown",
      "source": [
        "## Breakout Room #1: Training Word2Vec from Scratch\n",
        "\n",
        "Now that we have a bit of background on Embeddings - let's look at what it takes to create our own embeddings using Word2Vec!\n",
        "\n",
        "We'll be leveraging the `gensim` library, which you can read all about [here](https://pypi.org/project/gensim/).\n",
        "\n",
        "Before we begin training, however, we need some data!\n",
        "\n",
        "Let's use the Wikipedia pages for Wicked and Gladiator as examples."
      ],
      "metadata": {
        "id": "_AkTA6O8boBu"
      }
    },
    {
      "cell_type": "markdown",
      "source": [
        "### Task 1: Dependencies\n",
        "We'll leverage the `wikipedia` library, and `langchain`s `WikipediaLoader` to obtain our Wikipedia data!"
      ],
      "metadata": {
        "id": "DE0PCOWjdHO8"
      }
    },
    {
      "cell_type": "code",
      "execution_count": 1,
      "metadata": {
        "id": "f1bHSdU9a8Tu",
        "colab": {
          "base_uri": "https://localhost:8080/"
        },
        "outputId": "d0598f63-ace5-4885-c451-92319ac928d4"
      },
      "outputs": [
        {
          "output_type": "stream",
          "name": "stdout",
          "text": [
            "  Preparing metadata (setup.py) ... \u001b[?25l\u001b[?25hdone\n",
            "\u001b[2K   \u001b[90m━━━━━━━━━━━━━━━━━━━━━━━━━━━━━━━━━━━━━━━━\u001b[0m \u001b[32m1.0/1.0 MB\u001b[0m \u001b[31m49.6 MB/s\u001b[0m eta \u001b[36m0:00:00\u001b[0m\n",
            "\u001b[2K   \u001b[90m━━━━━━━━━━━━━━━━━━━━━━━━━━━━━━━━━━━━━━━━\u001b[0m \u001b[32m2.4/2.4 MB\u001b[0m \u001b[31m59.6 MB/s\u001b[0m eta \u001b[36m0:00:00\u001b[0m\n",
            "\u001b[2K   \u001b[90m━━━━━━━━━━━━━━━━━━━━━━━━━━━━━━━━━━━━━━━━\u001b[0m \u001b[32m480.6/480.6 kB\u001b[0m \u001b[31m37.9 MB/s\u001b[0m eta \u001b[36m0:00:00\u001b[0m\n",
            "\u001b[2K   \u001b[90m━━━━━━━━━━━━━━━━━━━━━━━━━━━━━━━━━━━━━━━━\u001b[0m \u001b[32m116.3/116.3 kB\u001b[0m \u001b[31m11.9 MB/s\u001b[0m eta \u001b[36m0:00:00\u001b[0m\n",
            "\u001b[2K   \u001b[90m━━━━━━━━━━━━━━━━━━━━━━━━━━━━━━━━━━━━━━━━\u001b[0m \u001b[32m179.3/179.3 kB\u001b[0m \u001b[31m16.9 MB/s\u001b[0m eta \u001b[36m0:00:00\u001b[0m\n",
            "\u001b[2K   \u001b[90m━━━━━━━━━━━━━━━━━━━━━━━━━━━━━━━━━━━━━━━━\u001b[0m \u001b[32m409.5/409.5 kB\u001b[0m \u001b[31m32.0 MB/s\u001b[0m eta \u001b[36m0:00:00\u001b[0m\n",
            "\u001b[2K   \u001b[90m━━━━━━━━━━━━━━━━━━━━━━━━━━━━━━━━━━━━━━━━\u001b[0m \u001b[32m134.8/134.8 kB\u001b[0m \u001b[31m13.5 MB/s\u001b[0m eta \u001b[36m0:00:00\u001b[0m\n",
            "\u001b[2K   \u001b[90m━━━━━━━━━━━━━━━━━━━━━━━━━━━━━━━━━━━━━━━━\u001b[0m \u001b[32m194.1/194.1 kB\u001b[0m \u001b[31m17.6 MB/s\u001b[0m eta \u001b[36m0:00:00\u001b[0m\n",
            "\u001b[2K   \u001b[90m━━━━━━━━━━━━━━━━━━━━━━━━━━━━━━━━━━━━━━━━\u001b[0m \u001b[32m49.5/49.5 kB\u001b[0m \u001b[31m4.6 MB/s\u001b[0m eta \u001b[36m0:00:00\u001b[0m\n",
            "\u001b[?25h  Building wheel for wikipedia (setup.py) ... \u001b[?25l\u001b[?25hdone\n",
            "\u001b[31mERROR: pip's dependency resolver does not currently take into account all the packages that are installed. This behaviour is the source of the following dependency conflicts.\n",
            "gcsfs 2024.10.0 requires fsspec==2024.10.0, but you have fsspec 2024.9.0 which is incompatible.\u001b[0m\u001b[31m\n",
            "\u001b[0m"
          ]
        }
      ],
      "source": [
        "!pip install -U -q wikipedia langchain langchain_community lxml datasets"
      ]
    },
    {
      "cell_type": "markdown",
      "source": [
        "> NOTE: Please reset the Colab environment after running the install cells."
      ],
      "metadata": {
        "id": "frFcUKy5ief6"
      }
    },
    {
      "cell_type": "markdown",
      "source": [
        "### Task 2: Data Collection\n",
        "\n"
      ],
      "metadata": {
        "id": "ON8zWj4GR0oz"
      }
    },
    {
      "cell_type": "code",
      "source": [
        "from langchain_community.document_loaders import WikipediaLoader\n",
        "\n",
        "wicked_docs = WikipediaLoader(\n",
        "    query=\"Wicked (2024 film)\",\n",
        "    load_max_docs=5,\n",
        "    doc_content_chars_max=1_000_000\n",
        "    ).load()"
      ],
      "metadata": {
        "id": "ME25TAtVdPmE",
        "colab": {
          "base_uri": "https://localhost:8080/"
        },
        "outputId": "78da34a5-dc2b-4e8d-8c8a-210ab6102975"
      },
      "execution_count": 2,
      "outputs": [
        {
          "output_type": "stream",
          "name": "stderr",
          "text": [
            "/usr/local/lib/python3.10/dist-packages/wikipedia/wikipedia.py:389: GuessedAtParserWarning: No parser was explicitly specified, so I'm using the best available HTML parser for this system (\"lxml\"). This usually isn't a problem, but if you run this code on another system, or in a different virtual environment, it may use a different parser and behave differently.\n",
            "\n",
            "The code that caused this warning is on line 389 of the file /usr/local/lib/python3.10/dist-packages/wikipedia/wikipedia.py. To get rid of this warning, pass the additional argument 'features=\"lxml\"' to the BeautifulSoup constructor.\n",
            "\n",
            "  lis = BeautifulSoup(html).find_all('li')\n"
          ]
        }
      ]
    },
    {
      "cell_type": "code",
      "source": [
        "len(wicked_docs)"
      ],
      "metadata": {
        "id": "nLV9ZD4ReBrw",
        "colab": {
          "base_uri": "https://localhost:8080/"
        },
        "outputId": "ef1258c1-5e3b-46e8-e443-6dbcc1884eba"
      },
      "execution_count": 3,
      "outputs": [
        {
          "output_type": "execute_result",
          "data": {
            "text/plain": [
              "4"
            ]
          },
          "metadata": {},
          "execution_count": 3
        }
      ]
    },
    {
      "cell_type": "code",
      "source": [
        "gladiator_2_docs = WikipediaLoader(\n",
        "    query=\"Gladiator II\",\n",
        "    load_max_docs=5,\n",
        "    doc_content_chars_max=1_000_000\n",
        "    ).load()"
      ],
      "metadata": {
        "id": "y-_YAa6MeWmP"
      },
      "execution_count": 4,
      "outputs": []
    },
    {
      "cell_type": "code",
      "source": [
        "len(gladiator_2_docs)"
      ],
      "metadata": {
        "id": "z_Tk5-_qehyb",
        "colab": {
          "base_uri": "https://localhost:8080/"
        },
        "outputId": "ededbc7e-df13-48d4-f9f5-d15474ea6c5c"
      },
      "execution_count": 5,
      "outputs": [
        {
          "output_type": "execute_result",
          "data": {
            "text/plain": [
              "5"
            ]
          },
          "metadata": {},
          "execution_count": 5
        }
      ]
    },
    {
      "cell_type": "markdown",
      "source": [
        "### Task 3: Data Preprocessing\n",
        "\n",
        "Now that we have some text, we need to do some preprocessing! That's right - classic NLP!\n",
        "\n",
        "Let's begin by cleaning up our text, we'll:\n",
        "\n",
        "- Remove special characters\n",
        "- Remove stop words\n",
        "- Remove links\n",
        "- Convert to lowercase\n",
        "- Strip whitespace\n",
        "\n",
        "To do this, we'll need two main modules:\n",
        "\n",
        "- The `re` standard library module\n",
        "- `spacy`, another NLP library"
      ],
      "metadata": {
        "id": "QeJC376oep3N"
      }
    },
    {
      "cell_type": "code",
      "source": [
        "import nltk\n",
        "\n",
        "nltk.download('stopwords')\n",
        "nltk.download('punkt')\n",
        "nltk.download('punkt_tab')"
      ],
      "metadata": {
        "id": "3-XweJuKfl2w",
        "colab": {
          "base_uri": "https://localhost:8080/"
        },
        "outputId": "25d3cfdd-2eee-4259-a7b1-9d7a56bfecf9"
      },
      "execution_count": 6,
      "outputs": [
        {
          "output_type": "stream",
          "name": "stderr",
          "text": [
            "[nltk_data] Downloading package stopwords to /root/nltk_data...\n",
            "[nltk_data]   Unzipping corpora/stopwords.zip.\n",
            "[nltk_data] Downloading package punkt to /root/nltk_data...\n",
            "[nltk_data]   Unzipping tokenizers/punkt.zip.\n",
            "[nltk_data] Downloading package punkt_tab to /root/nltk_data...\n",
            "[nltk_data]   Unzipping tokenizers/punkt_tab.zip.\n"
          ]
        },
        {
          "output_type": "execute_result",
          "data": {
            "text/plain": [
              "True"
            ]
          },
          "metadata": {},
          "execution_count": 6
        }
      ]
    },
    {
      "cell_type": "markdown",
      "source": [
        "Let's take a peek at what these \"stopwords\" are - for traditional embedding models and NLP."
      ],
      "metadata": {
        "id": "17THAHtbcdom"
      }
    },
    {
      "cell_type": "code",
      "source": [
        "from nltk.corpus import stopwords\n",
        "stopwords.words('english')[:10]"
      ],
      "metadata": {
        "id": "pqLntUU6ftyl",
        "colab": {
          "base_uri": "https://localhost:8080/"
        },
        "outputId": "333011e1-cfb1-4b0c-d6e5-1a19c21804ba"
      },
      "execution_count": 7,
      "outputs": [
        {
          "output_type": "execute_result",
          "data": {
            "text/plain": [
              "['i', 'me', 'my', 'myself', 'we', 'our', 'ours', 'ourselves', 'you', \"you're\"]"
            ]
          },
          "metadata": {},
          "execution_count": 7
        }
      ]
    },
    {
      "cell_type": "markdown",
      "source": [
        "#### Text Normalization\n",
        "\n",
        "The first step is to make a helper function that normalizes our text."
      ],
      "metadata": {
        "id": "1AoGsijwcPPo"
      }
    },
    {
      "cell_type": "code",
      "source": [
        "import re\n",
        "from typing import List\n",
        "from nltk.tokenize import word_tokenize\n",
        "\n",
        "def preprocess_text(text: str) -> List[str]:\n",
        "  # remove links\n",
        "  text = re.sub(r\"http[s]?://(?:[a-zA-Z]|[0-9]|[$-_@.&+]|[!*\\\\(\\\\),]|(?:%[0-9a-fA-F][0-9a-fA-F]))+\", \"\", text)\n",
        "  # remove all special characters (keep alphabet characters)\n",
        "  text = re.sub(\"[^a-zA-Z ]\", \" \", text)\n",
        "  # tokenize text, make lowercase, and remove stop words\n",
        "  stop_words = set(stopwords.words('english'))\n",
        "  tokens = word_tokenize(text)\n",
        "  filtered_tokens = [token.lower() for token in tokens if token.lower() not in stop_words]\n",
        "  return filtered_tokens"
      ],
      "metadata": {
        "id": "FSJqh7Cae2WY"
      },
      "execution_count": 8,
      "outputs": []
    },
    {
      "cell_type": "markdown",
      "source": [
        "Let's see how this works on some of our Wikipedia data!"
      ],
      "metadata": {
        "id": "_TLBwJtff89s"
      }
    },
    {
      "cell_type": "code",
      "source": [
        "preprocess_text(wicked_docs[0].page_content[:100])"
      ],
      "metadata": {
        "id": "0akPT-BJgB6_",
        "colab": {
          "base_uri": "https://localhost:8080/"
        },
        "outputId": "db1fbf62-6451-42de-d1b6-0e9065e22389"
      },
      "execution_count": 9,
      "outputs": [
        {
          "output_type": "execute_result",
          "data": {
            "text/plain": [
              "['wicked',\n",
              " 'titled',\n",
              " 'onscreen',\n",
              " 'wicked',\n",
              " 'part',\n",
              " 'american',\n",
              " 'musical',\n",
              " 'fantasy',\n",
              " 'film',\n",
              " 'directed',\n",
              " 'jon']"
            ]
          },
          "metadata": {},
          "execution_count": 9
        }
      ]
    },
    {
      "cell_type": "markdown",
      "source": [
        "#### Sentence Tokenization:\n",
        "\n",
        "Now we'll turn our corpus into sets of sentences and apply our pre-processing function to each sentence individually."
      ],
      "metadata": {
        "id": "U1JVww2adC-c"
      }
    },
    {
      "cell_type": "code",
      "source": [
        "from nltk.tokenize import sent_tokenize\n",
        "\n",
        "def sentence_tokenization(text: str) -> List[List[str]]:\n",
        "    # Tokenize the text into sentences\n",
        "    sentences = sent_tokenize(text)\n",
        "    # Tokenize each sentence into words and store them in a list of lists\n",
        "    sentence_tokens = [preprocess_text(sentence) for sentence in sentences]\n",
        "    return sentence_tokens"
      ],
      "metadata": {
        "id": "goqsOzIlgF_x"
      },
      "execution_count": 10,
      "outputs": []
    },
    {
      "cell_type": "code",
      "source": [
        "sentence_tokenization(wicked_docs[0].page_content[:200])"
      ],
      "metadata": {
        "id": "anrS-SOth1tK",
        "colab": {
          "base_uri": "https://localhost:8080/"
        },
        "outputId": "b8ab9695-eb21-4098-b0f7-25c85ba030b4"
      },
      "execution_count": 11,
      "outputs": [
        {
          "output_type": "execute_result",
          "data": {
            "text/plain": [
              "[['wicked',\n",
              "  'titled',\n",
              "  'onscreen',\n",
              "  'wicked',\n",
              "  'part',\n",
              "  'american',\n",
              "  'musical',\n",
              "  'fantasy',\n",
              "  'film',\n",
              "  'directed',\n",
              "  'jon',\n",
              "  'chu',\n",
              "  'written',\n",
              "  'winnie',\n",
              "  'holzman',\n",
              "  'dana',\n",
              "  'fox',\n",
              "  'songs',\n",
              "  'stephen',\n",
              "  'schwartz'],\n",
              " ['first']]"
            ]
          },
          "metadata": {},
          "execution_count": 11
        }
      ]
    },
    {
      "cell_type": "markdown",
      "source": [
        "Perfect, with that, we're ready to create our corpus!"
      ],
      "metadata": {
        "id": "AKLhQDeDiBv1"
      }
    },
    {
      "cell_type": "code",
      "source": [
        "corpus = []\n",
        "\n",
        "for doc in wicked_docs:\n",
        "  corpus += sentence_tokenization(doc.page_content)\n",
        "\n",
        "for doc in gladiator_2_docs:\n",
        "  corpus += sentence_tokenization(doc.page_content)"
      ],
      "metadata": {
        "id": "o0Expe68h70P"
      },
      "execution_count": 12,
      "outputs": []
    },
    {
      "cell_type": "markdown",
      "source": [
        "##### ❓ Question #1:\n",
        "\n",
        "Why is this normalization and tokenization necessary to train a Word2Vec Embedding Model?"
      ],
      "metadata": {
        "id": "KyAS-JOLbwx0"
      }
    },
    {
      "cell_type": "markdown",
      "source": [
        "##### 👪❓ Discussion Question #1:\n",
        "\n",
        "When creating training data for Large Language Models, do we need to/should we use text normalization?\n",
        "\n",
        "What arguments for or against text normalization exist at LLM-scale datasets?"
      ],
      "metadata": {
        "id": "ZURPmGkGci7m"
      }
    },
    {
      "cell_type": "markdown",
      "source": [
        "### Task 4: Training Word2Vec\n",
        "\n",
        "Now that we have our corpus set up, we can train our Word2Vec model.\n",
        "\n",
        "Training is straightforward, thanks to `gensim`, and more can be understood about the process by reading the paper - but let's see it in code!\n",
        "\n",
        "It's also worth considering/playing around with the `gensim` parameters."
      ],
      "metadata": {
        "id": "s2axftsiipxJ"
      }
    },
    {
      "cell_type": "code",
      "source": [
        "!pip install -q -U gensim"
      ],
      "metadata": {
        "id": "PVb5Rye_ikjC"
      },
      "execution_count": 13,
      "outputs": []
    },
    {
      "cell_type": "markdown",
      "source": [
        "### An Aside on Skip-gram (SG) and Continuous Bag of Words (CBOW):\n",
        "\n",
        "**Skip-gram**:\n",
        "\n",
        "Skip-gram is an approach to teaching computers the meaning of words by predicting the surrounding context from a given word. Think of it as a student who learns by taking a single word and trying to guess what words might appear around it. For example, given the word \"sun,\" Skip-gram would learn to predict related words like \"bright,\" \"sky,\" and \"shine.\" This method is particularly effective at handling rare words in the vocabulary and capturing multiple meanings of words, though it typically requires more training time. The key insight is that words appearing in similar contexts often have related meanings.\n",
        "\n",
        "**Continuous Bag of Words (CBOW)**:\n",
        "\n",
        "CBOW takes the opposite approach to Skip-gram by predicting a target word based on its surrounding context words. Imagine playing a fill-in-the-blank game where you see \"The ___ is barking at the mailman\" and need to predict \"dog\" based on the surrounding words. CBOW looks at multiple context words at once and tries to understand what word would make sense in the middle. This method tends to be faster to train than Skip-gram and performs particularly well with frequent words in the vocabulary. However, it might not be as effective at handling rare words or capturing multiple word meanings since it averages the context."
      ],
      "metadata": {
        "id": "0uCi3SxOfyGH"
      }
    },
    {
      "cell_type": "markdown",
      "source": [
        "#####🏗️ Activity #1:\n",
        "\n",
        "Set appropriate hyperparameters for the gensim `Word2Vec` model.\n",
        "\n",
        "> NOTE: Documentation is available [here](https://radimrehurek.com/gensim/models/word2vec.html#gensim.models.word2vec.Word2Vec)"
      ],
      "metadata": {
        "id": "V6salAYUtcSr"
      }
    },
    {
      "cell_type": "markdown",
      "source": [
        "##### ❓ Question #2:\n",
        "\n",
        "What do each of the hyper-parameters mean or relate to:\n",
        "\n",
        "- `VECTOR_SIZE` -> YOUR ANSWER HERE\n",
        "- `WINDOW` -> YOUR ANSWER HERE\n",
        "- `MIN_COUNT` -> YOUR ANSWER HERE"
      ],
      "metadata": {
        "id": "qJZTsWWqbMPJ"
      }
    },
    {
      "cell_type": "code",
      "source": [
        "from gensim.models import Word2Vec\n",
        "\n",
        "### Modify These Hyper Parameters\n",
        "VECTOR_SIZE = 128\n",
        "WINDOW = 10\n",
        "MIN_COUNT = 2\n",
        "\n",
        "### Leave this Hyper Parameter\n",
        "SG = 1\n",
        "\n",
        "model = Word2Vec(\n",
        "    sentences=corpus,\n",
        "    vector_size=VECTOR_SIZE,\n",
        "    window=WINDOW,\n",
        "    min_count=MIN_COUNT,\n",
        "    sg=SG\n",
        "    )"
      ],
      "metadata": {
        "id": "nSCza8r7i-Oh"
      },
      "execution_count": 14,
      "outputs": []
    },
    {
      "cell_type": "markdown",
      "source": [
        "Blink and you'll miss it. You just trained an embeddings model!\n",
        "\n",
        "Let's try it out and see what we did!"
      ],
      "metadata": {
        "id": "m_LYRSDjjyA8"
      }
    },
    {
      "cell_type": "code",
      "source": [
        "model.wv[\"elphaba\"]"
      ],
      "metadata": {
        "id": "zaO35GCJjIlk",
        "colab": {
          "base_uri": "https://localhost:8080/"
        },
        "outputId": "03af649f-ed9b-41b8-b95b-7ac0977e7745"
      },
      "execution_count": 15,
      "outputs": [
        {
          "output_type": "execute_result",
          "data": {
            "text/plain": [
              "array([-0.01647268, -0.05579745, -0.05371885,  0.20872699,  0.26404533,\n",
              "        0.07942157,  0.14951208, -0.05713009, -0.05722675,  0.09519398,\n",
              "       -0.01493426, -0.00949061, -0.13161813,  0.0983023 ,  0.1252948 ,\n",
              "        0.26750708, -0.10325535,  0.06487989, -0.17538625,  0.26842296,\n",
              "       -0.10175849,  0.09815633, -0.21272291, -0.27283755, -0.29781756,\n",
              "        0.02653749, -0.18122639, -0.03993816, -0.04062214, -0.13352792,\n",
              "       -0.04847975, -0.02046371, -0.01597715, -0.00195248, -0.05497558,\n",
              "        0.13171007,  0.11007937, -0.05881838,  0.08789193,  0.06449124,\n",
              "       -0.01659209,  0.08143873,  0.02870691, -0.03546425,  0.3423432 ,\n",
              "        0.04861787, -0.21866477,  0.02380689,  0.04406934,  0.17926669,\n",
              "        0.04415169,  0.10751387,  0.09540914,  0.13030998, -0.00906207,\n",
              "        0.00285842,  0.05891665,  0.11090235, -0.07538593,  0.10516503,\n",
              "       -0.2840302 ,  0.12155498,  0.12498969, -0.10673953,  0.3452448 ,\n",
              "       -0.12075447, -0.03450308,  0.018638  , -0.23050109, -0.2671517 ,\n",
              "        0.12518285, -0.02436355, -0.23094502, -0.05926625,  0.1794363 ,\n",
              "       -0.1511836 , -0.33571053, -0.17475314, -0.20841147,  0.13445885,\n",
              "       -0.05201067, -0.09034072,  0.24402778,  0.19269714,  0.19084658,\n",
              "        0.26019642,  0.21021195, -0.09085323,  0.11419809,  0.23868838,\n",
              "       -0.0185727 , -0.17080188, -0.06117347,  0.12062132,  0.21620494,\n",
              "        0.14887665, -0.07816963, -0.0010766 , -0.00897533,  0.15093137,\n",
              "       -0.24199896, -0.003436  , -0.06144942,  0.08855107, -0.00371376,\n",
              "        0.08556991, -0.04526011,  0.17438579, -0.06521522,  0.02310171,\n",
              "       -0.06299812, -0.03839255, -0.09765866,  0.19090998,  0.04441972,\n",
              "       -0.0103591 ,  0.28185833,  0.02626872,  0.15278812,  0.01127786,\n",
              "       -0.05155574, -0.16351557, -0.07655915, -0.00939103, -0.11290942,\n",
              "       -0.10110094, -0.06601041,  0.08054881], dtype=float32)"
            ]
          },
          "metadata": {},
          "execution_count": 15
        }
      ]
    },
    {
      "cell_type": "markdown",
      "source": [
        "Finally! We see it: An embedding in the wild.\n",
        "\n",
        "Notice how we input a word, in this case \"Elphaba\", and we got back a 100-dimensional vector of floats.\n",
        "\n",
        "Let's see if we can't get back a list of similar vectors to the vector for \"Elphaba\", and \"Maximus\"!"
      ],
      "metadata": {
        "id": "f9yYINaHj_qI"
      }
    },
    {
      "cell_type": "code",
      "source": [
        "model.wv.most_similar(positive=[\"elphaba\"], topn=3)"
      ],
      "metadata": {
        "id": "Q3feBDOaj6WC",
        "colab": {
          "base_uri": "https://localhost:8080/"
        },
        "outputId": "56b99b4d-a1ae-47e2-aba8-78b68d316977"
      },
      "execution_count": 16,
      "outputs": [
        {
          "output_type": "execute_result",
          "data": {
            "text/plain": [
              "[('glinda', 0.9975523352622986),\n",
              " ('grande', 0.9959437251091003),\n",
              " ('ariana', 0.995334267616272)]"
            ]
          },
          "metadata": {},
          "execution_count": 16
        }
      ]
    },
    {
      "cell_type": "code",
      "source": [
        "model.wv.most_similar(positive=[\"maximus\"], topn=3)"
      ],
      "metadata": {
        "id": "FrCY4Y4Rkn0N",
        "colab": {
          "base_uri": "https://localhost:8080/"
        },
        "outputId": "fe52d705-110f-4793-fccb-73d646459cb5"
      },
      "execution_count": 17,
      "outputs": [
        {
          "output_type": "execute_result",
          "data": {
            "text/plain": [
              "[('acacius', 0.9980629682540894),\n",
              " ('commodus', 0.9979823231697083),\n",
              " ('son', 0.9979185461997986)]"
            ]
          },
          "metadata": {},
          "execution_count": 17
        }
      ]
    },
    {
      "cell_type": "markdown",
      "source": [
        "Now, for the moment of truth - let's do some vector math and see what happens!"
      ],
      "metadata": {
        "id": "PFJQBuooli2S"
      }
    },
    {
      "cell_type": "code",
      "source": [
        "galinda_vec = model.wv[\"galinda\"]\n",
        "good_vec = model.wv[\"good\"]\n",
        "mystery_vector = galinda_vec - good_vec"
      ],
      "metadata": {
        "id": "_fFyEP8-mRw1"
      },
      "execution_count": 18,
      "outputs": []
    },
    {
      "cell_type": "code",
      "source": [
        "model.wv.most_similar(positive=[mystery_vector], topn=3)"
      ],
      "metadata": {
        "id": "hfup5uT0nDci",
        "colab": {
          "base_uri": "https://localhost:8080/"
        },
        "outputId": "84664bd1-7ee7-401f-ec17-df2dc9257fdd"
      },
      "execution_count": 19,
      "outputs": [
        {
          "output_type": "execute_result",
          "data": {
            "text/plain": [
              "[('galinda', 0.698475182056427),\n",
              " ('glinda', 0.6933204531669617),\n",
              " ('elphaba', 0.6876640915870667)]"
            ]
          },
          "metadata": {},
          "execution_count": 19
        }
      ]
    },
    {
      "cell_type": "markdown",
      "source": [
        "And there we have it - embeddings, and a demonstration of what makes them so powerful!\n",
        "\n",
        "> Note: This is a very small sample size, and while this result is what we'd hope for - it is largely coincidental - this behaviour is expressed better in much larger corpus' of text."
      ],
      "metadata": {
        "id": "BGdGFwRjoJjg"
      }
    },
    {
      "cell_type": "markdown",
      "source": [
        "#### Visualization:"
      ],
      "metadata": {
        "id": "VBmvp8-83LvJ"
      }
    },
    {
      "cell_type": "code",
      "source": [
        "import numpy as np\n",
        "from sklearn.manifold import TSNE\n",
        "import plotly.graph_objects as go\n",
        "\n",
        "def create_2d_word_cloud(word, model, num_neighbors=100):\n",
        "    \"\"\"\n",
        "    Creates a 2D visualization of a word and its nearest neighbors using existing Word2Vec embeddings.\n",
        "    Target word is centered in the visualization.\n",
        "\n",
        "    Parameters:\n",
        "    word (str): Target word to visualize\n",
        "    model: Existing Word2Vec model\n",
        "    num_neighbors (int): Number of nearest neighbors to display\n",
        "    \"\"\"\n",
        "    # Get nearest neighbors\n",
        "    try:\n",
        "        neighbors = model.wv.most_similar(word, topn=num_neighbors)\n",
        "    except KeyError:\n",
        "        print(f\"'{word}' not found in vocabulary\")\n",
        "        return\n",
        "\n",
        "    # Get vectors for the word and its neighbors\n",
        "    words = [word] + [n[0] for n in neighbors]\n",
        "    vectors = np.vstack([model.wv[w] for w in words])\n",
        "\n",
        "    # Reduce dimensionality to 2D using t-SNE\n",
        "    print(\"Reducing dimensionality...\")\n",
        "    tsne = TSNE(n_components=2, random_state=42)\n",
        "    vectors_2d = tsne.fit_transform(vectors)\n",
        "\n",
        "    # Center the target word by subtracting its coordinates\n",
        "    center_point = vectors_2d[0]\n",
        "    vectors_2d = vectors_2d - center_point\n",
        "\n",
        "    # Calculate similarity scores for color mapping\n",
        "    similarities = [1.0] + [n[1] for n in neighbors]\n",
        "\n",
        "    # Adjust marker sizes based on similarity\n",
        "    sizes = [20] + [10 + 10 * sim for sim in similarities[1:]]\n",
        "\n",
        "    # Create the 2D scatter plot\n",
        "    trace = go.Scatter(\n",
        "        x=vectors_2d[:, 0],\n",
        "        y=vectors_2d[:, 1],\n",
        "        mode='markers+text',\n",
        "        text=words,\n",
        "        hoverinfo='text+text',\n",
        "        hovertext=[f\"{w} (sim: {s:.3f})\" for w, s in zip(words, similarities)],\n",
        "        marker=dict(\n",
        "            size=sizes,\n",
        "            color=similarities,\n",
        "            colorscale='Viridis',\n",
        "            opacity=0.8,\n",
        "            colorbar=dict(title='Similarity Score')\n",
        "        ),\n",
        "        textposition='top center',\n",
        "        textfont=dict(\n",
        "            size=[14 if i == 0 else 10 for i in range(len(words))],\n",
        "            color=['red' if i == 0 else 'black' for i in range(len(words))]\n",
        "        )\n",
        "    )\n",
        "\n",
        "    # Create layout\n",
        "    layout = go.Layout(\n",
        "        title=f'2D Word Cloud for \"{word}\" and {num_neighbors} Nearest Neighbors',\n",
        "        xaxis=dict(title='', showticklabels=False, zeroline=True),\n",
        "        yaxis=dict(title='', showticklabels=False, zeroline=True),\n",
        "        showlegend=False,\n",
        "        width=900,\n",
        "        height=900,\n",
        "        margin=dict(l=0, r=0, b=0, t=40)\n",
        "    )\n",
        "\n",
        "    # Create and show figure\n",
        "    fig = go.Figure(data=[trace], layout=layout)\n",
        "    fig.show()"
      ],
      "metadata": {
        "id": "gCrzeRHo1F9n"
      },
      "execution_count": 20,
      "outputs": []
    },
    {
      "cell_type": "code",
      "source": [
        "create_2d_word_cloud(\"galinda\", model)"
      ],
      "metadata": {
        "colab": {
          "base_uri": "https://localhost:8080/",
          "height": 934
        },
        "id": "SSaI9wt21HeV",
        "outputId": "6e0b0a16-36b1-40c5-9ff1-745a302a8428"
      },
      "execution_count": 21,
      "outputs": [
        {
          "output_type": "stream",
          "name": "stdout",
          "text": [
            "Reducing dimensionality...\n"
          ]
        },
        {
          "output_type": "display_data",
          "data": {
            "text/html": [
              "<html>\n",
              "<head><meta charset=\"utf-8\" /></head>\n",
              "<body>\n",
              "    <div>            <script src=\"https://cdnjs.cloudflare.com/ajax/libs/mathjax/2.7.5/MathJax.js?config=TeX-AMS-MML_SVG\"></script><script type=\"text/javascript\">if (window.MathJax && window.MathJax.Hub && window.MathJax.Hub.Config) {window.MathJax.Hub.Config({SVG: {font: \"STIX-Web\"}});}</script>                <script type=\"text/javascript\">window.PlotlyConfig = {MathJaxConfig: 'local'};</script>\n",
              "        <script charset=\"utf-8\" src=\"https://cdn.plot.ly/plotly-2.35.2.min.js\"></script>                <div id=\"c033dc8d-bee6-4898-be4b-94f7045b91cf\" class=\"plotly-graph-div\" style=\"height:900px; width:900px;\"></div>            <script type=\"text/javascript\">                                    window.PLOTLYENV=window.PLOTLYENV || {};                                    if (document.getElementById(\"c033dc8d-bee6-4898-be4b-94f7045b91cf\")) {                    Plotly.newPlot(                        \"c033dc8d-bee6-4898-be4b-94f7045b91cf\",                        [{\"hoverinfo\":\"text+text\",\"hovertext\":[\"galinda (sim: 1.000)\",\"witch (sim: 0.999)\",\"fiyero (sim: 0.999)\",\"appear (sim: 0.998)\",\"good (sim: 0.998)\",\"nessarose (sim: 0.998)\",\"friends (sim: 0.998)\",\"young (sim: 0.998)\",\"west (sim: 0.998)\",\"woman (sim: 0.998)\",\"chenoweth (sim: 0.998)\",\"broadway (sim: 0.998)\",\"poster (sim: 0.998)\",\"menzel (sim: 0.998)\",\"ariana (sim: 0.998)\",\"thropp (sim: 0.998)\",\"munchkinland (sim: 0.998)\",\"wizard (sim: 0.998)\",\"lion (sim: 0.998)\",\"cynthia (sim: 0.998)\",\"bailey (sim: 0.998)\",\"respectively (sim: 0.998)\",\"morrible (sim: 0.998)\",\"kristin (sim: 0.998)\",\"wonderful (sim: 0.998)\",\"becomes (sim: 0.998)\",\"recorded (sim: 0.998)\",\"members (sim: 0.998)\",\"green (sim: 0.998)\",\"productions (sim: 0.998)\",\"university (sim: 0.998)\",\"throughout (sim: 0.998)\",\"emerald (sim: 0.998)\",\"upland (sim: 0.998)\",\"make (sim: 0.998)\",\"respective (sim: 0.998)\",\"popular (sim: 0.998)\",\"friendship (sim: 0.998)\",\"played (sim: 0.998)\",\"james (sim: 0.998)\",\"skin (sim: 0.998)\",\"voice (sim: 0.998)\",\"bring (sim: 0.998)\",\"image (sim: 0.998)\",\"professor (sim: 0.998)\",\"jonathan (sim: 0.998)\",\"actors (sim: 0.998)\",\"changes (sim: 0.998)\",\"along (sim: 0.998)\",\"fan (sim: 0.998)\",\"stars (sim: 0.998)\",\"college (sim: 0.998)\",\"shiz (sim: 0.998)\",\"vocals (sim: 0.998)\",\"starred (sim: 0.998)\",\"slater (sim: 0.998)\",\"nikidik (sim: 0.998)\",\"dancing (sim: 0.998)\",\"featured (sim: 0.998)\",\"known (sim: 0.998)\",\"characters (sim: 0.998)\",\"animals (sim: 0.998)\",\"include (sim: 0.998)\",\"born (sim: 0.998)\",\"countries (sim: 0.998)\",\"praised (sim: 0.998)\",\"times (sim: 0.998)\",\"cowardly (sim: 0.998)\",\"performed (sim: 0.998)\",\"seen (sim: 0.997)\",\"called (sim: 0.997)\",\"originated (sim: 0.997)\",\"see (sim: 0.997)\",\"doctor (sim: 0.997)\",\"recording (sim: 0.997)\",\"york (sim: 0.997)\",\"spielberg (sim: 0.997)\",\"younger (sim: 0.997)\",\"depicted (sim: 0.997)\",\"dutch (sim: 0.997)\",\"interview (sim: 0.997)\",\"madame (sim: 0.997)\",\"great (sim: 0.997)\",\"yeoh (sim: 0.997)\",\"dorothy (sim: 0.997)\",\"way (sim: 0.997)\",\"ozdust (sim: 0.997)\",\"latter (sim: 0.997)\",\"depth (sim: 0.997)\",\"dillamond (sim: 0.997)\",\"voiced (sim: 0.997)\",\"rights (sim: 0.997)\",\"yang (sim: 0.997)\",\"gatsby (sim: 0.997)\",\"dinklage (sim: 0.997)\",\"ethan (sim: 0.997)\",\"moment (sim: 0.997)\",\"pfannee (sim: 0.997)\",\"train (sim: 0.997)\",\"city (sim: 0.997)\",\"bowen (sim: 0.997)\"],\"marker\":{\"color\":[1.0,0.9985600709915161,0.9985530972480774,0.9984930157661438,0.9984844326972961,0.9984728097915649,0.9984238147735596,0.9983137845993042,0.9983043670654297,0.9981890320777893,0.9981717467308044,0.9981496930122375,0.9981420040130615,0.9981365203857422,0.9981344938278198,0.9981079697608948,0.9980948567390442,0.9980573058128357,0.998045802116394,0.9980310797691345,0.9980272650718689,0.9979652762413025,0.9979614615440369,0.9979555606842041,0.9978593587875366,0.997840166091919,0.9977949857711792,0.9977944493293762,0.9977928996086121,0.9977818131446838,0.9977689385414124,0.9977667927742004,0.9977656006813049,0.9977650046348572,0.997762143611908,0.9977598786354065,0.9977594017982483,0.9977553486824036,0.9977527856826782,0.9977513551712036,0.9977503418922424,0.9977387189865112,0.9977149963378906,0.9976940155029297,0.9976767897605896,0.9976761341094971,0.9976687431335449,0.9976512789726257,0.9976449012756348,0.9976324439048767,0.9976309537887573,0.9976181387901306,0.9976127743721008,0.997604489326477,0.9975957870483398,0.9975796341896057,0.9975766539573669,0.9975689649581909,0.9975669384002686,0.9975562691688538,0.9975543022155762,0.9975536465644836,0.997549295425415,0.9975413084030151,0.9975242018699646,0.9975208044052124,0.9975203275680542,0.9975143671035767,0.9975063800811768,0.9974989891052246,0.9974956512451172,0.9974912405014038,0.9974765777587891,0.99747234582901,0.9974705576896667,0.9974640011787415,0.9974634051322937,0.9974607825279236,0.997454822063446,0.9974545836448669,0.9974453449249268,0.9974452257156372,0.9974444508552551,0.9974396228790283,0.9974291920661926,0.9974289536476135,0.9974284172058105,0.9974279403686523,0.9974269866943359,0.9974259734153748,0.9974222779273987,0.9974198341369629,0.997419536113739,0.997418224811554,0.9974178075790405,0.9974060654640198,0.9974011778831482,0.9973981976509094,0.9973934292793274,0.9973925352096558,0.9973906874656677],\"colorbar\":{\"title\":{\"text\":\"Similarity Score\"}},\"colorscale\":[[0.0,\"#440154\"],[0.1111111111111111,\"#482878\"],[0.2222222222222222,\"#3e4989\"],[0.3333333333333333,\"#31688e\"],[0.4444444444444444,\"#26828e\"],[0.5555555555555556,\"#1f9e89\"],[0.6666666666666666,\"#35b779\"],[0.7777777777777778,\"#6ece58\"],[0.8888888888888888,\"#b5de2b\"],[1.0,\"#fde725\"]],\"opacity\":0.8,\"size\":[20,19.98560070991516,19.985530972480774,19.984930157661438,19.98484432697296,19.98472809791565,19.984238147735596,19.983137845993042,19.983043670654297,19.981890320777893,19.981717467308044,19.981496930122375,19.981420040130615,19.981365203857422,19.9813449382782,19.981079697608948,19.980948567390442,19.980573058128357,19.98045802116394,19.980310797691345,19.98027265071869,19.979652762413025,19.97961461544037,19.97955560684204,19.978593587875366,19.97840166091919,19.977949857711792,19.977944493293762,19.97792899608612,19.97781813144684,19.977689385414124,19.977667927742004,19.97765600681305,19.977650046348572,19.97762143611908,19.977598786354065,19.977594017982483,19.977553486824036,19.977527856826782,19.977513551712036,19.977503418922424,19.977387189865112,19.977149963378906,19.976940155029297,19.976767897605896,19.97676134109497,19.97668743133545,19.976512789726257,19.976449012756348,19.976324439048767,19.976309537887573,19.976181387901306,19.97612774372101,19.97604489326477,19.9759578704834,19.975796341896057,19.97576653957367,19.97568964958191,19.975669384002686,19.975562691688538,19.97554302215576,19.975536465644836,19.97549295425415,19.97541308403015,19.975242018699646,19.975208044052124,19.975203275680542,19.975143671035767,19.975063800811768,19.974989891052246,19.974956512451172,19.974912405014038,19.97476577758789,19.9747234582901,19.974705576896667,19.974640011787415,19.974634051322937,19.974607825279236,19.97454822063446,19.97454583644867,19.974453449249268,19.974452257156372,19.97444450855255,19.974396228790283,19.974291920661926,19.974289536476135,19.974284172058105,19.974279403686523,19.97426986694336,19.974259734153748,19.974222779273987,19.97419834136963,19.97419536113739,19.97418224811554,19.974178075790405,19.974060654640198,19.974011778831482,19.973981976509094,19.973934292793274,19.973925352096558,19.973906874656677]},\"mode\":\"markers+text\",\"text\":[\"galinda\",\"witch\",\"fiyero\",\"appear\",\"good\",\"nessarose\",\"friends\",\"young\",\"west\",\"woman\",\"chenoweth\",\"broadway\",\"poster\",\"menzel\",\"ariana\",\"thropp\",\"munchkinland\",\"wizard\",\"lion\",\"cynthia\",\"bailey\",\"respectively\",\"morrible\",\"kristin\",\"wonderful\",\"becomes\",\"recorded\",\"members\",\"green\",\"productions\",\"university\",\"throughout\",\"emerald\",\"upland\",\"make\",\"respective\",\"popular\",\"friendship\",\"played\",\"james\",\"skin\",\"voice\",\"bring\",\"image\",\"professor\",\"jonathan\",\"actors\",\"changes\",\"along\",\"fan\",\"stars\",\"college\",\"shiz\",\"vocals\",\"starred\",\"slater\",\"nikidik\",\"dancing\",\"featured\",\"known\",\"characters\",\"animals\",\"include\",\"born\",\"countries\",\"praised\",\"times\",\"cowardly\",\"performed\",\"seen\",\"called\",\"originated\",\"see\",\"doctor\",\"recording\",\"york\",\"spielberg\",\"younger\",\"depicted\",\"dutch\",\"interview\",\"madame\",\"great\",\"yeoh\",\"dorothy\",\"way\",\"ozdust\",\"latter\",\"depth\",\"dillamond\",\"voiced\",\"rights\",\"yang\",\"gatsby\",\"dinklage\",\"ethan\",\"moment\",\"pfannee\",\"train\",\"city\",\"bowen\"],\"textfont\":{\"color\":[\"red\",\"black\",\"black\",\"black\",\"black\",\"black\",\"black\",\"black\",\"black\",\"black\",\"black\",\"black\",\"black\",\"black\",\"black\",\"black\",\"black\",\"black\",\"black\",\"black\",\"black\",\"black\",\"black\",\"black\",\"black\",\"black\",\"black\",\"black\",\"black\",\"black\",\"black\",\"black\",\"black\",\"black\",\"black\",\"black\",\"black\",\"black\",\"black\",\"black\",\"black\",\"black\",\"black\",\"black\",\"black\",\"black\",\"black\",\"black\",\"black\",\"black\",\"black\",\"black\",\"black\",\"black\",\"black\",\"black\",\"black\",\"black\",\"black\",\"black\",\"black\",\"black\",\"black\",\"black\",\"black\",\"black\",\"black\",\"black\",\"black\",\"black\",\"black\",\"black\",\"black\",\"black\",\"black\",\"black\",\"black\",\"black\",\"black\",\"black\",\"black\",\"black\",\"black\",\"black\",\"black\",\"black\",\"black\",\"black\",\"black\",\"black\",\"black\",\"black\",\"black\",\"black\",\"black\",\"black\",\"black\",\"black\",\"black\",\"black\",\"black\"],\"size\":[14,10,10,10,10,10,10,10,10,10,10,10,10,10,10,10,10,10,10,10,10,10,10,10,10,10,10,10,10,10,10,10,10,10,10,10,10,10,10,10,10,10,10,10,10,10,10,10,10,10,10,10,10,10,10,10,10,10,10,10,10,10,10,10,10,10,10,10,10,10,10,10,10,10,10,10,10,10,10,10,10,10,10,10,10,10,10,10,10,10,10,10,10,10,10,10,10,10,10,10,10]},\"textposition\":\"top center\",\"x\":[0.0,-1.7629595,-0.057566643,-1.0788972,-2.4265096,-0.4523139,-5.9252987,-2.4125125,-2.2900927,-8.714596,-7.1330194,-0.34188986,-1.0414929,-2.9609318,-1.5114982,-0.4555149,-0.78452516,0.22133303,-0.6703396,-4.332173,-4.421355,-1.3078,-2.4009607,-9.418478,-2.0365052,-5.8339705,-7.7747107,-6.3396173,-2.9023106,-3.4466128,0.66085243,-1.9308968,-8.615439,-11.251278,-3.0079484,-1.1165493,-0.8603642,-3.951047,-1.4211667,-2.7747083,-7.0157604,-2.0877092,-1.2352972,-9.824633,0.29164934,-6.5054746,-0.8261597,-1.4657669,-3.797332,-9.426365,-5.420337,-7.5966716,0.75079584,-3.156917,-7.303208,-7.8495827,-10.564621,-10.084036,-6.345511,-9.34229,-0.5141206,-8.231414,-4.2253065,-9.213759,-8.210042,-4.446144,-1.2055576,-8.661764,-3.6476812,-8.073435,-3.5483408,-11.439877,-6.6076818,-6.5344086,-3.0854373,-8.936382,-10.090145,-6.1189866,-11.053242,-10.398662,-8.926412,-7.6617246,-3.860733,-5.65353,-5.412602,-6.9797773,-10.283245,-4.6708374,-8.384916,-5.88787,-6.722504,-3.610793,-7.0503626,-10.236839,-8.157631,-8.572481,-9.137334,-11.440638,-11.36496,-0.9357517,-6.2444715],\"y\":[0.0,1.0669818,0.5683675,1.0462785,1.7904949,0.98548365,6.599491,1.6266704,1.7682447,8.884105,6.8731794,-0.88498545,0.16260147,3.8731122,3.4297528,0.6610522,0.8390255,-0.40373468,1.177774,6.0643134,4.2212186,0.8974581,3.6242054,11.264198,2.64295,6.3744116,8.693402,7.1532974,2.7908704,3.4991505,0.5601263,2.418676,9.369754,12.218358,2.9170716,-0.25966454,-0.78489304,4.3341126,0.5874429,3.7367008,7.9778566,2.4210365,1.5698385,11.546202,0.79902506,6.860952,-0.18148804,2.1940255,4.1568294,10.611639,6.573199,8.4595375,0.23457003,3.253867,8.850836,9.897455,11.765917,11.710794,7.466607,10.524868,-0.2711215,9.973836,4.820856,10.9453945,9.337482,4.9254484,1.6889772,9.8218355,3.7710094,9.249659,4.5091314,12.301442,7.5856266,7.9215126,3.2479172,10.142662,11.333731,7.8653417,12.137828,11.873549,10.013451,9.567137,4.396252,6.275673,6.996471,7.9116898,11.417092,5.131018,9.6488285,7.1928663,8.311885,4.7138805,7.6295676,11.779654,10.134614,10.43479,10.112764,12.302109,12.265085,1.8563485,6.390604],\"type\":\"scatter\"}],                        {\"height\":900,\"margin\":{\"b\":0,\"l\":0,\"r\":0,\"t\":40},\"showlegend\":false,\"title\":{\"text\":\"2D Word Cloud for \\\"galinda\\\" and 100 Nearest Neighbors\"},\"width\":900,\"xaxis\":{\"showticklabels\":false,\"title\":{\"text\":\"\"},\"zeroline\":true},\"yaxis\":{\"showticklabels\":false,\"title\":{\"text\":\"\"},\"zeroline\":true},\"template\":{\"data\":{\"histogram2dcontour\":[{\"type\":\"histogram2dcontour\",\"colorbar\":{\"outlinewidth\":0,\"ticks\":\"\"},\"colorscale\":[[0.0,\"#0d0887\"],[0.1111111111111111,\"#46039f\"],[0.2222222222222222,\"#7201a8\"],[0.3333333333333333,\"#9c179e\"],[0.4444444444444444,\"#bd3786\"],[0.5555555555555556,\"#d8576b\"],[0.6666666666666666,\"#ed7953\"],[0.7777777777777778,\"#fb9f3a\"],[0.8888888888888888,\"#fdca26\"],[1.0,\"#f0f921\"]]}],\"choropleth\":[{\"type\":\"choropleth\",\"colorbar\":{\"outlinewidth\":0,\"ticks\":\"\"}}],\"histogram2d\":[{\"type\":\"histogram2d\",\"colorbar\":{\"outlinewidth\":0,\"ticks\":\"\"},\"colorscale\":[[0.0,\"#0d0887\"],[0.1111111111111111,\"#46039f\"],[0.2222222222222222,\"#7201a8\"],[0.3333333333333333,\"#9c179e\"],[0.4444444444444444,\"#bd3786\"],[0.5555555555555556,\"#d8576b\"],[0.6666666666666666,\"#ed7953\"],[0.7777777777777778,\"#fb9f3a\"],[0.8888888888888888,\"#fdca26\"],[1.0,\"#f0f921\"]]}],\"heatmap\":[{\"type\":\"heatmap\",\"colorbar\":{\"outlinewidth\":0,\"ticks\":\"\"},\"colorscale\":[[0.0,\"#0d0887\"],[0.1111111111111111,\"#46039f\"],[0.2222222222222222,\"#7201a8\"],[0.3333333333333333,\"#9c179e\"],[0.4444444444444444,\"#bd3786\"],[0.5555555555555556,\"#d8576b\"],[0.6666666666666666,\"#ed7953\"],[0.7777777777777778,\"#fb9f3a\"],[0.8888888888888888,\"#fdca26\"],[1.0,\"#f0f921\"]]}],\"heatmapgl\":[{\"type\":\"heatmapgl\",\"colorbar\":{\"outlinewidth\":0,\"ticks\":\"\"},\"colorscale\":[[0.0,\"#0d0887\"],[0.1111111111111111,\"#46039f\"],[0.2222222222222222,\"#7201a8\"],[0.3333333333333333,\"#9c179e\"],[0.4444444444444444,\"#bd3786\"],[0.5555555555555556,\"#d8576b\"],[0.6666666666666666,\"#ed7953\"],[0.7777777777777778,\"#fb9f3a\"],[0.8888888888888888,\"#fdca26\"],[1.0,\"#f0f921\"]]}],\"contourcarpet\":[{\"type\":\"contourcarpet\",\"colorbar\":{\"outlinewidth\":0,\"ticks\":\"\"}}],\"contour\":[{\"type\":\"contour\",\"colorbar\":{\"outlinewidth\":0,\"ticks\":\"\"},\"colorscale\":[[0.0,\"#0d0887\"],[0.1111111111111111,\"#46039f\"],[0.2222222222222222,\"#7201a8\"],[0.3333333333333333,\"#9c179e\"],[0.4444444444444444,\"#bd3786\"],[0.5555555555555556,\"#d8576b\"],[0.6666666666666666,\"#ed7953\"],[0.7777777777777778,\"#fb9f3a\"],[0.8888888888888888,\"#fdca26\"],[1.0,\"#f0f921\"]]}],\"surface\":[{\"type\":\"surface\",\"colorbar\":{\"outlinewidth\":0,\"ticks\":\"\"},\"colorscale\":[[0.0,\"#0d0887\"],[0.1111111111111111,\"#46039f\"],[0.2222222222222222,\"#7201a8\"],[0.3333333333333333,\"#9c179e\"],[0.4444444444444444,\"#bd3786\"],[0.5555555555555556,\"#d8576b\"],[0.6666666666666666,\"#ed7953\"],[0.7777777777777778,\"#fb9f3a\"],[0.8888888888888888,\"#fdca26\"],[1.0,\"#f0f921\"]]}],\"mesh3d\":[{\"type\":\"mesh3d\",\"colorbar\":{\"outlinewidth\":0,\"ticks\":\"\"}}],\"scatter\":[{\"fillpattern\":{\"fillmode\":\"overlay\",\"size\":10,\"solidity\":0.2},\"type\":\"scatter\"}],\"parcoords\":[{\"type\":\"parcoords\",\"line\":{\"colorbar\":{\"outlinewidth\":0,\"ticks\":\"\"}}}],\"scatterpolargl\":[{\"type\":\"scatterpolargl\",\"marker\":{\"colorbar\":{\"outlinewidth\":0,\"ticks\":\"\"}}}],\"bar\":[{\"error_x\":{\"color\":\"#2a3f5f\"},\"error_y\":{\"color\":\"#2a3f5f\"},\"marker\":{\"line\":{\"color\":\"#E5ECF6\",\"width\":0.5},\"pattern\":{\"fillmode\":\"overlay\",\"size\":10,\"solidity\":0.2}},\"type\":\"bar\"}],\"scattergeo\":[{\"type\":\"scattergeo\",\"marker\":{\"colorbar\":{\"outlinewidth\":0,\"ticks\":\"\"}}}],\"scatterpolar\":[{\"type\":\"scatterpolar\",\"marker\":{\"colorbar\":{\"outlinewidth\":0,\"ticks\":\"\"}}}],\"histogram\":[{\"marker\":{\"pattern\":{\"fillmode\":\"overlay\",\"size\":10,\"solidity\":0.2}},\"type\":\"histogram\"}],\"scattergl\":[{\"type\":\"scattergl\",\"marker\":{\"colorbar\":{\"outlinewidth\":0,\"ticks\":\"\"}}}],\"scatter3d\":[{\"type\":\"scatter3d\",\"line\":{\"colorbar\":{\"outlinewidth\":0,\"ticks\":\"\"}},\"marker\":{\"colorbar\":{\"outlinewidth\":0,\"ticks\":\"\"}}}],\"scattermapbox\":[{\"type\":\"scattermapbox\",\"marker\":{\"colorbar\":{\"outlinewidth\":0,\"ticks\":\"\"}}}],\"scatterternary\":[{\"type\":\"scatterternary\",\"marker\":{\"colorbar\":{\"outlinewidth\":0,\"ticks\":\"\"}}}],\"scattercarpet\":[{\"type\":\"scattercarpet\",\"marker\":{\"colorbar\":{\"outlinewidth\":0,\"ticks\":\"\"}}}],\"carpet\":[{\"aaxis\":{\"endlinecolor\":\"#2a3f5f\",\"gridcolor\":\"white\",\"linecolor\":\"white\",\"minorgridcolor\":\"white\",\"startlinecolor\":\"#2a3f5f\"},\"baxis\":{\"endlinecolor\":\"#2a3f5f\",\"gridcolor\":\"white\",\"linecolor\":\"white\",\"minorgridcolor\":\"white\",\"startlinecolor\":\"#2a3f5f\"},\"type\":\"carpet\"}],\"table\":[{\"cells\":{\"fill\":{\"color\":\"#EBF0F8\"},\"line\":{\"color\":\"white\"}},\"header\":{\"fill\":{\"color\":\"#C8D4E3\"},\"line\":{\"color\":\"white\"}},\"type\":\"table\"}],\"barpolar\":[{\"marker\":{\"line\":{\"color\":\"#E5ECF6\",\"width\":0.5},\"pattern\":{\"fillmode\":\"overlay\",\"size\":10,\"solidity\":0.2}},\"type\":\"barpolar\"}],\"pie\":[{\"automargin\":true,\"type\":\"pie\"}]},\"layout\":{\"autotypenumbers\":\"strict\",\"colorway\":[\"#636efa\",\"#EF553B\",\"#00cc96\",\"#ab63fa\",\"#FFA15A\",\"#19d3f3\",\"#FF6692\",\"#B6E880\",\"#FF97FF\",\"#FECB52\"],\"font\":{\"color\":\"#2a3f5f\"},\"hovermode\":\"closest\",\"hoverlabel\":{\"align\":\"left\"},\"paper_bgcolor\":\"white\",\"plot_bgcolor\":\"#E5ECF6\",\"polar\":{\"bgcolor\":\"#E5ECF6\",\"angularaxis\":{\"gridcolor\":\"white\",\"linecolor\":\"white\",\"ticks\":\"\"},\"radialaxis\":{\"gridcolor\":\"white\",\"linecolor\":\"white\",\"ticks\":\"\"}},\"ternary\":{\"bgcolor\":\"#E5ECF6\",\"aaxis\":{\"gridcolor\":\"white\",\"linecolor\":\"white\",\"ticks\":\"\"},\"baxis\":{\"gridcolor\":\"white\",\"linecolor\":\"white\",\"ticks\":\"\"},\"caxis\":{\"gridcolor\":\"white\",\"linecolor\":\"white\",\"ticks\":\"\"}},\"coloraxis\":{\"colorbar\":{\"outlinewidth\":0,\"ticks\":\"\"}},\"colorscale\":{\"sequential\":[[0.0,\"#0d0887\"],[0.1111111111111111,\"#46039f\"],[0.2222222222222222,\"#7201a8\"],[0.3333333333333333,\"#9c179e\"],[0.4444444444444444,\"#bd3786\"],[0.5555555555555556,\"#d8576b\"],[0.6666666666666666,\"#ed7953\"],[0.7777777777777778,\"#fb9f3a\"],[0.8888888888888888,\"#fdca26\"],[1.0,\"#f0f921\"]],\"sequentialminus\":[[0.0,\"#0d0887\"],[0.1111111111111111,\"#46039f\"],[0.2222222222222222,\"#7201a8\"],[0.3333333333333333,\"#9c179e\"],[0.4444444444444444,\"#bd3786\"],[0.5555555555555556,\"#d8576b\"],[0.6666666666666666,\"#ed7953\"],[0.7777777777777778,\"#fb9f3a\"],[0.8888888888888888,\"#fdca26\"],[1.0,\"#f0f921\"]],\"diverging\":[[0,\"#8e0152\"],[0.1,\"#c51b7d\"],[0.2,\"#de77ae\"],[0.3,\"#f1b6da\"],[0.4,\"#fde0ef\"],[0.5,\"#f7f7f7\"],[0.6,\"#e6f5d0\"],[0.7,\"#b8e186\"],[0.8,\"#7fbc41\"],[0.9,\"#4d9221\"],[1,\"#276419\"]]},\"xaxis\":{\"gridcolor\":\"white\",\"linecolor\":\"white\",\"ticks\":\"\",\"title\":{\"standoff\":15},\"zerolinecolor\":\"white\",\"automargin\":true,\"zerolinewidth\":2},\"yaxis\":{\"gridcolor\":\"white\",\"linecolor\":\"white\",\"ticks\":\"\",\"title\":{\"standoff\":15},\"zerolinecolor\":\"white\",\"automargin\":true,\"zerolinewidth\":2},\"scene\":{\"xaxis\":{\"backgroundcolor\":\"#E5ECF6\",\"gridcolor\":\"white\",\"linecolor\":\"white\",\"showbackground\":true,\"ticks\":\"\",\"zerolinecolor\":\"white\",\"gridwidth\":2},\"yaxis\":{\"backgroundcolor\":\"#E5ECF6\",\"gridcolor\":\"white\",\"linecolor\":\"white\",\"showbackground\":true,\"ticks\":\"\",\"zerolinecolor\":\"white\",\"gridwidth\":2},\"zaxis\":{\"backgroundcolor\":\"#E5ECF6\",\"gridcolor\":\"white\",\"linecolor\":\"white\",\"showbackground\":true,\"ticks\":\"\",\"zerolinecolor\":\"white\",\"gridwidth\":2}},\"shapedefaults\":{\"line\":{\"color\":\"#2a3f5f\"}},\"annotationdefaults\":{\"arrowcolor\":\"#2a3f5f\",\"arrowhead\":0,\"arrowwidth\":1},\"geo\":{\"bgcolor\":\"white\",\"landcolor\":\"#E5ECF6\",\"subunitcolor\":\"white\",\"showland\":true,\"showlakes\":true,\"lakecolor\":\"white\"},\"title\":{\"x\":0.05},\"mapbox\":{\"style\":\"light\"}}}},                        {\"responsive\": true}                    ).then(function(){\n",
              "                            \n",
              "var gd = document.getElementById('c033dc8d-bee6-4898-be4b-94f7045b91cf');\n",
              "var x = new MutationObserver(function (mutations, observer) {{\n",
              "        var display = window.getComputedStyle(gd).display;\n",
              "        if (!display || display === 'none') {{\n",
              "            console.log([gd, 'removed!']);\n",
              "            Plotly.purge(gd);\n",
              "            observer.disconnect();\n",
              "        }}\n",
              "}});\n",
              "\n",
              "// Listen for the removal of the full notebook cells\n",
              "var notebookContainer = gd.closest('#notebook-container');\n",
              "if (notebookContainer) {{\n",
              "    x.observe(notebookContainer, {childList: true});\n",
              "}}\n",
              "\n",
              "// Listen for the clearing of the current output cell\n",
              "var outputEl = gd.closest('.output');\n",
              "if (outputEl) {{\n",
              "    x.observe(outputEl, {childList: true});\n",
              "}}\n",
              "\n",
              "                        })                };                            </script>        </div>\n",
              "</body>\n",
              "</html>"
            ]
          },
          "metadata": {}
        }
      ]
    },
    {
      "cell_type": "markdown",
      "source": [
        "## Breakout Room #2: Fine-tuning a BERT-Style Embedding Model on Question Answer Pairs.\n",
        "\n",
        "Now that we've seen where embeddings \"started\", as it were, let's see where they've gotten.\n",
        "\n",
        "In this section, we'll be fine-tuning Hugging Face's [sentence transformers](https://www.sbert.net/).\n",
        "\n",
        "Sentence Transformers leverages the work done in the [Sentence-BERT](https://arxiv.org/abs/1908.10084) paper. So while the idea of converting input text into a dense vector representation is the same, the way we got to those embeddings is a bit different.\n",
        "\n",
        "> NOTE: As the name implies, the following model is an *ENTIRE* transformer model (though Encoder-only, as described by Sentence-BERT)."
      ],
      "metadata": {
        "id": "Ay6CQ4yRqjc9"
      }
    },
    {
      "cell_type": "markdown",
      "source": [
        "### Fine-tuning Our Embeddings Model\n",
        "\n",
        "Finally, the set up is complete - and we can move on to fine-tuning our sentence transformer embedding model!\n",
        "\n",
        "The process is simplified considerably by how amazing the Hugging Face `sentence-transformer` library is, so let's jump straight in!"
      ],
      "metadata": {
        "id": "pUHK8gBfIv9U"
      }
    },
    {
      "cell_type": "code",
      "source": [
        "!pip install -U -q sentence-transformers"
      ],
      "metadata": {
        "id": "J6QtdQve12PP",
        "colab": {
          "base_uri": "https://localhost:8080/"
        },
        "outputId": "35d352a5-cb38-4f74-b872-2189aeaa93dd"
      },
      "execution_count": 22,
      "outputs": [
        {
          "output_type": "stream",
          "name": "stdout",
          "text": [
            "\u001b[?25l   \u001b[90m━━━━━━━━━━━━━━━━━━━━━━━━━━━━━━━━━━━━━━━━\u001b[0m \u001b[32m0.0/268.8 kB\u001b[0m \u001b[31m?\u001b[0m eta \u001b[36m-:--:--\u001b[0m\r\u001b[2K   \u001b[90m━━━━━━━━━━━━━━━━━━━━━━━━━━━━━━━━━━━━━━━━\u001b[0m \u001b[32m268.8/268.8 kB\u001b[0m \u001b[31m17.4 MB/s\u001b[0m eta \u001b[36m0:00:00\u001b[0m\n",
            "\u001b[?25h"
          ]
        }
      ]
    },
    {
      "cell_type": "code",
      "source": [
        "from sentence_transformers import SentenceTransformer"
      ],
      "metadata": {
        "id": "98C2YcEj10di"
      },
      "execution_count": 23,
      "outputs": []
    },
    {
      "cell_type": "markdown",
      "source": [
        "We're going to use the `BAAI/bge-small-en` embedding model as an example, but you could use any of the `sentence-transformer` embeddings models."
      ],
      "metadata": {
        "id": "YY3CCeScJboJ"
      }
    },
    {
      "cell_type": "code",
      "source": [
        "model_id = \"BAAI/bge-small-en\"\n",
        "model = SentenceTransformer(model_id)"
      ],
      "metadata": {
        "id": "5tiyPUjj11in",
        "colab": {
          "base_uri": "https://localhost:8080/",
          "height": 508,
          "referenced_widgets": [
            "a8d08ec56a7d4eba9f828ac1a179c809",
            "127a622199c34fbfb2830bab812fdb10",
            "8ca2fbf4278544e2a495b3ccc98f2d9d",
            "9cc5c7e26dbb4cb69501a30d803a8e91",
            "0fceed18dd1a4846a1e76ba7b93cf785",
            "c81d2c6979de462d8c2293b178ca9c57",
            "6adb6a6835294bccbb5dab032e658809",
            "e0eb3beb9a114313af96886671220bbd",
            "b49c1ad30758480d8cfe9a4fe7ab9e2d",
            "d4f5452cb45e4641b6968c80b7d115fc",
            "4f1538fac0894090a0092e964fb05174",
            "a7f27464afb34ded8e31b2f71afd9136",
            "9d228f5d56ad47efbe5927ce24a8d10b",
            "44cebb45b138453bae750fb7f5e9838e",
            "154a702970ce41f8a05ab1a4438fc409",
            "1b49e23df4844171be36231c3d579baf",
            "52555fcb054740c5a923959ece2ffc0b",
            "4829fee329bb4fdabbfa30bae92b390c",
            "04810defe8824cd5bf1456a760dba676",
            "fbede3e90b754a5b9369e3db387ee157",
            "2c2dc2feabf443d1959b7689f4751ae2",
            "6ee9ff0e38dc4602a041787fe32b88fa",
            "0d5e7ef88cb642d99f0effda506b4e02",
            "ea8e445bc708418487dd983d802b0a11",
            "aa31c53f1f1d43ffa9fbada6bd7dfd41",
            "52745436c8e941758f3a43883d4e4a66",
            "0a07c29bd6e8450d9563ee3447671d41",
            "2bbdb887cb4640f4bd2345777924d60d",
            "d2a1aed341a942f2b05a706bc4fe0613",
            "31b226b85f55492faa0ed6548da7ef0b",
            "6468aa89edeb4d3ebcac1e52e9fcc83d",
            "852f9790257141d994972f828e2873e5",
            "936d48cd8bfd476694cd31a75753bd0d",
            "f475755b0b19484ab468498d97c1151b",
            "5e2434931af041d7864670bd6ff82edb",
            "598673981e2e4a228cf93db9457420a0",
            "77a2a336f69b474a85df4f741bc5fb46",
            "af5329867df440f09b8ff12234a62629",
            "1c8d3e3ebd664c048b49d0e95d6738ec",
            "367dfa0bcfa8484e8873b76d0eb5de5b",
            "1748b78cb2fc458eb9f7f9ba2ab9eb7d",
            "00cad9a33b6749fd8990fc90ca1768e6",
            "ab940b6bd4c54a47916a01d4ff1cc6e7",
            "0ec1d2a52c254cb4aecfd6466c3d14e6",
            "afb61133fae84e3e891d3c52637438c5",
            "433d3570ea7a4367ba4be6f3bc3bc2a1",
            "123c517dd5ff4327be6679db96816565",
            "bfa2d01baf084562a9543ed6c0c63520",
            "f843569d19df450fa49c024442a58e7f",
            "18e3bca4bb8c4c1883032f3e32508dde",
            "7ac92efd81a244c8810ca69fb3028fee",
            "26f4e8653cac41a2a9eb10d6b98a8d61",
            "b334122f47cd4f1f942ae6cba6f2500f",
            "b1ba6a28d1b94d9b8e04843699d6ec4b",
            "070079a65d1843ff9b97c421959cfa9e",
            "c286758b311f43a38af7edb5ad133c7b",
            "4be9b4b597724add93e800c5b88cff71",
            "38f0070da45d4cab82ed1a7bbce2c71b",
            "bd94aaa031dd46c0b8b34a5e2245df78",
            "8f779a77406648e9810709f3a9a162b9",
            "f02f23801cbb484d9b76889b6cde5344",
            "fbbcee4e64f343cb8aaefb5151bf0d67",
            "f7352248af6647aea57fa941d6b61326",
            "d279c6df1c5f4106941858edb5b6cf33",
            "7296132004bb475783240fd5d1984c29",
            "9413a7c3db134e859d3c38b8fec591ad",
            "d42ab371c23c45d6870210b7c29d3f9e",
            "094817f50c094d60be8d6f74ec4c4541",
            "8832686d1f0f49b99a84743b257e27b7",
            "87b8420b69f64ea185a631decf13874b",
            "a9edb0b1a34c431392574715e398181d",
            "d27bcdfbd67c4e07969bf9a66db732b6",
            "e6488bffc35e4f4398a1aafc1e8cd8df",
            "24ec1b5d95db449087dc8f4ca3c159e7",
            "ecd7e3a3a5a047c2a00c87065f279019",
            "43ab8fa696c543c3bcf0f51f62ee7e79",
            "be744ed0735d420a9b31d335e2cf4531",
            "10a056544fc942d3b7e868fbca09e216",
            "cb13ce44f46e44b0957ae04009fa1a3c",
            "7af575e0ebe34cf38f36decf500188a1",
            "3ec88763613e4bcfbb7c023a91d87c2e",
            "db50e5bac6ae4e59ab229aa555650297",
            "4281a8651bff47439b458f8c283b5282",
            "c7b6f6938e904ce68f8585c494977990",
            "1ed57e77b68747b7a71637df86079778",
            "9d7fb4b9635f4a45ae7375402ef5d2b8",
            "63b5d00c8e4d45da8035d5c3a8d4b8fc",
            "ffdfc0cddeee49bf87232857ad800a55",
            "44e5ad9acb204a109578f8c7e29225a4",
            "a619e0b42ae34568ae1a7cd194c7d441",
            "763f2946ac9549e69252082463f2056a",
            "bd3aa6177c3a4459af78c5b39953b82e",
            "a403eba3e5cd41249e4a5b5c9f86a000",
            "51781ac7bc2a45f78f6c9cfc080b326a",
            "cc56bcd93e8d4caa9bed2c772dc8ca45",
            "922d78b0ec41435a888c123eb11ddef8",
            "eb96946d6dff444992800e251653277d",
            "db83d56374cb46ddadb49f4bb24cd5e6",
            "260cd5940f6d4511a151e294733d9938",
            "bb94b91179454ea8ba796533e146e3d1",
            "1da0662e23314776b469818ea6dcb16e",
            "f521019e8384469183a72e2d9260e994",
            "201eb974c7a24783a07765d9b44285ed",
            "05e7ab22d8b543ccbd235bd8fa64622f",
            "70d58cd3706f42cda6140b9847151e14",
            "31cd2d30faed464a96b1d677f2cc0f71",
            "feef472910624c7683e592151a100cca",
            "26c4af3b0df9473287deb4b380bb7d0b",
            "154714828b1e436095620335522cf58f",
            "b56e2cf495b444fbb97f6fc9c4f9db3f",
            "776be846567847a4a5e00bc84b2795b8",
            "9e0f204cf32c45bcbebfdab1a0937329",
            "54ddad08e9cc4b6387dd41d7635885a3",
            "37487daa3f294c4ba49540905ced2128",
            "62bb48b9a6d14d27ad6dbd07fffb6a13",
            "893a4c5810494c65a2fd13fcf4ea123d",
            "d920ef1c2cb84d79af1d20d5b06eb79f",
            "9e304654ff6442bd88c339c10ac80363",
            "896228689b4a4e359ddf3668f74abd4b",
            "6c59770d449946b0be4df92ece7abbb7",
            "a1599381d0c548d0b2d047563c2cef16"
          ]
        },
        "outputId": "fec44ae1-1191-4a1b-f6ea-490e9f8adf2f"
      },
      "execution_count": 24,
      "outputs": [
        {
          "output_type": "stream",
          "name": "stderr",
          "text": [
            "/usr/local/lib/python3.10/dist-packages/huggingface_hub/utils/_auth.py:94: UserWarning:\n",
            "\n",
            "\n",
            "The secret `HF_TOKEN` does not exist in your Colab secrets.\n",
            "To authenticate with the Hugging Face Hub, create a token in your settings tab (https://huggingface.co/settings/tokens), set it as secret in your Google Colab and restart your session.\n",
            "You will be able to reuse this secret in all of your notebooks.\n",
            "Please note that authentication is recommended but still optional to access public models or datasets.\n",
            "\n"
          ]
        },
        {
          "output_type": "display_data",
          "data": {
            "text/plain": [
              "modules.json:   0%|          | 0.00/349 [00:00<?, ?B/s]"
            ],
            "application/vnd.jupyter.widget-view+json": {
              "version_major": 2,
              "version_minor": 0,
              "model_id": "a8d08ec56a7d4eba9f828ac1a179c809"
            }
          },
          "metadata": {}
        },
        {
          "output_type": "display_data",
          "data": {
            "text/plain": [
              "config_sentence_transformers.json:   0%|          | 0.00/124 [00:00<?, ?B/s]"
            ],
            "application/vnd.jupyter.widget-view+json": {
              "version_major": 2,
              "version_minor": 0,
              "model_id": "a7f27464afb34ded8e31b2f71afd9136"
            }
          },
          "metadata": {}
        },
        {
          "output_type": "display_data",
          "data": {
            "text/plain": [
              "README.md:   0%|          | 0.00/90.8k [00:00<?, ?B/s]"
            ],
            "application/vnd.jupyter.widget-view+json": {
              "version_major": 2,
              "version_minor": 0,
              "model_id": "0d5e7ef88cb642d99f0effda506b4e02"
            }
          },
          "metadata": {}
        },
        {
          "output_type": "display_data",
          "data": {
            "text/plain": [
              "sentence_bert_config.json:   0%|          | 0.00/52.0 [00:00<?, ?B/s]"
            ],
            "application/vnd.jupyter.widget-view+json": {
              "version_major": 2,
              "version_minor": 0,
              "model_id": "f475755b0b19484ab468498d97c1151b"
            }
          },
          "metadata": {}
        },
        {
          "output_type": "display_data",
          "data": {
            "text/plain": [
              "config.json:   0%|          | 0.00/684 [00:00<?, ?B/s]"
            ],
            "application/vnd.jupyter.widget-view+json": {
              "version_major": 2,
              "version_minor": 0,
              "model_id": "afb61133fae84e3e891d3c52637438c5"
            }
          },
          "metadata": {}
        },
        {
          "output_type": "display_data",
          "data": {
            "text/plain": [
              "model.safetensors:   0%|          | 0.00/133M [00:00<?, ?B/s]"
            ],
            "application/vnd.jupyter.widget-view+json": {
              "version_major": 2,
              "version_minor": 0,
              "model_id": "c286758b311f43a38af7edb5ad133c7b"
            }
          },
          "metadata": {}
        },
        {
          "output_type": "display_data",
          "data": {
            "text/plain": [
              "tokenizer_config.json:   0%|          | 0.00/366 [00:00<?, ?B/s]"
            ],
            "application/vnd.jupyter.widget-view+json": {
              "version_major": 2,
              "version_minor": 0,
              "model_id": "d42ab371c23c45d6870210b7c29d3f9e"
            }
          },
          "metadata": {}
        },
        {
          "output_type": "display_data",
          "data": {
            "text/plain": [
              "vocab.txt:   0%|          | 0.00/232k [00:00<?, ?B/s]"
            ],
            "application/vnd.jupyter.widget-view+json": {
              "version_major": 2,
              "version_minor": 0,
              "model_id": "10a056544fc942d3b7e868fbca09e216"
            }
          },
          "metadata": {}
        },
        {
          "output_type": "display_data",
          "data": {
            "text/plain": [
              "tokenizer.json:   0%|          | 0.00/711k [00:00<?, ?B/s]"
            ],
            "application/vnd.jupyter.widget-view+json": {
              "version_major": 2,
              "version_minor": 0,
              "model_id": "44e5ad9acb204a109578f8c7e29225a4"
            }
          },
          "metadata": {}
        },
        {
          "output_type": "display_data",
          "data": {
            "text/plain": [
              "special_tokens_map.json:   0%|          | 0.00/125 [00:00<?, ?B/s]"
            ],
            "application/vnd.jupyter.widget-view+json": {
              "version_major": 2,
              "version_minor": 0,
              "model_id": "bb94b91179454ea8ba796533e146e3d1"
            }
          },
          "metadata": {}
        },
        {
          "output_type": "display_data",
          "data": {
            "text/plain": [
              "1_Pooling/config.json:   0%|          | 0.00/190 [00:00<?, ?B/s]"
            ],
            "application/vnd.jupyter.widget-view+json": {
              "version_major": 2,
              "version_minor": 0,
              "model_id": "776be846567847a4a5e00bc84b2795b8"
            }
          },
          "metadata": {}
        }
      ]
    },
    {
      "cell_type": "code",
      "source": [
        "model"
      ],
      "metadata": {
        "id": "Y4wJgYpg1-Nh",
        "colab": {
          "base_uri": "https://localhost:8080/"
        },
        "outputId": "d4e51d02-5213-4b93-9043-e030f4437d5a"
      },
      "execution_count": 25,
      "outputs": [
        {
          "output_type": "execute_result",
          "data": {
            "text/plain": [
              "SentenceTransformer(\n",
              "  (0): Transformer({'max_seq_length': 512, 'do_lower_case': True}) with Transformer model: BertModel \n",
              "  (1): Pooling({'word_embedding_dimension': 384, 'pooling_mode_cls_token': True, 'pooling_mode_mean_tokens': False, 'pooling_mode_max_tokens': False, 'pooling_mode_mean_sqrt_len_tokens': False, 'pooling_mode_weightedmean_tokens': False, 'pooling_mode_lasttoken': False, 'include_prompt': True})\n",
              "  (2): Normalize()\n",
              ")"
            ]
          },
          "metadata": {},
          "execution_count": 25
        }
      ]
    },
    {
      "cell_type": "markdown",
      "source": [
        "Let's load our data into the desired format!"
      ],
      "metadata": {
        "id": "fBP9U6w-Jyyo"
      }
    },
    {
      "cell_type": "code",
      "source": [
        "from torch.utils.data import DataLoader\n",
        "from sentence_transformers import InputExample"
      ],
      "metadata": {
        "id": "cUy0HwPp1-TW"
      },
      "execution_count": 26,
      "outputs": []
    },
    {
      "cell_type": "code",
      "source": [
        "!git clone https://github.com/AI-Maker-Space/DataRepository"
      ],
      "metadata": {
        "colab": {
          "base_uri": "https://localhost:8080/"
        },
        "id": "xhxUvhnkghmo",
        "outputId": "a5eb3315-108a-4235-8c29-1eea640659bf"
      },
      "execution_count": 27,
      "outputs": [
        {
          "output_type": "stream",
          "name": "stdout",
          "text": [
            "Cloning into 'DataRepository'...\n",
            "remote: Enumerating objects: 119, done.\u001b[K\n",
            "remote: Counting objects: 100% (111/111), done.\u001b[K\n",
            "remote: Compressing objects: 100% (96/96), done.\u001b[K\n",
            "remote: Total 119 (delta 36), reused 40 (delta 10), pack-reused 8 (from 1)\u001b[K\n",
            "Receiving objects: 100% (119/119), 78.04 MiB | 15.15 MiB/s, done.\n",
            "Resolving deltas: 100% (36/36), done.\n"
          ]
        }
      ]
    },
    {
      "cell_type": "code",
      "source": [
        "TRAIN_DATASET_FPATH = './DataRepository/embedding_data/train_dataset.json'\n",
        "VAL_DATASET_FPATH = './DataRepository/embedding_data/eval_dataset.json'"
      ],
      "metadata": {
        "id": "q7OEQVmu2Kfb"
      },
      "execution_count": 28,
      "outputs": []
    },
    {
      "cell_type": "code",
      "source": [
        "import json\n",
        "\n",
        "with open(TRAIN_DATASET_FPATH, 'r+') as f:\n",
        "    train_dataset = json.load(f)\n",
        "\n",
        "with open(VAL_DATASET_FPATH, 'r+') as f:\n",
        "    val_dataset = json.load(f)"
      ],
      "metadata": {
        "id": "Mw_hAOx_2NLz"
      },
      "execution_count": 29,
      "outputs": []
    },
    {
      "cell_type": "code",
      "source": [
        "dataset = train_dataset\n",
        "\n",
        "corpus = dataset['corpus']\n",
        "queries = dataset['queries']\n",
        "relevant_docs = dataset['relevant_docs']\n",
        "\n",
        "examples = []\n",
        "for query_id, query in queries.items():\n",
        "    node_id = relevant_docs[query_id][0]\n",
        "    text = corpus[node_id]\n",
        "    example = InputExample(texts=[query, text])\n",
        "    examples.append(example)"
      ],
      "metadata": {
        "id": "6tOJ3GIN2Odx"
      },
      "execution_count": 30,
      "outputs": []
    },
    {
      "cell_type": "markdown",
      "source": [
        "We're going to be leveraging `sentence_transformers` `MultipleNegativesRankingLoss` as our loss function.\n",
        "\n",
        "You can read more about it in the docs, [here](https://www.sbert.net/docs/package_reference/losses.html#multiplenegativesrankingloss).\n",
        "\n",
        "Note that there is [research](https://arxiv.org/pdf/1705.00652.pdf) that indicates that performance generally scales with `BATCH_SIZE`, but we're going to stick with an arbitrary 10 for the example in the notebook."
      ],
      "metadata": {
        "id": "6uAhnbW_LxaK"
      }
    },
    {
      "cell_type": "markdown",
      "source": [
        "##### ❓ Question #3:\n",
        "\n",
        "What is happening in `MultipleNegativesRankingLoss` that makes it useful for our task?"
      ],
      "metadata": {
        "id": "4lcgcmPdd3K2"
      }
    },
    {
      "cell_type": "code",
      "source": [
        "from sentence_transformers import losses"
      ],
      "metadata": {
        "id": "JwX2ltEj2RBn"
      },
      "execution_count": 31,
      "outputs": []
    },
    {
      "cell_type": "code",
      "source": [
        "loss = losses.MultipleNegativesRankingLoss(model)"
      ],
      "metadata": {
        "id": "T6LQuafa2R54"
      },
      "execution_count": 32,
      "outputs": []
    },
    {
      "cell_type": "code",
      "source": [
        "BATCH_SIZE = 10\n",
        "\n",
        "loader = DataLoader(\n",
        "    examples, batch_size=BATCH_SIZE\n",
        ")"
      ],
      "metadata": {
        "id": "RCZwGmQY2Pv5"
      },
      "execution_count": 33,
      "outputs": []
    },
    {
      "cell_type": "markdown",
      "source": [
        "We'll set up the `InformationRetrievalEvaluator` to determine performance during training."
      ],
      "metadata": {
        "id": "lpPrZ_6ZMOqh"
      }
    },
    {
      "cell_type": "code",
      "source": [
        "from sentence_transformers.evaluation import InformationRetrievalEvaluator"
      ],
      "metadata": {
        "id": "HCuVK5S22TnQ"
      },
      "execution_count": 34,
      "outputs": []
    },
    {
      "cell_type": "code",
      "source": [
        "dataset = val_dataset\n",
        "\n",
        "corpus = dataset['corpus']\n",
        "queries = dataset['queries']\n",
        "relevant_docs = dataset['relevant_docs']\n",
        "\n",
        "evaluator = InformationRetrievalEvaluator(queries, corpus, relevant_docs)"
      ],
      "metadata": {
        "id": "0d90XGt92U1P"
      },
      "execution_count": 35,
      "outputs": []
    },
    {
      "cell_type": "markdown",
      "source": [
        "You could use a larger epoch size here, but for the example in the Notebook, we'll stick with 10."
      ],
      "metadata": {
        "id": "P2GR2A28MUBD"
      }
    },
    {
      "cell_type": "code",
      "source": [
        "EPOCHS = 10"
      ],
      "metadata": {
        "id": "un4ee2dM2WF4"
      },
      "execution_count": 36,
      "outputs": []
    },
    {
      "cell_type": "markdown",
      "source": [
        "Nothing left to do but #trainthatmodel!\n",
        "\n",
        "> NOTE: You'll need to make sure you enter the desired Weights and Biases key - you should be able to simple click the link `https://wandb.ai/authorize` and follow the outlined steps to get the API key."
      ],
      "metadata": {
        "id": "mhClKkMLMZxW"
      }
    },
    {
      "cell_type": "code",
      "source": [
        "from datasets import Dataset\n",
        "from torch.utils.data import DataLoader\n",
        "\n",
        "warmup_steps = int(len(loader) * EPOCHS * 0.1)\n",
        "\n",
        "model.fit(\n",
        "    train_objectives=[(loader, loss)],\n",
        "    epochs=EPOCHS,\n",
        "    warmup_steps=warmup_steps,\n",
        "    output_path='exp_finetune',\n",
        "    show_progress_bar=True,\n",
        "    evaluator=evaluator,\n",
        "    evaluation_steps=50,\n",
        ")"
      ],
      "metadata": {
        "id": "l8-oSdDB2Ymm",
        "colab": {
          "base_uri": "https://localhost:8080/",
          "height": 928,
          "referenced_widgets": [
            "bc9e12a194234b13b14be948c671f0b9",
            "8a8504d6ef7247d9bfc02e76a046f6d0",
            "24fa378a8d014ae3ad68428fe0a3652c",
            "cee901dbda234726966120d8ef8d8cac",
            "492eed978fc244afaccef3ebff63f5fa",
            "9b173f19180f40f38892b6fd1562e228",
            "8164cfd502b84f54b7a2f8ea0f163346",
            "ad66487b77bb45d091b1d387f8bacd1b",
            "32e190974a47478c905d1043fca91cf3",
            "4b91626ba8bc4f0099642e8cfbfeca21",
            "8414abff75fc456ba2fdbf5ac493e309"
          ]
        },
        "outputId": "44986954-61dd-4c52-ad6e-86aeb80940f2"
      },
      "execution_count": 37,
      "outputs": [
        {
          "output_type": "stream",
          "name": "stderr",
          "text": [
            "\u001b[34m\u001b[1mwandb\u001b[0m: \u001b[33mWARNING\u001b[0m The `run_name` is currently set to the same value as `TrainingArguments.output_dir`. If this was not intended, please specify a different run name by setting the `TrainingArguments.run_name` parameter.\n",
            "\u001b[34m\u001b[1mwandb\u001b[0m: Using wandb-core as the SDK backend.  Please refer to https://wandb.me/wandb-core for more information.\n"
          ]
        },
        {
          "output_type": "display_data",
          "data": {
            "text/plain": [
              "<IPython.core.display.Javascript object>"
            ],
            "application/javascript": [
              "\n",
              "        window._wandbApiKey = new Promise((resolve, reject) => {\n",
              "            function loadScript(url) {\n",
              "            return new Promise(function(resolve, reject) {\n",
              "                let newScript = document.createElement(\"script\");\n",
              "                newScript.onerror = reject;\n",
              "                newScript.onload = resolve;\n",
              "                document.body.appendChild(newScript);\n",
              "                newScript.src = url;\n",
              "            });\n",
              "            }\n",
              "            loadScript(\"https://cdn.jsdelivr.net/npm/postmate/build/postmate.min.js\").then(() => {\n",
              "            const iframe = document.createElement('iframe')\n",
              "            iframe.style.cssText = \"width:0;height:0;border:none\"\n",
              "            document.body.appendChild(iframe)\n",
              "            const handshake = new Postmate({\n",
              "                container: iframe,\n",
              "                url: 'https://wandb.ai/authorize'\n",
              "            });\n",
              "            const timeout = setTimeout(() => reject(\"Couldn't auto authenticate\"), 5000)\n",
              "            handshake.then(function(child) {\n",
              "                child.on('authorize', data => {\n",
              "                    clearTimeout(timeout)\n",
              "                    resolve(data)\n",
              "                });\n",
              "            });\n",
              "            })\n",
              "        });\n",
              "    "
            ]
          },
          "metadata": {}
        },
        {
          "output_type": "stream",
          "name": "stderr",
          "text": [
            "\u001b[34m\u001b[1mwandb\u001b[0m: Logging into wandb.ai. (Learn how to deploy a W&B server locally: https://wandb.me/wandb-server)\n",
            "\u001b[34m\u001b[1mwandb\u001b[0m: You can find your API key in your browser here: https://wandb.ai/authorize\n",
            "wandb: Paste an API key from your profile and hit enter, or press ctrl+c to quit:"
          ]
        },
        {
          "name": "stdout",
          "output_type": "stream",
          "text": [
            " ··········\n"
          ]
        },
        {
          "output_type": "stream",
          "name": "stderr",
          "text": [
            "\u001b[34m\u001b[1mwandb\u001b[0m: Appending key for api.wandb.ai to your netrc file: /root/.netrc\n"
          ]
        },
        {
          "output_type": "display_data",
          "data": {
            "text/plain": [
              "<IPython.core.display.HTML object>"
            ],
            "text/html": [
              "Tracking run with wandb version 0.18.7"
            ]
          },
          "metadata": {}
        },
        {
          "output_type": "display_data",
          "data": {
            "text/plain": [
              "<IPython.core.display.HTML object>"
            ],
            "text/html": [
              "Run data is saved locally in <code>/content/wandb/run-20241203_225204-3lrucjc1</code>"
            ]
          },
          "metadata": {}
        },
        {
          "output_type": "display_data",
          "data": {
            "text/plain": [
              "<IPython.core.display.HTML object>"
            ],
            "text/html": [
              "Syncing run <strong><a href='https://wandb.ai/arndvs-ripemetrics/sentence-transformers/runs/3lrucjc1' target=\"_blank\">checkpoints/model</a></strong> to <a href='https://wandb.ai/arndvs-ripemetrics/sentence-transformers' target=\"_blank\">Weights & Biases</a> (<a href='https://wandb.me/developer-guide' target=\"_blank\">docs</a>)<br/>"
            ]
          },
          "metadata": {}
        },
        {
          "output_type": "display_data",
          "data": {
            "text/plain": [
              "<IPython.core.display.HTML object>"
            ],
            "text/html": [
              " View project at <a href='https://wandb.ai/arndvs-ripemetrics/sentence-transformers' target=\"_blank\">https://wandb.ai/arndvs-ripemetrics/sentence-transformers</a>"
            ]
          },
          "metadata": {}
        },
        {
          "output_type": "display_data",
          "data": {
            "text/plain": [
              "<IPython.core.display.HTML object>"
            ],
            "text/html": [
              " View run at <a href='https://wandb.ai/arndvs-ripemetrics/sentence-transformers/runs/3lrucjc1' target=\"_blank\">https://wandb.ai/arndvs-ripemetrics/sentence-transformers/runs/3lrucjc1</a>"
            ]
          },
          "metadata": {}
        },
        {
          "output_type": "display_data",
          "data": {
            "text/plain": [
              "<IPython.core.display.HTML object>"
            ],
            "text/html": [
              "\n",
              "    <div>\n",
              "      \n",
              "      <progress value='600' max='600' style='width:300px; height:20px; vertical-align: middle;'></progress>\n",
              "      [600/600 02:07, Epoch 10/10]\n",
              "    </div>\n",
              "    <table border=\"1\" class=\"dataframe\">\n",
              "  <thead>\n",
              " <tr style=\"text-align: left;\">\n",
              "      <th>Step</th>\n",
              "      <th>Training Loss</th>\n",
              "      <th>Validation Loss</th>\n",
              "      <th>Cosine Accuracy@1</th>\n",
              "      <th>Cosine Accuracy@3</th>\n",
              "      <th>Cosine Accuracy@5</th>\n",
              "      <th>Cosine Accuracy@10</th>\n",
              "      <th>Cosine Precision@1</th>\n",
              "      <th>Cosine Precision@3</th>\n",
              "      <th>Cosine Precision@5</th>\n",
              "      <th>Cosine Precision@10</th>\n",
              "      <th>Cosine Recall@1</th>\n",
              "      <th>Cosine Recall@3</th>\n",
              "      <th>Cosine Recall@5</th>\n",
              "      <th>Cosine Recall@10</th>\n",
              "      <th>Cosine Ndcg@10</th>\n",
              "      <th>Cosine Mrr@10</th>\n",
              "      <th>Cosine Map@100</th>\n",
              "    </tr>\n",
              "  </thead>\n",
              "  <tbody>\n",
              "    <tr>\n",
              "      <td>50</td>\n",
              "      <td>No log</td>\n",
              "      <td>No log</td>\n",
              "      <td>0.630872</td>\n",
              "      <td>0.791946</td>\n",
              "      <td>0.838926</td>\n",
              "      <td>0.899329</td>\n",
              "      <td>0.630872</td>\n",
              "      <td>0.263982</td>\n",
              "      <td>0.167785</td>\n",
              "      <td>0.089933</td>\n",
              "      <td>0.630872</td>\n",
              "      <td>0.791946</td>\n",
              "      <td>0.838926</td>\n",
              "      <td>0.899329</td>\n",
              "      <td>0.763430</td>\n",
              "      <td>0.720113</td>\n",
              "      <td>0.724508</td>\n",
              "    </tr>\n",
              "    <tr>\n",
              "      <td>60</td>\n",
              "      <td>No log</td>\n",
              "      <td>No log</td>\n",
              "      <td>0.627517</td>\n",
              "      <td>0.778523</td>\n",
              "      <td>0.842282</td>\n",
              "      <td>0.885906</td>\n",
              "      <td>0.627517</td>\n",
              "      <td>0.259508</td>\n",
              "      <td>0.168456</td>\n",
              "      <td>0.088591</td>\n",
              "      <td>0.627517</td>\n",
              "      <td>0.778523</td>\n",
              "      <td>0.842282</td>\n",
              "      <td>0.885906</td>\n",
              "      <td>0.755411</td>\n",
              "      <td>0.713607</td>\n",
              "      <td>0.718658</td>\n",
              "    </tr>\n",
              "    <tr>\n",
              "      <td>100</td>\n",
              "      <td>No log</td>\n",
              "      <td>No log</td>\n",
              "      <td>0.644295</td>\n",
              "      <td>0.788591</td>\n",
              "      <td>0.845638</td>\n",
              "      <td>0.895973</td>\n",
              "      <td>0.644295</td>\n",
              "      <td>0.262864</td>\n",
              "      <td>0.169128</td>\n",
              "      <td>0.089597</td>\n",
              "      <td>0.644295</td>\n",
              "      <td>0.788591</td>\n",
              "      <td>0.845638</td>\n",
              "      <td>0.895973</td>\n",
              "      <td>0.767730</td>\n",
              "      <td>0.726899</td>\n",
              "      <td>0.731367</td>\n",
              "    </tr>\n",
              "    <tr>\n",
              "      <td>120</td>\n",
              "      <td>No log</td>\n",
              "      <td>No log</td>\n",
              "      <td>0.634228</td>\n",
              "      <td>0.788591</td>\n",
              "      <td>0.832215</td>\n",
              "      <td>0.895973</td>\n",
              "      <td>0.634228</td>\n",
              "      <td>0.262864</td>\n",
              "      <td>0.166443</td>\n",
              "      <td>0.089597</td>\n",
              "      <td>0.634228</td>\n",
              "      <td>0.788591</td>\n",
              "      <td>0.832215</td>\n",
              "      <td>0.895973</td>\n",
              "      <td>0.764712</td>\n",
              "      <td>0.722739</td>\n",
              "      <td>0.727859</td>\n",
              "    </tr>\n",
              "    <tr>\n",
              "      <td>150</td>\n",
              "      <td>No log</td>\n",
              "      <td>No log</td>\n",
              "      <td>0.630872</td>\n",
              "      <td>0.771812</td>\n",
              "      <td>0.835570</td>\n",
              "      <td>0.885906</td>\n",
              "      <td>0.630872</td>\n",
              "      <td>0.257271</td>\n",
              "      <td>0.167114</td>\n",
              "      <td>0.088591</td>\n",
              "      <td>0.630872</td>\n",
              "      <td>0.771812</td>\n",
              "      <td>0.835570</td>\n",
              "      <td>0.885906</td>\n",
              "      <td>0.756317</td>\n",
              "      <td>0.714995</td>\n",
              "      <td>0.720317</td>\n",
              "    </tr>\n",
              "    <tr>\n",
              "      <td>180</td>\n",
              "      <td>No log</td>\n",
              "      <td>No log</td>\n",
              "      <td>0.637584</td>\n",
              "      <td>0.798658</td>\n",
              "      <td>0.832215</td>\n",
              "      <td>0.902685</td>\n",
              "      <td>0.637584</td>\n",
              "      <td>0.266219</td>\n",
              "      <td>0.166443</td>\n",
              "      <td>0.090268</td>\n",
              "      <td>0.637584</td>\n",
              "      <td>0.798658</td>\n",
              "      <td>0.832215</td>\n",
              "      <td>0.902685</td>\n",
              "      <td>0.767390</td>\n",
              "      <td>0.724489</td>\n",
              "      <td>0.728832</td>\n",
              "    </tr>\n",
              "    <tr>\n",
              "      <td>200</td>\n",
              "      <td>No log</td>\n",
              "      <td>No log</td>\n",
              "      <td>0.630872</td>\n",
              "      <td>0.795302</td>\n",
              "      <td>0.835570</td>\n",
              "      <td>0.906040</td>\n",
              "      <td>0.630872</td>\n",
              "      <td>0.265101</td>\n",
              "      <td>0.167114</td>\n",
              "      <td>0.090604</td>\n",
              "      <td>0.630872</td>\n",
              "      <td>0.795302</td>\n",
              "      <td>0.835570</td>\n",
              "      <td>0.906040</td>\n",
              "      <td>0.766550</td>\n",
              "      <td>0.722321</td>\n",
              "      <td>0.726448</td>\n",
              "    </tr>\n",
              "    <tr>\n",
              "      <td>240</td>\n",
              "      <td>No log</td>\n",
              "      <td>No log</td>\n",
              "      <td>0.627517</td>\n",
              "      <td>0.778523</td>\n",
              "      <td>0.812081</td>\n",
              "      <td>0.889262</td>\n",
              "      <td>0.627517</td>\n",
              "      <td>0.259508</td>\n",
              "      <td>0.162416</td>\n",
              "      <td>0.088926</td>\n",
              "      <td>0.627517</td>\n",
              "      <td>0.778523</td>\n",
              "      <td>0.812081</td>\n",
              "      <td>0.889262</td>\n",
              "      <td>0.755208</td>\n",
              "      <td>0.712708</td>\n",
              "      <td>0.717628</td>\n",
              "    </tr>\n",
              "    <tr>\n",
              "      <td>250</td>\n",
              "      <td>No log</td>\n",
              "      <td>No log</td>\n",
              "      <td>0.634228</td>\n",
              "      <td>0.778523</td>\n",
              "      <td>0.815436</td>\n",
              "      <td>0.889262</td>\n",
              "      <td>0.634228</td>\n",
              "      <td>0.259508</td>\n",
              "      <td>0.163087</td>\n",
              "      <td>0.088926</td>\n",
              "      <td>0.634228</td>\n",
              "      <td>0.778523</td>\n",
              "      <td>0.815436</td>\n",
              "      <td>0.889262</td>\n",
              "      <td>0.758341</td>\n",
              "      <td>0.716775</td>\n",
              "      <td>0.722066</td>\n",
              "    </tr>\n",
              "    <tr>\n",
              "      <td>300</td>\n",
              "      <td>No log</td>\n",
              "      <td>No log</td>\n",
              "      <td>0.637584</td>\n",
              "      <td>0.791946</td>\n",
              "      <td>0.838926</td>\n",
              "      <td>0.895973</td>\n",
              "      <td>0.637584</td>\n",
              "      <td>0.263982</td>\n",
              "      <td>0.167785</td>\n",
              "      <td>0.089597</td>\n",
              "      <td>0.637584</td>\n",
              "      <td>0.791946</td>\n",
              "      <td>0.838926</td>\n",
              "      <td>0.895973</td>\n",
              "      <td>0.764657</td>\n",
              "      <td>0.722772</td>\n",
              "      <td>0.727183</td>\n",
              "    </tr>\n",
              "    <tr>\n",
              "      <td>350</td>\n",
              "      <td>No log</td>\n",
              "      <td>No log</td>\n",
              "      <td>0.614094</td>\n",
              "      <td>0.795302</td>\n",
              "      <td>0.828859</td>\n",
              "      <td>0.892617</td>\n",
              "      <td>0.614094</td>\n",
              "      <td>0.265101</td>\n",
              "      <td>0.165772</td>\n",
              "      <td>0.089262</td>\n",
              "      <td>0.614094</td>\n",
              "      <td>0.795302</td>\n",
              "      <td>0.828859</td>\n",
              "      <td>0.892617</td>\n",
              "      <td>0.753747</td>\n",
              "      <td>0.709248</td>\n",
              "      <td>0.713611</td>\n",
              "    </tr>\n",
              "    <tr>\n",
              "      <td>360</td>\n",
              "      <td>No log</td>\n",
              "      <td>No log</td>\n",
              "      <td>0.624161</td>\n",
              "      <td>0.785235</td>\n",
              "      <td>0.825503</td>\n",
              "      <td>0.889262</td>\n",
              "      <td>0.624161</td>\n",
              "      <td>0.261745</td>\n",
              "      <td>0.165101</td>\n",
              "      <td>0.088926</td>\n",
              "      <td>0.624161</td>\n",
              "      <td>0.785235</td>\n",
              "      <td>0.825503</td>\n",
              "      <td>0.889262</td>\n",
              "      <td>0.755448</td>\n",
              "      <td>0.712725</td>\n",
              "      <td>0.717313</td>\n",
              "    </tr>\n",
              "    <tr>\n",
              "      <td>400</td>\n",
              "      <td>No log</td>\n",
              "      <td>No log</td>\n",
              "      <td>0.637584</td>\n",
              "      <td>0.788591</td>\n",
              "      <td>0.842282</td>\n",
              "      <td>0.892617</td>\n",
              "      <td>0.637584</td>\n",
              "      <td>0.262864</td>\n",
              "      <td>0.168456</td>\n",
              "      <td>0.089262</td>\n",
              "      <td>0.637584</td>\n",
              "      <td>0.788591</td>\n",
              "      <td>0.842282</td>\n",
              "      <td>0.892617</td>\n",
              "      <td>0.765749</td>\n",
              "      <td>0.724904</td>\n",
              "      <td>0.729708</td>\n",
              "    </tr>\n",
              "    <tr>\n",
              "      <td>420</td>\n",
              "      <td>No log</td>\n",
              "      <td>No log</td>\n",
              "      <td>0.637584</td>\n",
              "      <td>0.791946</td>\n",
              "      <td>0.848993</td>\n",
              "      <td>0.892617</td>\n",
              "      <td>0.637584</td>\n",
              "      <td>0.263982</td>\n",
              "      <td>0.169799</td>\n",
              "      <td>0.089262</td>\n",
              "      <td>0.637584</td>\n",
              "      <td>0.791946</td>\n",
              "      <td>0.848993</td>\n",
              "      <td>0.892617</td>\n",
              "      <td>0.765594</td>\n",
              "      <td>0.724688</td>\n",
              "      <td>0.729387</td>\n",
              "    </tr>\n",
              "    <tr>\n",
              "      <td>450</td>\n",
              "      <td>No log</td>\n",
              "      <td>No log</td>\n",
              "      <td>0.634228</td>\n",
              "      <td>0.785235</td>\n",
              "      <td>0.842282</td>\n",
              "      <td>0.885906</td>\n",
              "      <td>0.634228</td>\n",
              "      <td>0.261745</td>\n",
              "      <td>0.168456</td>\n",
              "      <td>0.088591</td>\n",
              "      <td>0.634228</td>\n",
              "      <td>0.785235</td>\n",
              "      <td>0.842282</td>\n",
              "      <td>0.885906</td>\n",
              "      <td>0.759971</td>\n",
              "      <td>0.719484</td>\n",
              "      <td>0.724560</td>\n",
              "    </tr>\n",
              "    <tr>\n",
              "      <td>480</td>\n",
              "      <td>No log</td>\n",
              "      <td>No log</td>\n",
              "      <td>0.634228</td>\n",
              "      <td>0.788591</td>\n",
              "      <td>0.835570</td>\n",
              "      <td>0.892617</td>\n",
              "      <td>0.634228</td>\n",
              "      <td>0.262864</td>\n",
              "      <td>0.167114</td>\n",
              "      <td>0.089262</td>\n",
              "      <td>0.634228</td>\n",
              "      <td>0.788591</td>\n",
              "      <td>0.835570</td>\n",
              "      <td>0.892617</td>\n",
              "      <td>0.761011</td>\n",
              "      <td>0.719037</td>\n",
              "      <td>0.723595</td>\n",
              "    </tr>\n",
              "    <tr>\n",
              "      <td>500</td>\n",
              "      <td>0.233700</td>\n",
              "      <td>No log</td>\n",
              "      <td>0.627517</td>\n",
              "      <td>0.785235</td>\n",
              "      <td>0.835570</td>\n",
              "      <td>0.892617</td>\n",
              "      <td>0.627517</td>\n",
              "      <td>0.261745</td>\n",
              "      <td>0.167114</td>\n",
              "      <td>0.089262</td>\n",
              "      <td>0.627517</td>\n",
              "      <td>0.785235</td>\n",
              "      <td>0.835570</td>\n",
              "      <td>0.892617</td>\n",
              "      <td>0.758707</td>\n",
              "      <td>0.715921</td>\n",
              "      <td>0.720494</td>\n",
              "    </tr>\n",
              "    <tr>\n",
              "      <td>540</td>\n",
              "      <td>0.233700</td>\n",
              "      <td>No log</td>\n",
              "      <td>0.627517</td>\n",
              "      <td>0.788591</td>\n",
              "      <td>0.832215</td>\n",
              "      <td>0.892617</td>\n",
              "      <td>0.627517</td>\n",
              "      <td>0.262864</td>\n",
              "      <td>0.166443</td>\n",
              "      <td>0.089262</td>\n",
              "      <td>0.627517</td>\n",
              "      <td>0.788591</td>\n",
              "      <td>0.832215</td>\n",
              "      <td>0.892617</td>\n",
              "      <td>0.758650</td>\n",
              "      <td>0.715884</td>\n",
              "      <td>0.720390</td>\n",
              "    </tr>\n",
              "    <tr>\n",
              "      <td>550</td>\n",
              "      <td>0.233700</td>\n",
              "      <td>No log</td>\n",
              "      <td>0.627517</td>\n",
              "      <td>0.785235</td>\n",
              "      <td>0.832215</td>\n",
              "      <td>0.892617</td>\n",
              "      <td>0.627517</td>\n",
              "      <td>0.261745</td>\n",
              "      <td>0.166443</td>\n",
              "      <td>0.089262</td>\n",
              "      <td>0.627517</td>\n",
              "      <td>0.785235</td>\n",
              "      <td>0.832215</td>\n",
              "      <td>0.892617</td>\n",
              "      <td>0.758534</td>\n",
              "      <td>0.715721</td>\n",
              "      <td>0.720230</td>\n",
              "    </tr>\n",
              "    <tr>\n",
              "      <td>600</td>\n",
              "      <td>0.233700</td>\n",
              "      <td>No log</td>\n",
              "      <td>0.627517</td>\n",
              "      <td>0.788591</td>\n",
              "      <td>0.835570</td>\n",
              "      <td>0.892617</td>\n",
              "      <td>0.627517</td>\n",
              "      <td>0.262864</td>\n",
              "      <td>0.167114</td>\n",
              "      <td>0.089262</td>\n",
              "      <td>0.627517</td>\n",
              "      <td>0.788591</td>\n",
              "      <td>0.835570</td>\n",
              "      <td>0.892617</td>\n",
              "      <td>0.758799</td>\n",
              "      <td>0.716025</td>\n",
              "      <td>0.720560</td>\n",
              "    </tr>\n",
              "  </tbody>\n",
              "</table><p>"
            ]
          },
          "metadata": {}
        },
        {
          "output_type": "display_data",
          "data": {
            "text/plain": [
              "Computing widget examples:   0%|          | 0/1 [00:00<?, ?example/s]"
            ],
            "application/vnd.jupyter.widget-view+json": {
              "version_major": 2,
              "version_minor": 0,
              "model_id": "bc9e12a194234b13b14be948c671f0b9"
            }
          },
          "metadata": {}
        }
      ]
    },
    {
      "cell_type": "markdown",
      "source": [
        "### Task 2: Evaluating our Embeddings Models\n",
        "\n",
        "Now that we've fine-tuned our embedding model on our data - lets see how it performs compared to the base embeddings!"
      ],
      "metadata": {
        "id": "pqfp0F8lMeal"
      }
    },
    {
      "cell_type": "code",
      "source": [
        "import json\n",
        "from tqdm.notebook import tqdm\n",
        "import pandas as pd"
      ],
      "metadata": {
        "id": "OTtogOHpAUnA"
      },
      "execution_count": 38,
      "outputs": []
    },
    {
      "cell_type": "code",
      "source": [
        "TRAIN_DATASET_FPATH = './DataRepository/embedding_data/train_dataset.json'\n",
        "EVAL_DATASET_FPATH = './DataRepository/embedding_data/eval_dataset.json'"
      ],
      "metadata": {
        "id": "phzSwbIWAVPB"
      },
      "execution_count": 39,
      "outputs": []
    },
    {
      "cell_type": "code",
      "source": [
        "with open(TRAIN_DATASET_FPATH, 'r+') as f:\n",
        "    train_dataset = json.load(f)\n",
        "\n",
        "with open(EVAL_DATASET_FPATH, 'r+') as f:\n",
        "    eval_dataset = json.load(f)"
      ],
      "metadata": {
        "id": "SNygAxVNAYdT"
      },
      "execution_count": 40,
      "outputs": []
    },
    {
      "cell_type": "markdown",
      "source": [
        "We're going to be using the `InformationRetrievalEvaluator` to help us determine how well our embedding model is performing on a widely used task: Information Retrieval!\n",
        "\n",
        "You can dive deeper into the documentation [here](https://sbert.net/docs/package_reference/sentence_transformer/evaluation.html#informationretrievalevaluator) to see under the hood.\n",
        "\n",
        "You'll notice, however, that we have common suffixes for our evaluation metrics:\n",
        "\n",
        "- `X_accuracy@1`, `X_accuracy@3`, etc.\n",
        "\n",
        "This is computing metrics by looking at the accuracy, recall, precision, Mean Reciprocal Rank (MRR), Normalized Discounted Cumulative Gain (NDGC), and Mean-Average Precision (MAP) at various numbers of retrieved items.\n",
        "\n",
        "That is to say:\n",
        "\n",
        "We look at these scores as we include the first closest document, top three closest documents, etc.\n",
        "\n",
        "We can think of these `@k` as \"top k` metrics.\n",
        "\n",
        "These will help us guide important hyper-parameters when using these models for Information Retrieval tasks down the road!"
      ],
      "metadata": {
        "id": "mvbEUNfPMrRu"
      }
    },
    {
      "cell_type": "code",
      "source": [
        "from sentence_transformers.evaluation import InformationRetrievalEvaluator\n",
        "from sentence_transformers import SentenceTransformer\n",
        "\n",
        "def evaluate_st(\n",
        "    dataset,\n",
        "    model_id,\n",
        "    name,\n",
        "):\n",
        "    corpus = dataset['corpus']\n",
        "    queries = dataset['queries']\n",
        "    relevant_docs = dataset['relevant_docs']\n",
        "\n",
        "    evaluator = InformationRetrievalEvaluator(queries, corpus, relevant_docs, name=name)\n",
        "    model = SentenceTransformer(model_id)\n",
        "    return evaluator(model, output_path=\"/content/\")"
      ],
      "metadata": {
        "id": "ZU3Rt8c5AcTH"
      },
      "execution_count": 41,
      "outputs": []
    },
    {
      "cell_type": "markdown",
      "source": [
        "#####🏗️ Activity #2:\n",
        "\n",
        "Describe what the `evaluate` function is doing in the above cell in natural language."
      ],
      "metadata": {
        "id": "oCmlLxW1ugI0"
      }
    },
    {
      "cell_type": "markdown",
      "source": [
        "#### Base Embeddings Model Results"
      ],
      "metadata": {
        "id": "uKBjZ40dNtxA"
      }
    },
    {
      "cell_type": "code",
      "source": [
        "evaluate_st(eval_dataset, \"BAAI/bge-small-en\", name='bge')"
      ],
      "metadata": {
        "id": "c3_dVwuhAmJR",
        "colab": {
          "base_uri": "https://localhost:8080/"
        },
        "outputId": "e4e33a6a-dbe1-4070-f549-7386c059fecd"
      },
      "execution_count": 42,
      "outputs": [
        {
          "output_type": "execute_result",
          "data": {
            "text/plain": [
              "{'bge_cosine_accuracy@1': 0.5067114093959731,\n",
              " 'bge_cosine_accuracy@3': 0.714765100671141,\n",
              " 'bge_cosine_accuracy@5': 0.7818791946308725,\n",
              " 'bge_cosine_accuracy@10': 0.8288590604026845,\n",
              " 'bge_cosine_precision@1': 0.5067114093959731,\n",
              " 'bge_cosine_precision@3': 0.23825503355704697,\n",
              " 'bge_cosine_precision@5': 0.1563758389261745,\n",
              " 'bge_cosine_precision@10': 0.08288590604026844,\n",
              " 'bge_cosine_recall@1': 0.5067114093959731,\n",
              " 'bge_cosine_recall@3': 0.714765100671141,\n",
              " 'bge_cosine_recall@5': 0.7818791946308725,\n",
              " 'bge_cosine_recall@10': 0.8288590604026845,\n",
              " 'bge_cosine_ndcg@10': 0.6710313851865369,\n",
              " 'bge_cosine_mrr@10': 0.619814637264302,\n",
              " 'bge_cosine_map@100': 0.6279603491960256}"
            ]
          },
          "metadata": {},
          "execution_count": 42
        }
      ]
    },
    {
      "cell_type": "markdown",
      "source": [
        "#### Fine-tuned Results"
      ],
      "metadata": {
        "id": "nFQ6yFlmN9mc"
      }
    },
    {
      "cell_type": "code",
      "source": [
        "evaluate_st(eval_dataset, \"exp_finetune\", name='finetuned')"
      ],
      "metadata": {
        "id": "9Ddpn0ErAquN",
        "colab": {
          "base_uri": "https://localhost:8080/"
        },
        "outputId": "c259ed0d-6e45-4c44-d241-7e09d3125b2c"
      },
      "execution_count": 43,
      "outputs": [
        {
          "output_type": "execute_result",
          "data": {
            "text/plain": [
              "{'finetuned_cosine_accuracy@1': 0.6442953020134228,\n",
              " 'finetuned_cosine_accuracy@3': 0.7885906040268457,\n",
              " 'finetuned_cosine_accuracy@5': 0.8456375838926175,\n",
              " 'finetuned_cosine_accuracy@10': 0.8959731543624161,\n",
              " 'finetuned_cosine_precision@1': 0.6442953020134228,\n",
              " 'finetuned_cosine_precision@3': 0.2628635346756152,\n",
              " 'finetuned_cosine_precision@5': 0.16912751677852347,\n",
              " 'finetuned_cosine_precision@10': 0.0895973154362416,\n",
              " 'finetuned_cosine_recall@1': 0.6442953020134228,\n",
              " 'finetuned_cosine_recall@3': 0.7885906040268457,\n",
              " 'finetuned_cosine_recall@5': 0.8456375838926175,\n",
              " 'finetuned_cosine_recall@10': 0.8959731543624161,\n",
              " 'finetuned_cosine_ndcg@10': 0.7677298263110102,\n",
              " 'finetuned_cosine_mrr@10': 0.7268989027378289,\n",
              " 'finetuned_cosine_map@100': 0.7313671834327362}"
            ]
          },
          "metadata": {},
          "execution_count": 43
        }
      ]
    },
    {
      "cell_type": "markdown",
      "source": [
        "### Conclusion\n",
        "\n",
        "Now we can compare the embeddings models to see which performed the best!"
      ],
      "metadata": {
        "id": "o1nWWOohN_e5"
      }
    },
    {
      "cell_type": "code",
      "source": [
        "df_st_bge = pd.read_csv('/content/Information-Retrieval_evaluation_bge_results.csv')\n",
        "df_st_finetuned = pd.read_csv('/content/Information-Retrieval_evaluation_finetuned_results.csv')"
      ],
      "metadata": {
        "id": "Yse1ckCdAuLp"
      },
      "execution_count": 44,
      "outputs": []
    },
    {
      "cell_type": "code",
      "source": [
        "df_st_bge['model'] = 'bge'\n",
        "df_st_finetuned['model'] = 'fine_tuned'\n",
        "df_st_all = pd.concat([df_st_bge, df_st_finetuned])\n",
        "df_st_all = df_st_all.set_index('model')\n",
        "df_st_all"
      ],
      "metadata": {
        "id": "qOV9YTDnA4d2",
        "colab": {
          "base_uri": "https://localhost:8080/",
          "height": 161
        },
        "outputId": "fb9ffa88-317b-471c-ddb0-35f584579984"
      },
      "execution_count": 45,
      "outputs": [
        {
          "output_type": "execute_result",
          "data": {
            "text/plain": [
              "            epoch  steps  cosine-Accuracy@1  cosine-Accuracy@3  \\\n",
              "model                                                            \n",
              "bge            -1     -1           0.506711           0.714765   \n",
              "fine_tuned     -1     -1           0.644295           0.788591   \n",
              "\n",
              "            cosine-Accuracy@5  cosine-Accuracy@10  cosine-Precision@1  \\\n",
              "model                                                                   \n",
              "bge                  0.781879            0.828859            0.506711   \n",
              "fine_tuned           0.845638            0.895973            0.644295   \n",
              "\n",
              "            cosine-Recall@1  cosine-Precision@3  cosine-Recall@3  \\\n",
              "model                                                              \n",
              "bge                0.506711            0.238255         0.714765   \n",
              "fine_tuned         0.644295            0.262864         0.788591   \n",
              "\n",
              "            cosine-Precision@5  cosine-Recall@5  cosine-Precision@10  \\\n",
              "model                                                                  \n",
              "bge                   0.156376         0.781879             0.082886   \n",
              "fine_tuned            0.169128         0.845638             0.089597   \n",
              "\n",
              "            cosine-Recall@10  cosine-MRR@10  cosine-NDCG@10  cosine-MAP@100  \n",
              "model                                                                        \n",
              "bge                 0.828859       0.619815        0.671031        0.627960  \n",
              "fine_tuned          0.895973       0.726899        0.767730        0.731367  "
            ],
            "text/html": [
              "\n",
              "  <div id=\"df-68594a85-b262-40a3-98ce-fcb267be6632\" class=\"colab-df-container\">\n",
              "    <div>\n",
              "<style scoped>\n",
              "    .dataframe tbody tr th:only-of-type {\n",
              "        vertical-align: middle;\n",
              "    }\n",
              "\n",
              "    .dataframe tbody tr th {\n",
              "        vertical-align: top;\n",
              "    }\n",
              "\n",
              "    .dataframe thead th {\n",
              "        text-align: right;\n",
              "    }\n",
              "</style>\n",
              "<table border=\"1\" class=\"dataframe\">\n",
              "  <thead>\n",
              "    <tr style=\"text-align: right;\">\n",
              "      <th></th>\n",
              "      <th>epoch</th>\n",
              "      <th>steps</th>\n",
              "      <th>cosine-Accuracy@1</th>\n",
              "      <th>cosine-Accuracy@3</th>\n",
              "      <th>cosine-Accuracy@5</th>\n",
              "      <th>cosine-Accuracy@10</th>\n",
              "      <th>cosine-Precision@1</th>\n",
              "      <th>cosine-Recall@1</th>\n",
              "      <th>cosine-Precision@3</th>\n",
              "      <th>cosine-Recall@3</th>\n",
              "      <th>cosine-Precision@5</th>\n",
              "      <th>cosine-Recall@5</th>\n",
              "      <th>cosine-Precision@10</th>\n",
              "      <th>cosine-Recall@10</th>\n",
              "      <th>cosine-MRR@10</th>\n",
              "      <th>cosine-NDCG@10</th>\n",
              "      <th>cosine-MAP@100</th>\n",
              "    </tr>\n",
              "    <tr>\n",
              "      <th>model</th>\n",
              "      <th></th>\n",
              "      <th></th>\n",
              "      <th></th>\n",
              "      <th></th>\n",
              "      <th></th>\n",
              "      <th></th>\n",
              "      <th></th>\n",
              "      <th></th>\n",
              "      <th></th>\n",
              "      <th></th>\n",
              "      <th></th>\n",
              "      <th></th>\n",
              "      <th></th>\n",
              "      <th></th>\n",
              "      <th></th>\n",
              "      <th></th>\n",
              "      <th></th>\n",
              "    </tr>\n",
              "  </thead>\n",
              "  <tbody>\n",
              "    <tr>\n",
              "      <th>bge</th>\n",
              "      <td>-1</td>\n",
              "      <td>-1</td>\n",
              "      <td>0.506711</td>\n",
              "      <td>0.714765</td>\n",
              "      <td>0.781879</td>\n",
              "      <td>0.828859</td>\n",
              "      <td>0.506711</td>\n",
              "      <td>0.506711</td>\n",
              "      <td>0.238255</td>\n",
              "      <td>0.714765</td>\n",
              "      <td>0.156376</td>\n",
              "      <td>0.781879</td>\n",
              "      <td>0.082886</td>\n",
              "      <td>0.828859</td>\n",
              "      <td>0.619815</td>\n",
              "      <td>0.671031</td>\n",
              "      <td>0.627960</td>\n",
              "    </tr>\n",
              "    <tr>\n",
              "      <th>fine_tuned</th>\n",
              "      <td>-1</td>\n",
              "      <td>-1</td>\n",
              "      <td>0.644295</td>\n",
              "      <td>0.788591</td>\n",
              "      <td>0.845638</td>\n",
              "      <td>0.895973</td>\n",
              "      <td>0.644295</td>\n",
              "      <td>0.644295</td>\n",
              "      <td>0.262864</td>\n",
              "      <td>0.788591</td>\n",
              "      <td>0.169128</td>\n",
              "      <td>0.845638</td>\n",
              "      <td>0.089597</td>\n",
              "      <td>0.895973</td>\n",
              "      <td>0.726899</td>\n",
              "      <td>0.767730</td>\n",
              "      <td>0.731367</td>\n",
              "    </tr>\n",
              "  </tbody>\n",
              "</table>\n",
              "</div>\n",
              "    <div class=\"colab-df-buttons\">\n",
              "\n",
              "  <div class=\"colab-df-container\">\n",
              "    <button class=\"colab-df-convert\" onclick=\"convertToInteractive('df-68594a85-b262-40a3-98ce-fcb267be6632')\"\n",
              "            title=\"Convert this dataframe to an interactive table.\"\n",
              "            style=\"display:none;\">\n",
              "\n",
              "  <svg xmlns=\"http://www.w3.org/2000/svg\" height=\"24px\" viewBox=\"0 -960 960 960\">\n",
              "    <path d=\"M120-120v-720h720v720H120Zm60-500h600v-160H180v160Zm220 220h160v-160H400v160Zm0 220h160v-160H400v160ZM180-400h160v-160H180v160Zm440 0h160v-160H620v160ZM180-180h160v-160H180v160Zm440 0h160v-160H620v160Z\"/>\n",
              "  </svg>\n",
              "    </button>\n",
              "\n",
              "  <style>\n",
              "    .colab-df-container {\n",
              "      display:flex;\n",
              "      gap: 12px;\n",
              "    }\n",
              "\n",
              "    .colab-df-convert {\n",
              "      background-color: #E8F0FE;\n",
              "      border: none;\n",
              "      border-radius: 50%;\n",
              "      cursor: pointer;\n",
              "      display: none;\n",
              "      fill: #1967D2;\n",
              "      height: 32px;\n",
              "      padding: 0 0 0 0;\n",
              "      width: 32px;\n",
              "    }\n",
              "\n",
              "    .colab-df-convert:hover {\n",
              "      background-color: #E2EBFA;\n",
              "      box-shadow: 0px 1px 2px rgba(60, 64, 67, 0.3), 0px 1px 3px 1px rgba(60, 64, 67, 0.15);\n",
              "      fill: #174EA6;\n",
              "    }\n",
              "\n",
              "    .colab-df-buttons div {\n",
              "      margin-bottom: 4px;\n",
              "    }\n",
              "\n",
              "    [theme=dark] .colab-df-convert {\n",
              "      background-color: #3B4455;\n",
              "      fill: #D2E3FC;\n",
              "    }\n",
              "\n",
              "    [theme=dark] .colab-df-convert:hover {\n",
              "      background-color: #434B5C;\n",
              "      box-shadow: 0px 1px 3px 1px rgba(0, 0, 0, 0.15);\n",
              "      filter: drop-shadow(0px 1px 2px rgba(0, 0, 0, 0.3));\n",
              "      fill: #FFFFFF;\n",
              "    }\n",
              "  </style>\n",
              "\n",
              "    <script>\n",
              "      const buttonEl =\n",
              "        document.querySelector('#df-68594a85-b262-40a3-98ce-fcb267be6632 button.colab-df-convert');\n",
              "      buttonEl.style.display =\n",
              "        google.colab.kernel.accessAllowed ? 'block' : 'none';\n",
              "\n",
              "      async function convertToInteractive(key) {\n",
              "        const element = document.querySelector('#df-68594a85-b262-40a3-98ce-fcb267be6632');\n",
              "        const dataTable =\n",
              "          await google.colab.kernel.invokeFunction('convertToInteractive',\n",
              "                                                    [key], {});\n",
              "        if (!dataTable) return;\n",
              "\n",
              "        const docLinkHtml = 'Like what you see? Visit the ' +\n",
              "          '<a target=\"_blank\" href=https://colab.research.google.com/notebooks/data_table.ipynb>data table notebook</a>'\n",
              "          + ' to learn more about interactive tables.';\n",
              "        element.innerHTML = '';\n",
              "        dataTable['output_type'] = 'display_data';\n",
              "        await google.colab.output.renderOutput(dataTable, element);\n",
              "        const docLink = document.createElement('div');\n",
              "        docLink.innerHTML = docLinkHtml;\n",
              "        element.appendChild(docLink);\n",
              "      }\n",
              "    </script>\n",
              "  </div>\n",
              "\n",
              "\n",
              "<div id=\"df-572ee554-57b8-4514-844c-33924278ed37\">\n",
              "  <button class=\"colab-df-quickchart\" onclick=\"quickchart('df-572ee554-57b8-4514-844c-33924278ed37')\"\n",
              "            title=\"Suggest charts\"\n",
              "            style=\"display:none;\">\n",
              "\n",
              "<svg xmlns=\"http://www.w3.org/2000/svg\" height=\"24px\"viewBox=\"0 0 24 24\"\n",
              "     width=\"24px\">\n",
              "    <g>\n",
              "        <path d=\"M19 3H5c-1.1 0-2 .9-2 2v14c0 1.1.9 2 2 2h14c1.1 0 2-.9 2-2V5c0-1.1-.9-2-2-2zM9 17H7v-7h2v7zm4 0h-2V7h2v10zm4 0h-2v-4h2v4z\"/>\n",
              "    </g>\n",
              "</svg>\n",
              "  </button>\n",
              "\n",
              "<style>\n",
              "  .colab-df-quickchart {\n",
              "      --bg-color: #E8F0FE;\n",
              "      --fill-color: #1967D2;\n",
              "      --hover-bg-color: #E2EBFA;\n",
              "      --hover-fill-color: #174EA6;\n",
              "      --disabled-fill-color: #AAA;\n",
              "      --disabled-bg-color: #DDD;\n",
              "  }\n",
              "\n",
              "  [theme=dark] .colab-df-quickchart {\n",
              "      --bg-color: #3B4455;\n",
              "      --fill-color: #D2E3FC;\n",
              "      --hover-bg-color: #434B5C;\n",
              "      --hover-fill-color: #FFFFFF;\n",
              "      --disabled-bg-color: #3B4455;\n",
              "      --disabled-fill-color: #666;\n",
              "  }\n",
              "\n",
              "  .colab-df-quickchart {\n",
              "    background-color: var(--bg-color);\n",
              "    border: none;\n",
              "    border-radius: 50%;\n",
              "    cursor: pointer;\n",
              "    display: none;\n",
              "    fill: var(--fill-color);\n",
              "    height: 32px;\n",
              "    padding: 0;\n",
              "    width: 32px;\n",
              "  }\n",
              "\n",
              "  .colab-df-quickchart:hover {\n",
              "    background-color: var(--hover-bg-color);\n",
              "    box-shadow: 0 1px 2px rgba(60, 64, 67, 0.3), 0 1px 3px 1px rgba(60, 64, 67, 0.15);\n",
              "    fill: var(--button-hover-fill-color);\n",
              "  }\n",
              "\n",
              "  .colab-df-quickchart-complete:disabled,\n",
              "  .colab-df-quickchart-complete:disabled:hover {\n",
              "    background-color: var(--disabled-bg-color);\n",
              "    fill: var(--disabled-fill-color);\n",
              "    box-shadow: none;\n",
              "  }\n",
              "\n",
              "  .colab-df-spinner {\n",
              "    border: 2px solid var(--fill-color);\n",
              "    border-color: transparent;\n",
              "    border-bottom-color: var(--fill-color);\n",
              "    animation:\n",
              "      spin 1s steps(1) infinite;\n",
              "  }\n",
              "\n",
              "  @keyframes spin {\n",
              "    0% {\n",
              "      border-color: transparent;\n",
              "      border-bottom-color: var(--fill-color);\n",
              "      border-left-color: var(--fill-color);\n",
              "    }\n",
              "    20% {\n",
              "      border-color: transparent;\n",
              "      border-left-color: var(--fill-color);\n",
              "      border-top-color: var(--fill-color);\n",
              "    }\n",
              "    30% {\n",
              "      border-color: transparent;\n",
              "      border-left-color: var(--fill-color);\n",
              "      border-top-color: var(--fill-color);\n",
              "      border-right-color: var(--fill-color);\n",
              "    }\n",
              "    40% {\n",
              "      border-color: transparent;\n",
              "      border-right-color: var(--fill-color);\n",
              "      border-top-color: var(--fill-color);\n",
              "    }\n",
              "    60% {\n",
              "      border-color: transparent;\n",
              "      border-right-color: var(--fill-color);\n",
              "    }\n",
              "    80% {\n",
              "      border-color: transparent;\n",
              "      border-right-color: var(--fill-color);\n",
              "      border-bottom-color: var(--fill-color);\n",
              "    }\n",
              "    90% {\n",
              "      border-color: transparent;\n",
              "      border-bottom-color: var(--fill-color);\n",
              "    }\n",
              "  }\n",
              "</style>\n",
              "\n",
              "  <script>\n",
              "    async function quickchart(key) {\n",
              "      const quickchartButtonEl =\n",
              "        document.querySelector('#' + key + ' button');\n",
              "      quickchartButtonEl.disabled = true;  // To prevent multiple clicks.\n",
              "      quickchartButtonEl.classList.add('colab-df-spinner');\n",
              "      try {\n",
              "        const charts = await google.colab.kernel.invokeFunction(\n",
              "            'suggestCharts', [key], {});\n",
              "      } catch (error) {\n",
              "        console.error('Error during call to suggestCharts:', error);\n",
              "      }\n",
              "      quickchartButtonEl.classList.remove('colab-df-spinner');\n",
              "      quickchartButtonEl.classList.add('colab-df-quickchart-complete');\n",
              "    }\n",
              "    (() => {\n",
              "      let quickchartButtonEl =\n",
              "        document.querySelector('#df-572ee554-57b8-4514-844c-33924278ed37 button');\n",
              "      quickchartButtonEl.style.display =\n",
              "        google.colab.kernel.accessAllowed ? 'block' : 'none';\n",
              "    })();\n",
              "  </script>\n",
              "</div>\n",
              "\n",
              "  <div id=\"id_8a070031-2183-4f3b-a50c-42f593dcd125\">\n",
              "    <style>\n",
              "      .colab-df-generate {\n",
              "        background-color: #E8F0FE;\n",
              "        border: none;\n",
              "        border-radius: 50%;\n",
              "        cursor: pointer;\n",
              "        display: none;\n",
              "        fill: #1967D2;\n",
              "        height: 32px;\n",
              "        padding: 0 0 0 0;\n",
              "        width: 32px;\n",
              "      }\n",
              "\n",
              "      .colab-df-generate:hover {\n",
              "        background-color: #E2EBFA;\n",
              "        box-shadow: 0px 1px 2px rgba(60, 64, 67, 0.3), 0px 1px 3px 1px rgba(60, 64, 67, 0.15);\n",
              "        fill: #174EA6;\n",
              "      }\n",
              "\n",
              "      [theme=dark] .colab-df-generate {\n",
              "        background-color: #3B4455;\n",
              "        fill: #D2E3FC;\n",
              "      }\n",
              "\n",
              "      [theme=dark] .colab-df-generate:hover {\n",
              "        background-color: #434B5C;\n",
              "        box-shadow: 0px 1px 3px 1px rgba(0, 0, 0, 0.15);\n",
              "        filter: drop-shadow(0px 1px 2px rgba(0, 0, 0, 0.3));\n",
              "        fill: #FFFFFF;\n",
              "      }\n",
              "    </style>\n",
              "    <button class=\"colab-df-generate\" onclick=\"generateWithVariable('df_st_all')\"\n",
              "            title=\"Generate code using this dataframe.\"\n",
              "            style=\"display:none;\">\n",
              "\n",
              "  <svg xmlns=\"http://www.w3.org/2000/svg\" height=\"24px\"viewBox=\"0 0 24 24\"\n",
              "       width=\"24px\">\n",
              "    <path d=\"M7,19H8.4L18.45,9,17,7.55,7,17.6ZM5,21V16.75L18.45,3.32a2,2,0,0,1,2.83,0l1.4,1.43a1.91,1.91,0,0,1,.58,1.4,1.91,1.91,0,0,1-.58,1.4L9.25,21ZM18.45,9,17,7.55Zm-12,3A5.31,5.31,0,0,0,4.9,8.1,5.31,5.31,0,0,0,1,6.5,5.31,5.31,0,0,0,4.9,4.9,5.31,5.31,0,0,0,6.5,1,5.31,5.31,0,0,0,8.1,4.9,5.31,5.31,0,0,0,12,6.5,5.46,5.46,0,0,0,6.5,12Z\"/>\n",
              "  </svg>\n",
              "    </button>\n",
              "    <script>\n",
              "      (() => {\n",
              "      const buttonEl =\n",
              "        document.querySelector('#id_8a070031-2183-4f3b-a50c-42f593dcd125 button.colab-df-generate');\n",
              "      buttonEl.style.display =\n",
              "        google.colab.kernel.accessAllowed ? 'block' : 'none';\n",
              "\n",
              "      buttonEl.onclick = () => {\n",
              "        google.colab.notebook.generateWithVariable('df_st_all');\n",
              "      }\n",
              "      })();\n",
              "    </script>\n",
              "  </div>\n",
              "\n",
              "    </div>\n",
              "  </div>\n"
            ],
            "application/vnd.google.colaboratory.intrinsic+json": {
              "type": "dataframe",
              "variable_name": "df_st_all",
              "summary": "{\n  \"name\": \"df_st_all\",\n  \"rows\": 2,\n  \"fields\": [\n    {\n      \"column\": \"model\",\n      \"properties\": {\n        \"dtype\": \"string\",\n        \"num_unique_values\": 2,\n        \"samples\": [\n          \"fine_tuned\",\n          \"bge\"\n        ],\n        \"semantic_type\": \"\",\n        \"description\": \"\"\n      }\n    },\n    {\n      \"column\": \"epoch\",\n      \"properties\": {\n        \"dtype\": \"number\",\n        \"std\": 0,\n        \"min\": -1,\n        \"max\": -1,\n        \"num_unique_values\": 1,\n        \"samples\": [\n          -1\n        ],\n        \"semantic_type\": \"\",\n        \"description\": \"\"\n      }\n    },\n    {\n      \"column\": \"steps\",\n      \"properties\": {\n        \"dtype\": \"number\",\n        \"std\": 0,\n        \"min\": -1,\n        \"max\": -1,\n        \"num_unique_values\": 1,\n        \"samples\": [\n          -1\n        ],\n        \"semantic_type\": \"\",\n        \"description\": \"\"\n      }\n    },\n    {\n      \"column\": \"cosine-Accuracy@1\",\n      \"properties\": {\n        \"dtype\": \"number\",\n        \"std\": 0.09728650345184041,\n        \"min\": 0.5067114093959731,\n        \"max\": 0.6442953020134228,\n        \"num_unique_values\": 2,\n        \"samples\": [\n          0.6442953020134228\n        ],\n        \"semantic_type\": \"\",\n        \"description\": \"\"\n      }\n    },\n    {\n      \"column\": \"cosine-Accuracy@3\",\n      \"properties\": {\n        \"dtype\": \"number\",\n        \"std\": 0.052202514047329014,\n        \"min\": 0.714765100671141,\n        \"max\": 0.7885906040268457,\n        \"num_unique_values\": 2,\n        \"samples\": [\n          0.7885906040268457\n        ],\n        \"semantic_type\": \"\",\n        \"description\": \"\"\n      }\n    },\n    {\n      \"column\": \"cosine-Accuracy@5\",\n      \"properties\": {\n        \"dtype\": \"number\",\n        \"std\": 0.045083989404511395,\n        \"min\": 0.7818791946308725,\n        \"max\": 0.8456375838926175,\n        \"num_unique_values\": 2,\n        \"samples\": [\n          0.8456375838926175\n        ],\n        \"semantic_type\": \"\",\n        \"description\": \"\"\n      }\n    },\n    {\n      \"column\": \"cosine-Accuracy@10\",\n      \"properties\": {\n        \"dtype\": \"number\",\n        \"std\": 0.04745683095211729,\n        \"min\": 0.8288590604026845,\n        \"max\": 0.8959731543624161,\n        \"num_unique_values\": 2,\n        \"samples\": [\n          0.8959731543624161\n        ],\n        \"semantic_type\": \"\",\n        \"description\": \"\"\n      }\n    },\n    {\n      \"column\": \"cosine-Precision@1\",\n      \"properties\": {\n        \"dtype\": \"number\",\n        \"std\": 0.09728650345184041,\n        \"min\": 0.5067114093959731,\n        \"max\": 0.6442953020134228,\n        \"num_unique_values\": 2,\n        \"samples\": [\n          0.6442953020134228\n        ],\n        \"semantic_type\": \"\",\n        \"description\": \"\"\n      }\n    },\n    {\n      \"column\": \"cosine-Recall@1\",\n      \"properties\": {\n        \"dtype\": \"number\",\n        \"std\": 0.09728650345184041,\n        \"min\": 0.5067114093959731,\n        \"max\": 0.6442953020134228,\n        \"num_unique_values\": 2,\n        \"samples\": [\n          0.6442953020134228\n        ],\n        \"semantic_type\": \"\",\n        \"description\": \"\"\n      }\n    },\n    {\n      \"column\": \"cosine-Precision@3\",\n      \"properties\": {\n        \"dtype\": \"number\",\n        \"std\": 0.017400838015776365,\n        \"min\": 0.2382550335570469,\n        \"max\": 0.2628635346756152,\n        \"num_unique_values\": 2,\n        \"samples\": [\n          0.2628635346756152\n        ],\n        \"semantic_type\": \"\",\n        \"description\": \"\"\n      }\n    },\n    {\n      \"column\": \"cosine-Recall@3\",\n      \"properties\": {\n        \"dtype\": \"number\",\n        \"std\": 0.052202514047329014,\n        \"min\": 0.714765100671141,\n        \"max\": 0.7885906040268457,\n        \"num_unique_values\": 2,\n        \"samples\": [\n          0.7885906040268457\n        ],\n        \"semantic_type\": \"\",\n        \"description\": \"\"\n      }\n    },\n    {\n      \"column\": \"cosine-Precision@5\",\n      \"properties\": {\n        \"dtype\": \"number\",\n        \"std\": 0.009016797880902221,\n        \"min\": 0.1563758389261745,\n        \"max\": 0.1691275167785234,\n        \"num_unique_values\": 2,\n        \"samples\": [\n          0.1691275167785234\n        ],\n        \"semantic_type\": \"\",\n        \"description\": \"\"\n      }\n    },\n    {\n      \"column\": \"cosine-Recall@5\",\n      \"properties\": {\n        \"dtype\": \"number\",\n        \"std\": 0.045083989404511395,\n        \"min\": 0.7818791946308725,\n        \"max\": 0.8456375838926175,\n        \"num_unique_values\": 2,\n        \"samples\": [\n          0.8456375838926175\n        ],\n        \"semantic_type\": \"\",\n        \"description\": \"\"\n      }\n    },\n    {\n      \"column\": \"cosine-Precision@10\",\n      \"properties\": {\n        \"dtype\": \"number\",\n        \"std\": 0.004745683095211761,\n        \"min\": 0.0828859060402684,\n        \"max\": 0.0895973154362416,\n        \"num_unique_values\": 2,\n        \"samples\": [\n          0.0895973154362416\n        ],\n        \"semantic_type\": \"\",\n        \"description\": \"\"\n      }\n    },\n    {\n      \"column\": \"cosine-Recall@10\",\n      \"properties\": {\n        \"dtype\": \"number\",\n        \"std\": 0.04745683095211729,\n        \"min\": 0.8288590604026845,\n        \"max\": 0.8959731543624161,\n        \"num_unique_values\": 2,\n        \"samples\": [\n          0.8959731543624161\n        ],\n        \"semantic_type\": \"\",\n        \"description\": \"\"\n      }\n    },\n    {\n      \"column\": \"cosine-MRR@10\",\n      \"properties\": {\n        \"dtype\": \"number\",\n        \"std\": 0.07572001027471134,\n        \"min\": 0.619814637264302,\n        \"max\": 0.7268989027378289,\n        \"num_unique_values\": 2,\n        \"samples\": [\n          0.7268989027378289\n        ],\n        \"semantic_type\": \"\",\n        \"description\": \"\"\n      }\n    },\n    {\n      \"column\": \"cosine-NDCG@10\",\n      \"properties\": {\n        \"dtype\": \"number\",\n        \"std\": 0.06837612344928314,\n        \"min\": 0.6710313851865369,\n        \"max\": 0.7677298263110102,\n        \"num_unique_values\": 2,\n        \"samples\": [\n          0.7677298263110102\n        ],\n        \"semantic_type\": \"\",\n        \"description\": \"\"\n      }\n    },\n    {\n      \"column\": \"cosine-MAP@100\",\n      \"properties\": {\n        \"dtype\": \"number\",\n        \"std\": 0.07311967370981132,\n        \"min\": 0.6279603491960256,\n        \"max\": 0.7313671834327362,\n        \"num_unique_values\": 2,\n        \"samples\": [\n          0.7313671834327362\n        ],\n        \"semantic_type\": \"\",\n        \"description\": \"\"\n      }\n    }\n  ]\n}"
            }
          },
          "metadata": {},
          "execution_count": 45
        }
      ]
    },
    {
      "cell_type": "markdown",
      "source": [
        "##### 👪❓Discussion Question #2:\n",
        "\n",
        "Discuss the results with your group!"
      ],
      "metadata": {
        "id": "Cb4Mpdq_eQbV"
      }
    }
  ]
}